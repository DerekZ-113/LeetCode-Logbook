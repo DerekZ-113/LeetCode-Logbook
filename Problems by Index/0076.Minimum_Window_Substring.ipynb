{
 "cells": [
  {
   "cell_type": "markdown",
   "id": "ba1369f0",
   "metadata": {},
   "source": [
    "### 🔍 76 Minimum Window Substring\n",
    "\n",
    "Given two strings `s` and `t`, return the minimum window in `s` which contains all the characters from `t`. If no such window exists, return the empty string `\"\"`.\n",
    "\n",
    "The returned window must have **all characters from `t` with correct frequency** — not just a subset or in any order.\n",
    "\n",
    "### 🧠 Approach\n",
    "\n",
    "This is a classic **sliding window** problem.\n",
    "\n",
    "1. **Track character frequency** of `t` using a `need` hash map.\n",
    "2. Slide a window using two pointers `left` and `right`:\n",
    "   - Expand the window by moving `right`\n",
    "   - When all required characters are present in the window, **contract** from the left to minimize\n",
    "3. Use a `valid` counter to track how many characters in the window match the required counts.\n",
    "4. Keep updating the best (shortest) valid window as you go.\n",
    "\n",
    "### ✅ Time & Space Complexity\n",
    "\n",
    "- **Time:** O(n) — each character is visited at most twice (once by `right`, once by `left`)\n",
    "- **Space:** O(k) — where `k` is the number of unique characters in `t`"
   ]
  },
  {
   "cell_type": "code",
   "execution_count": 1,
   "id": "4ac8092f",
   "metadata": {},
   "outputs": [],
   "source": [
    "import collections\n",
    "\n",
    "class Solution:\n",
    "    def minWindow(self, s: str, t: str) -> str:\n",
    "        if not s or not t:\n",
    "            return \"\"\n",
    "\n",
    "        # Dictionary to count the frequency of characters in t\n",
    "        need = collections.defaultdict(int)\n",
    "        # Dictionary to count the frequency of characters in the current window\n",
    "        window = collections.defaultdict(int)\n",
    "\n",
    "        # Count the frequency of characters in t \n",
    "        for ch in t:\n",
    "            need[ch] += 1\n",
    "\n",
    "        # Initialize the sliding window\n",
    "        # left and right pointers, valid count, start index, and size of the minimum window\n",
    "        left, right = 0, 0\n",
    "\n",
    "        # valid count of characters that match the need\n",
    "        valid = 0\n",
    "        # start index of the minimum window and its size\n",
    "        start = 0\n",
    "        # size of the minimum window, initialized to a value larger than any possible window\n",
    "        size = len(s) + 1\n",
    "\n",
    "        # Start sliding the window\n",
    "        while right < len(s):\n",
    "            # Expand the window by moving the right pointer\n",
    "            insert_ch = s[right]\n",
    "            right += 1\n",
    "\n",
    "            # If the character is in need, update the window and valid count\n",
    "            if insert_ch in need:\n",
    "                window[insert_ch] += 1\n",
    "                if window[insert_ch] == need[insert_ch]:\n",
    "                    valid += 1\n",
    "\n",
    "            # Try to contract the window from the left\n",
    "            while valid == len(need):\n",
    "                # Update the minimum window size and start index\n",
    "                if right - left < size:\n",
    "                    start = left\n",
    "                    size = right - left\n",
    "\n",
    "                # Remove the character at the left pointer from the window\n",
    "                remove_ch = s[left]\n",
    "                # Move the left pointer to the right\n",
    "                left += 1\n",
    "\n",
    "                # If the character is in need, update the window and valid count\n",
    "                # If the character count in the window is less than needed, decrease valid count\n",
    "                if remove_ch in need:\n",
    "                    # Check if the character count in the window matches the need\n",
    "                    if window[remove_ch] == need[remove_ch]:\n",
    "                        valid -= 1\n",
    "                    window[remove_ch] -= 1\n",
    "\n",
    "        # If no valid window was found, return an empty string\n",
    "        if size == len(s) + 1:\n",
    "            return \"\"\n",
    "\n",
    "        # Return the minimum window substring\n",
    "        return s[start:start + size]"
   ]
  },
  {
   "cell_type": "code",
   "execution_count": 3,
   "id": "ce58a5b1",
   "metadata": {},
   "outputs": [
    {
     "name": "stdout",
     "output_type": "stream",
     "text": [
      "JKNFZ\n"
     ]
    }
   ],
   "source": [
    "sol = Solution()\n",
    "result = sol.minWindow(\"ABOFEIFDBJKNFZDFSOD\", \"FJZ\")\n",
    "print(result)"
   ]
  }
 ],
 "metadata": {
  "kernelspec": {
   "display_name": "Python 3",
   "language": "python",
   "name": "python3"
  },
  "language_info": {
   "codemirror_mode": {
    "name": "ipython",
    "version": 3
   },
   "file_extension": ".py",
   "mimetype": "text/x-python",
   "name": "python",
   "nbconvert_exporter": "python",
   "pygments_lexer": "ipython3",
   "version": "3.13.0"
  }
 },
 "nbformat": 4,
 "nbformat_minor": 5
}
