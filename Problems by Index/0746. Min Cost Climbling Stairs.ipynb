{
 "cells": [
  {
   "cell_type": "markdown",
   "id": "c78ec226",
   "metadata": {},
   "source": [
    "### 🧗‍♂️ 746. Min Cost Climbing Stairs — Description & Approach\n",
    "\n",
    "You're given an array `cost` where `cost[i]` is the cost of stepping on the `i-th` stair.  \n",
    "You can start at either step 0 or step 1. You can climb either 1 or 2 steps at a time.  \n",
    "The goal is to reach the **\"top floor\"**, which is *just past the last index*, at **minimum total cost**.\n",
    "\n",
    "### 🧠 Approach\n",
    "\n",
    "We use **Dynamic Programming** with a space-optimized solution.\n",
    "\n",
    "- Let `prev2` represent the min cost to reach two steps back.\n",
    "- Let `prev1` represent the min cost to reach one step back.\n",
    "- At each step `i`, we compute the min cost to reach step `i`:\n",
    "  ```python\n",
    "  current = min(prev1 + cost[i - 1], prev2 + cost[i - 2])\n",
    "  ```\n",
    "\n",
    "- We roll the values forward using:\n",
    "  ```python\n",
    "  prev2, prev1 = prev1, current\n",
    "  ```\n",
    "\n",
    "- The loop runs from `2` to `n` (inclusive), because we want the cost to step **off** the last stair.\n",
    "\n",
    "### 🔚 Return\n",
    "We return `prev1` which will represent the min cost to reach the top of the floor."
   ]
  },
  {
   "cell_type": "code",
   "execution_count": null,
   "id": "8d75607d",
   "metadata": {},
   "outputs": [],
   "source": [
    "class Solution:\n",
    "    def minCostClimbingStairs(self, cost: List[int]) -> int:\n",
    "        n = len(cost)\n",
    "        # prev 2 step's min cost in total\n",
    "        prev2 = 0\n",
    "        # prev 1 step's min cost in total\n",
    "        prev1 = 0\n",
    "\n",
    "        for i in range(2, n + 1):\n",
    "            # current step is the smaller cost of the either steps + their cost\n",
    "            current = min(prev1 + cost[i - 1], prev2 + cost[i - 2])\n",
    "            # rolling forward values\n",
    "            prev2, prev1 = prev1, current\n",
    "\n",
    "        return prev1"
   ]
  },
  {
   "cell_type": "markdown",
   "id": "7009e672",
   "metadata": {},
   "source": [
    "### 🧩 Key Concepts Recap\n",
    "\n",
    "- **Dynamic Programming**:\n",
    "  - Breaks the problem into subproblems — each step depends on the minimum cost to the previous two steps.\n",
    "\n",
    "- **State Definition**:\n",
    "  - `dp[i] = min cost to reach step i`\n",
    "  - Final goal: reach step `n` (past the last index)\n",
    "\n",
    "- **Transition Formula**:\n",
    "  ```python\n",
    "  dp[i] = min(dp[i-1] + cost[i-1], dp[i-2] + cost[i-2])\n",
    "  ```\n",
    "\n",
    "- **Space Optimization**:\n",
    "  - Only track two states: `prev2` and `prev1`\n",
    "\n",
    "- **Why loop to `n + 1`?**:\n",
    "  - We're trying to get *past* the last step — the top floor is one step beyond `len(cost)`"
   ]
  }
 ],
 "metadata": {
  "language_info": {
   "name": "python"
  }
 },
 "nbformat": 4,
 "nbformat_minor": 5
}
