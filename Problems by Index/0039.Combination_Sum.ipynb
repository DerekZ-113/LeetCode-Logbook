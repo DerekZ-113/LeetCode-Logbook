{
 "cells": [
  {
   "cell_type": "markdown",
   "id": "beff2c5c",
   "metadata": {},
   "source": [
    "### 🔢 39. Combination Sum\n",
    "\n",
    "Given a list of **distinct integers** `candidates` and a **target integer** `target`, return **all unique combinations** of candidates where the numbers sum to `target`.  \n",
    "Each number in `candidates` may be **used an unlimited number of times**.\n",
    "\n",
    "### 🧠 Approach\n",
    "\n",
    "Use **backtracking (DFS)** to explore all valid combinations.\n",
    "\n",
    "1. Start from index `0`, and recursively build combinations.\n",
    "2. At each step:\n",
    "   - **Include** the current number\n",
    "   - **Recurse** without moving forward (since we can reuse numbers)\n",
    "   - **Backtrack** by removing the last added number\n",
    "3. Base cases:\n",
    "   - If the total equals target → save a **copy** of the current path\n",
    "   - If the total exceeds target → return early (prune path)\n",
    "\n",
    "### ✅ Time & Space Complexity\n",
    "\n",
    "- **Time:** Exponential in the worst case — O(2^T) where T = target\n",
    "- **Space:** O(T) recursion depth + space for result combinations"
   ]
  },
  {
   "cell_type": "code",
   "execution_count": null,
   "id": "cdf6955b",
   "metadata": {},
   "outputs": [],
   "source": [
    "class Solution:\n",
    "    def combinationSum(self, candidates: List[int], target: int) -> List[List[int]]:\n",
    "        result = []\n",
    "\n",
    "        def dfs(start: int, path: list[int], total: int) -> None:\n",
    "            # Find a valid path\n",
    "            if total == target:\n",
    "                # Simple copy the valid path to result\n",
    "                result.append(path[:])\n",
    "                return\n",
    "\n",
    "            # Invalid path, sum is too large\n",
    "            if total > target:\n",
    "                return\n",
    "\n",
    "            for i in range(start, len(candidates)):\n",
    "                # Add the number to the path\n",
    "                # Dynamically update the path\n",
    "                path.append(candidates[i])\n",
    "                # Recursively call dfs on adding the number to total\n",
    "                dfs(i, path, total + candidates[i])\n",
    "                # Backtrack, pop the number from the path\n",
    "                path.pop()\n",
    "\n",
    "        dfs(0, [], 0)\n",
    "        return result"
   ]
  },
  {
   "cell_type": "markdown",
   "id": "8bcb9f97",
   "metadata": {},
   "source": [
    "### 🔑 Key Concepts Recap\n",
    "\n",
    "- **Backtracking**: Core pattern — add, recurse, remove.\n",
    "- **Reuse same element**: Recurse with the **same index**, not `i+1`.\n",
    "- **Avoid duplicates**: Only move forward in index; never go back.\n",
    "- **Path list**:\n",
    "  - Passed by reference.\n",
    "  - Use `path[:]` to save a copy when storing a valid result.\n",
    "- **Different from Coin Change**:\n",
    "  - Coin Change usually returns count or min number (int).\n",
    "  - Combination Sum returns all valid **combinations** (List[List[int]]).\n",
    "  - Top-down DP with memo is possible but less intuitive than backtracking."
   ]
  }
 ],
 "metadata": {
  "language_info": {
   "name": "python"
  }
 },
 "nbformat": 4,
 "nbformat_minor": 5
}
