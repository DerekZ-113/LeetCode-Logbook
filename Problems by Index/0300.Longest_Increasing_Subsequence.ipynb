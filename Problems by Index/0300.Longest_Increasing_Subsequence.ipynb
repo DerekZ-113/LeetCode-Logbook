{
 "cells": [
  {
   "cell_type": "markdown",
   "id": "24449c94",
   "metadata": {},
   "source": [
    "### 🧾 Description / Approach\n",
    "\n",
    "Given an array of integers `nums`, the task is to return the **length of the longest increasing subsequence (LIS)**.\n",
    "\n",
    "There are **two main approaches**:\n",
    "\n",
    "#### 🧱 Dynamic Programming (O(n²) Time)\n",
    "1. Create a `dp` array initialized to 1, because the minimum LIS ending at any index is 1.\n",
    "2. For each index `i`, look back at every `j < i`:\n",
    "   - If `nums[j] < nums[i]`, it means we can extend the subsequence.\n",
    "   - Update `dp[i] = max(dp[i], dp[j] + 1)`\n",
    "3. Return `max(dp)` as the length of LIS.\n",
    "\n",
    "#### ⚡ Patience Sorting (O(n log n) Time)\n",
    "1. Use a list `sub` to track the smallest possible tail of increasing subsequences.\n",
    "2. For each number:\n",
    "   - Use `bisect_left` to find the position it should go in `sub`.\n",
    "   - If it's greater than all elements, append it.\n",
    "   - Else, replace the element at the found index.\n",
    "3. Return the length of `sub`, which gives the LIS length.\n",
    "\n",
    "Note: This does not recover the actual sequence, just its length — which is what the problem asks."
   ]
  },
  {
   "cell_type": "code",
   "execution_count": null,
   "id": "995146d2",
   "metadata": {},
   "outputs": [],
   "source": [
    "class Solution:\n",
    "    def lengthOfLIS(self, nums: List[int]) -> int:\n",
    "        # Initialize every value with 1, since each number can be an increase subsequence by itself\n",
    "        dp = [1] * len(nums)\n",
    "\n",
    "        for i in range(len(nums)):\n",
    "            # Compare every number before i\n",
    "            for j in range(i):\n",
    "                # If j < i, that's a valid increasing subsequence\n",
    "                if nums[j] < nums[i]:\n",
    "                    # Update the value in dp\n",
    "                    dp[i] = max(dp[i], dp[j] + 1)\n",
    "\n",
    "        return max(dp)"
   ]
  },
  {
   "cell_type": "code",
   "execution_count": null,
   "id": "a1d11cc2",
   "metadata": {},
   "outputs": [],
   "source": [
    "import bisect\n",
    "\n",
    "sub = []\n",
    "for num in nums:\n",
    "    i = bisect.bisect_left(sub, num)\n",
    "    if i == len(sub):\n",
    "        sub.append(num)\n",
    "    else:\n",
    "        sub[i] = num"
   ]
  },
  {
   "cell_type": "markdown",
   "id": "11097ac8",
   "metadata": {},
   "source": [
    "### 🧠 Key Concepts Recap\n",
    "\n",
    "- **Subsequence**: A sequence derived by deleting some or no elements without changing the order.\n",
    "- **DP (O(n²))**:\n",
    "  - State: `dp[i]` = LIS ending at index `i`.\n",
    "  - Transition: Look back at previous values to extend sequences.\n",
    "- **Patience Sorting (O(n log n))**:\n",
    "  - Uses binary search to place elements efficiently.\n",
    "  - Not an actual sort, but mimics sorting piles in card games.\n",
    "- **Binary Search with `bisect_left`**:\n",
    "  - Finds the leftmost position to insert the current number.\n",
    "  - Guarantees increasing order in `sub`.\n",
    "\n",
    "- **Time & Space Complexity**:\n",
    "  - DP: `O(n²)` time, `O(n)` space.\n",
    "  - Patience Sorting: `O(n log n)` time, `O(n)` space."
   ]
  }
 ],
 "metadata": {
  "language_info": {
   "name": "python"
  }
 },
 "nbformat": 4,
 "nbformat_minor": 5
}
