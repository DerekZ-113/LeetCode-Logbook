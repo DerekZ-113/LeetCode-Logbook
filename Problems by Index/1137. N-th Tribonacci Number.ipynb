{
 "cells": [
  {
   "cell_type": "markdown",
   "id": "5317089f",
   "metadata": {},
   "source": [
    "## 1137. N-th Tribonacci Number\n",
    "\n",
    "### 📝 Description\n",
    "The Tribonacci sequence is defined as:\n",
    "\n",
    "- `T₀ = 0`, `T₁ = 1`, `T₂ = 1`\n",
    "- For `n ≥ 3`,  \n",
    "  `Tₙ = Tₙ₋₁ + Tₙ₋₂ + Tₙ₋₃`\n",
    "\n",
    "Given `n`, return the value of `Tₙ`.\n",
    "\n",
    "---\n",
    "\n",
    "### ⚙️ Approach\n",
    "Use an **iterative dynamic programming** approach with **three variables** to store the last three values of the sequence:\n",
    "\n",
    "1. Handle base cases directly (`n == 0`, `n == 1`, `n == 2`).\n",
    "2. Initialize three variables:\n",
    "   - `a` for T₀ (0)\n",
    "   - `b` for T₁ (1)\n",
    "   - `c` for T₂ (1)\n",
    "3. Iterate from 3 to `n`, updating the values:\n",
    "   - At each step: `a, b, c = b, c, a + b + c`\n",
    "4. Return the `a` value at the end, which will hold `Tₙ`.\n",
    "\n",
    "---\n",
    "\n",
    "### 🧠 Key Concepts\n",
    "- **Tribonacci Relation**:\n",
    "  - Similar to Fibonacci, but each term depends on the previous **three**.\n",
    "- **Optimized Space**:\n",
    "  - Only three variables are needed (O(1) space).\n",
    "- **Time Complexity**: O(n)\n",
    "- **Space Complexity**: O(1)\n",
    "\n",
    "---\n",
    "\n",
    "### 🔍 Example\n",
    "```python\n",
    "Input: n = 4\n",
    "\n",
    "T₃ = 0 + 1 + 1 = 2  \n",
    "T₄ = 1 + 1 + 2 = 4\n",
    "\n",
    "Output: 4"
   ]
  },
  {
   "cell_type": "code",
   "execution_count": null,
   "id": "f8e00215",
   "metadata": {},
   "outputs": [],
   "source": [
    "class Solution:\n",
    "    def tribonacci(self, n: int) -> int:\n",
    "        a, b, c = 0, 1, 1\n",
    "\n",
    "        if n == 0:\n",
    "            return 0\n",
    "        if n == 1 or n == 2:\n",
    "            return 1\n",
    "\n",
    "        for _ in range(3, n + 1):\n",
    "            a, b, c = b, c, a + b + c\n",
    "\n",
    "        return c"
   ]
  },
  {
   "cell_type": "code",
   "execution_count": null,
   "id": "cbb97b08",
   "metadata": {},
   "outputs": [],
   "source": [
    "class Solution:\n",
    "    def tribonacci(self, n: int) -> int:\n",
    "        a, b, c = 0, 1, 1\n",
    "\n",
    "        if n == 0:\n",
    "            return 0\n",
    "        if n == 1 or n == 2:\n",
    "            return 1\n",
    "\n",
    "        for _ in range(n):\n",
    "            a, b, c = b, c, a + b + c\n",
    "\n",
    "        return a"
   ]
  }
 ],
 "metadata": {
  "language_info": {
   "name": "python"
  }
 },
 "nbformat": 4,
 "nbformat_minor": 5
}
