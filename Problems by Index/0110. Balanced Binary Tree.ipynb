{
 "cells": [
  {
   "cell_type": "code",
   "execution_count": null,
   "id": "e8f63059",
   "metadata": {},
   "outputs": [],
   "source": [
    "# Definition for a binary tree node.\n",
    "# class TreeNode:\n",
    "#     def __init__(self, val=0, left=None, right=None):\n",
    "#         self.val = val\n",
    "#         self.left = left\n",
    "#         self.right = right\n",
    "class Solution:\n",
    "    def isBalanced(self, root: Optional[TreeNode]) -> bool:\n",
    "        def check_balance(node):\n",
    "            if not node:\n",
    "                return 0\n",
    "\n",
    "            left = check_balance(node.left)\n",
    "            right = check_balance(node.right)\n",
    "\n",
    "            if left == -1 or right == -1:\n",
    "                return -1 \n",
    "\n",
    "            if abs(left - right) > 1:\n",
    "                return -1\n",
    "\n",
    "            return 1 + max(left, right)\n",
    "\n",
    "        return check_balance(root) != -1"
   ]
  }
 ],
 "metadata": {
  "language_info": {
   "name": "python"
  }
 },
 "nbformat": 4,
 "nbformat_minor": 5
}
