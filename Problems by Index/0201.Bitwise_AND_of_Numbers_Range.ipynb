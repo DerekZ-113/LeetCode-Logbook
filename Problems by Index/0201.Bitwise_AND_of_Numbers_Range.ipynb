{
 "cells": [
  {
   "cell_type": "markdown",
   "id": "63f1bc9c",
   "metadata": {},
   "source": [
    "### 🧠 Description / Approach\n",
    "\n",
    "**Problem**:  \n",
    "Given two integers `left` and `right`, return the bitwise AND of all numbers in the range `[left, right]`, inclusive.\n",
    "\n",
    "**Approach**:  \n",
    "We observe that the bitwise AND across a range zeroes out all the *changing* bits.\n",
    "\n",
    "1. Shift both `left` and `right` to the right **until they are equal**. This removes all differing lower bits.\n",
    "2. Count how many times we shift — this is how many bits we need to append back as zeroes.\n",
    "3. Left-shift the final common prefix back to restore the original bit-length.\n",
    "\n",
    "This way, we isolate the **common bit prefix**, which is the only part that survives bitwise AND."
   ]
  },
  {
   "cell_type": "code",
   "execution_count": null,
   "id": "0e3eb3b0",
   "metadata": {},
   "outputs": [],
   "source": [
    "class Solution:\n",
    "    def rangeBitwiseAnd(self, left: int, right: int) -> int:\n",
    "        i = 0\n",
    "        while left != right:\n",
    "            left >>= 1\n",
    "            right >>= 1\n",
    "\n",
    "            i += 1\n",
    "\n",
    "        return left << i"
   ]
  },
  {
   "cell_type": "markdown",
   "id": "92e9b5d9",
   "metadata": {},
   "source": [
    "### 🧩 Key Concepts Recap\n",
    "\n",
    "- **Bitwise AND Behavior**: Any bit that changes in the range will be zeroed out.\n",
    "- **Common Prefix**: We keep shifting until `left == right` — meaning we found the common prefix.\n",
    "- **Right Shift (`>>`)**: Removes the least significant bit.\n",
    "- **Left Shift (`<<`)**: Restores bit position after trimming.\n",
    "- **Time Complexity**: `O(1)` — at most 32 shifts for 32-bit integers.\n",
    "- **Space Complexity**: `O(1)` — only a few variables.\n",
    "\n",
    "This is a clever use of binary properties. It’s one of those elegant “binary trick” problems where understanding the underlying bit pattern gives you a powerful shortcut."
   ]
  }
 ],
 "metadata": {
  "language_info": {
   "name": "python"
  }
 },
 "nbformat": 4,
 "nbformat_minor": 5
}
