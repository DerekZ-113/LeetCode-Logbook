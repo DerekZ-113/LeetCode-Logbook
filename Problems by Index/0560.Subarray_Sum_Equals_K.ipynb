{
 "cells": [
  {
   "cell_type": "markdown",
   "id": "68af4130",
   "metadata": {},
   "source": [
    "## 🧩 Problem: Subarray Sum Equals K\n",
    "\n",
    "Given an integer array `nums` and an integer `k`, return the total number of **continuous subarrays** whose sum equals to `k`.\n",
    "\n",
    "### 🔍 Approach: Prefix Sum + Hash Map\n",
    "\n",
    "We use **prefix sums** to keep track of the cumulative sum up to the current index. The core idea is:\n",
    "\n",
    "- A subarray `nums[i..j]` has sum `k` if the **difference** between the prefix sum at `j` and some earlier prefix sum at `i - 1` is `k`.\n",
    "- Mathematically:  \n",
    "  `prefix[j] - prefix[i-1] == k`  \n",
    "  → `prefix[i-1] == prefix[j] - k`\n",
    "\n",
    "To check if such a prefix has occurred before, we use a hashmap (`prefix_sum`) to store how many times each prefix sum has been seen.\n",
    "\n",
    "We initialize `prefix_sum[0] = 1` to account for any subarray that starts from index 0."
   ]
  },
  {
   "cell_type": "code",
   "execution_count": null,
   "id": "9090cfb4",
   "metadata": {},
   "outputs": [],
   "source": [
    "from collections import defaultdict\n",
    "\n",
    "class Solution:\n",
    "    def subarraySum(self, nums: List[int], k: int) -> int:\n",
    "        prefix = 0        # Running prefix sum\n",
    "        result = 0        # Total count of valid subarrays\n",
    "\n",
    "        # HashMap to store frequency of prefix sums\n",
    "        prefix_sum = defaultdict(int)\n",
    "        prefix_sum[0] = 1  # Base case: empty prefix sums to 0\n",
    "\n",
    "        for num in nums:\n",
    "            prefix += num               # Update running prefix sum\n",
    "            current = prefix - k        # Check if this sum has been seen before\n",
    "\n",
    "            result += prefix_sum[current]  # If so, add its frequency to result\n",
    "\n",
    "            prefix_sum[prefix] += 1     # Record current prefix sum for future\n",
    "\n",
    "        return result"
   ]
  },
  {
   "cell_type": "markdown",
   "id": "9fca9abe",
   "metadata": {},
   "source": [
    "## 🧠 Key Concepts Recap\n",
    "\n",
    "- **Prefix Sum**: Running total of elements seen so far.\n",
    "- **Prefix Sum Trick**: The sum of subarray `i..j` is `prefix[j] - prefix[i-1]`.\n",
    "- **Hash Map (`prefix_sum`)**: Stores how many times each prefix sum has occurred.\n",
    "- **Main Condition**: If `prefix - k` has been seen before, it means there's a subarray ending at the current index that sums to `k`.\n",
    "- **Initialization `prefix_sum[0] = 1`**: Crucial for counting subarrays that start at index 0.\n",
    "- **Time Complexity**: O(n)\n",
    "- **Space Complexity**: O(n)"
   ]
  }
 ],
 "metadata": {
  "language_info": {
   "name": "python"
  }
 },
 "nbformat": 4,
 "nbformat_minor": 5
}
