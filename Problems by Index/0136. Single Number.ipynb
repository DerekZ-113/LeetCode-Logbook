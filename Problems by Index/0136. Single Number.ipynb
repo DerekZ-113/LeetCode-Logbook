{
 "cells": [
  {
   "cell_type": "markdown",
   "id": "4f34502e",
   "metadata": {},
   "source": [
    "### 🧩 Problem: 136. Single Number\n",
    "\n",
    "You are given a non-empty list of integers `nums` where every element appears **twice**, except for one element that appears **only once**. Your task is to find and return that single element.\n",
    "\n",
    "There are two main approaches to solve this problem:\n",
    "\n",
    "#### ✅ Approach 1: Bit Manipulation (XOR)\n",
    "\n",
    "- Use the XOR operator (`^`) to cancel out numbers that appear twice.\n",
    "- Properties used:\n",
    "  - `a ^ a = 0`\n",
    "  - `a ^ 0 = a`\n",
    "- If you XOR all the numbers in the array, the duplicate elements cancel out, and you're left with the single number.\n",
    "\n",
    "#### ✅ Approach 2: Set Tracking\n",
    "\n",
    "- Use a `set` to add elements when first seen.\n",
    "- If the number is already in the set, remove it.\n",
    "- After processing the entire list, only the unique number remains in the set."
   ]
  },
  {
   "cell_type": "code",
   "execution_count": null,
   "id": "d11e3150",
   "metadata": {},
   "outputs": [],
   "source": [
    "class Solution:\n",
    "    def singleNumber(self, nums: List[int]) -> int:\n",
    "        x = 0\n",
    "\n",
    "        for i in range(len(nums)):\n",
    "            x = x ^ nums[i]\n",
    "\n",
    "        return x"
   ]
  },
  {
   "cell_type": "markdown",
   "id": "0364d9c3",
   "metadata": {},
   "source": [
    "### 🔑 Key Concepts — XOR (Bit Manipulation)\n",
    "\n",
    "- **XOR is its own inverse**:  \n",
    "  `a ^ a = 0`, `a ^ 0 = a`\n",
    "- **Commutative & Associative**:  \n",
    "  The order of XORing does not matter.\n",
    "- **Space efficient**:  \n",
    "  Constant space usage, only one variable needed.\n",
    "- **Time Complexity**:  \n",
    "  `O(n)` time, `O(1)` space\n",
    "\n",
    "#### 🔍 Example\n",
    "\n",
    "Input: `nums = [4, 1, 2, 1, 2]`  \n",
    "x = 0  \n",
    "x ^= 4 → 4  \n",
    "x ^= 1 → 5  \n",
    "x ^= 2 → 7  \n",
    "x ^= 1 → 6  \n",
    "x ^= 2 → 4  \n",
    "Output: `4`"
   ]
  },
  {
   "cell_type": "code",
   "execution_count": null,
   "id": "127c31b4",
   "metadata": {},
   "outputs": [],
   "source": [
    "class Solution:\n",
    "    def singleNumber(self, nums: List[int]) -> int:\n",
    "        record = set()\n",
    "\n",
    "        for i in range(len(nums)):\n",
    "            if nums[i] not in record:\n",
    "                record.add(nums[i])\n",
    "            else:\n",
    "                record.remove(nums[i])\n",
    "\n",
    "        return record.pop()"
   ]
  },
  {
   "cell_type": "markdown",
   "id": "813be07a",
   "metadata": {},
   "source": [
    "### 🔑 Key Concepts — Set Approach\n",
    "\n",
    "- **Set operations**:\n",
    "  - Add unseen number to the set.\n",
    "  - Remove if the number is already present.\n",
    "- At the end, the set holds the one number that was never removed.\n",
    "- **Time Complexity**:  \n",
    "  `O(n)` time, `O(n)` space (due to extra memory for the set)\n",
    "\n",
    "#### 🔍 Example\n",
    "\n",
    "Input: `nums = [4, 1, 2, 1, 2]`  \n",
    "record = {}  \n",
    "add 4 → {4}  \n",
    "add 1 → {1, 4}  \n",
    "add 2 → {1, 2, 4}  \n",
    "remove 1 → {2, 4}  \n",
    "remove 2 → {4}  \n",
    "Output: `4`  "
   ]
  }
 ],
 "metadata": {
  "language_info": {
   "name": "python"
  }
 },
 "nbformat": 4,
 "nbformat_minor": 5
}
