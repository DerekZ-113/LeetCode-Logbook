{
 "cells": [
  {
   "cell_type": "markdown",
   "id": "9fa74cce",
   "metadata": {},
   "source": [
    "### 🔍 191 Number of 1 Bits\n",
    "\n",
    "Given an unsigned 32-bit integer n, return the number of '1' bits in its binary representation (also called the Hamming weight).\n",
    "This is a classic bit manipulation problem that comes up frequently in interviews and system-level programming.\n",
    "\n",
    "### 🧠 Approach\n",
    "\n",
    "There are multiple ways to solve this, but the most efficient is using Brian Kernighan’s Algorithm, which repeatedly removes the lowest set bit:\n",
    "1. Count the number of times we can perform the operation n = n & (n - 1) until n becomes 0.\n",
    "2. Each operation removes exactly one '1' bit from the binary representation.\n",
    "3. This runs in time proportional to the number of 1 bits, not the total number of bits (unlike simple bit shifting).\n",
    "\n",
    "Alternate approach (bit shift & mask):\n",
    "- Loop over all 32 bits.\n",
    "- Right shift n, and check the lowest bit with n & 1.\n",
    "- Count how many times that equals 1.\n",
    "\n",
    "### ✅ Time & Space Complexity\n",
    "- Time:\n",
    "  - Kernighan’s algorithm: O(k) where k is the number of 1s in n\n",
    "  - Bit mask loop: O(32) — fixed since the input is a 32-bit integer\n",
    "- Space: O(1) — no additional space used"
   ]
  },
  {
   "cell_type": "code",
   "execution_count": null,
   "id": "451f7dc1",
   "metadata": {},
   "outputs": [],
   "source": [
    "class Solution:\n",
    "    def hammingWeight(self, n: int) -> int:\n",
    "        result = 0\n",
    "\n",
    "        while n:\n",
    "            # Add 1 to result if n's LSB is 1\n",
    "            result += 1 if n & 1 == 1 else 0\n",
    "            # shift n's bits right by 1\n",
    "            n = n >> 1\n",
    "\n",
    "        return result"
   ]
  },
  {
   "cell_type": "code",
   "execution_count": 6,
   "id": "e6af9cf4",
   "metadata": {},
   "outputs": [
    {
     "name": "stdout",
     "output_type": "stream",
     "text": [
      "13\n"
     ]
    }
   ],
   "source": [
    "sol = Solution()\n",
    "\n",
    "result = sol.hammingWeight(3254234)\n",
    "print(result)"
   ]
  }
 ],
 "metadata": {
  "kernelspec": {
   "display_name": "Python 3",
   "language": "python",
   "name": "python3"
  },
  "language_info": {
   "codemirror_mode": {
    "name": "ipython",
    "version": 3
   },
   "file_extension": ".py",
   "mimetype": "text/x-python",
   "name": "python",
   "nbconvert_exporter": "python",
   "pygments_lexer": "ipython3",
   "version": "3.13.0"
  }
 },
 "nbformat": 4,
 "nbformat_minor": 5
}
