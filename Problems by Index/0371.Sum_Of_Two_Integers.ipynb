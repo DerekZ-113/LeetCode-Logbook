{
 "cells": [
  {
   "cell_type": "markdown",
   "id": "e19a01f9",
   "metadata": {},
   "source": [
    "### 🧮 LeetCode 371 — Sum of Two Integers (No + or -)\n",
    "\n",
    "### 🔧 Problem Statement\n",
    "Given two integers `a` and `b`, return their sum without using the operators `+` or `-`.\n",
    "\n",
    "### 💡 Approach\n",
    "\n",
    "We simulate binary addition manually using bitwise operations:\n",
    "\n",
    "- `^` (XOR) → adds the bits *without* carrying\n",
    "- `&` → finds which bits *will* carry\n",
    "- `<< 1` → shifts carry left to add in the next position\n",
    "- `& MAX` → forces result to stay within 32-bit boundaries (simulate overflow)\n",
    "- `~(a ^ MAX)` → used to convert an unsigned result back to a signed int in Python if the sign bit is set\n",
    "\n",
    "This loop continues until there's no carry left — the final sum is stored in `a`."
   ]
  },
  {
   "cell_type": "code",
   "execution_count": null,
   "id": "a0c37b56",
   "metadata": {},
   "outputs": [],
   "source": [
    "class Solution:\n",
    "    def getSum(self, a: int, b: int) -> int:\n",
    "        # The 32 bit max number without sign\n",
    "        MAX = 0xFFFFFFFF\n",
    "        # The 32 bit max number with sign\n",
    "        MASK = 0x7FFFFFFF\n",
    "\n",
    "        # Use b as carry, loop until it hits 0\n",
    "        while b != 0:\n",
    "            # Check the bits with carry, and shift 1 to the left\n",
    "            carry = (a & b) << 1\n",
    "            # Use XOR ^ to flip bits\n",
    "            a = (a ^ b) & MAX\n",
    "            # Set b to carry\n",
    "            b = carry\n",
    "\n",
    "        # if within bound return a, else 2 complement use ~(a ^ MAX)\n",
    "        return a if a < MASK else ~(a ^ MAX)"
   ]
  },
  {
   "cell_type": "code",
   "execution_count": 3,
   "id": "22f74697",
   "metadata": {},
   "outputs": [
    {
     "name": "stdout",
     "output_type": "stream",
     "text": [
      "4178\n"
     ]
    }
   ],
   "source": [
    "sol = Solution()\n",
    "\n",
    "result = sol.getSum(2934, 1244)\n",
    "print(result)"
   ]
  },
  {
   "cell_type": "markdown",
   "id": "e1b2ad45",
   "metadata": {},
   "source": [
    "### 🧠 Key Concepts Recap\n",
    "\n",
    "### 🔢 Bitwise Math Overview\n",
    "\n",
    "- `a ^ b` → adds without carrying  \n",
    "- `(a & b) << 1` → calculates carry bits and shifts them to the left  \n",
    "- Loop until carry (`b`) is zero  \n",
    "- Result lives in `a`\n",
    "\n",
    "### 🛡️ Handling 32-bit Integer Behavior in Python\n",
    "\n",
    "Python integers are *unbounded*, so we simulate 32-bit overflow:\n",
    "\n",
    "| Variable | Purpose |\n",
    "|----------|---------|\n",
    "| `MAX = 0xFFFFFFFF` | Forces 32-bit width (all 1s) |\n",
    "| `MASK = 0x7FFFFFFF` | Highest 32-bit signed int (sign bit = 0) |\n",
    "| `& MAX` | Trims result to 32 bits |\n",
    "| `~(a ^ MAX)` | Converts unsigned \"negative\" result back to signed |\n",
    "\n",
    "### 🧮 1’s Complement vs 2’s Complement (Quick Review)\n",
    "\n",
    "| Type            | Meaning                          | How to Get It        | Notes                    |\n",
    "|------------------|-----------------------------------|----------------------|--------------------------|\n",
    "| **1’s Complement** | Flip all bits                    | `~x`                 | Two zeros (`+0`, `-0`) ❌ |\n",
    "| **2’s Complement** | Flip all bits, then add 1        | `~x + 1`             | Used universally ✅       |"
   ]
  }
 ],
 "metadata": {
  "kernelspec": {
   "display_name": "Python 3",
   "language": "python",
   "name": "python3"
  },
  "language_info": {
   "codemirror_mode": {
    "name": "ipython",
    "version": 3
   },
   "file_extension": ".py",
   "mimetype": "text/x-python",
   "name": "python",
   "nbconvert_exporter": "python",
   "pygments_lexer": "ipython3",
   "version": "3.13.0"
  }
 },
 "nbformat": 4,
 "nbformat_minor": 5
}
