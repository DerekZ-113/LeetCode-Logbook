{
 "cells": [
  {
   "cell_type": "markdown",
   "id": "f625f77b",
   "metadata": {},
   "source": [
    "## 🧠 Description / Approach\n",
    "\n",
    "The problem evaluates the value of a Reverse Polish Notation (RPN) expression. RPN is a postfix notation where every operator follows its operands, and there's no need for parentheses.\n",
    "\n",
    "### Approach:\n",
    "\n",
    "- We use a stack (`track`) to keep track of intermediate results.\n",
    "- Iterate through the `tokens` list.\n",
    "- For each token:\n",
    "  - If it’s an operator (`+`, `-`, `*`, `/`), pop the last two numbers from the stack and perform the operation in **correct order** (`second operand` popped first).\n",
    "  - Push the result back onto the stack.\n",
    "  - If it’s a number, convert it to `int` and push it onto the stack.\n",
    "- The final result will be the only element left in the stack.\n",
    "\n",
    "This algorithm runs in O(n) time and uses O(n) space."
   ]
  },
  {
   "cell_type": "code",
   "execution_count": null,
   "id": "55242f03",
   "metadata": {},
   "outputs": [],
   "source": [
    "class Solution:\n",
    "    def evalRPN(self, tokens: List[str]) -> int:\n",
    "        # Stack to track intermediate values\n",
    "        stack = []\n",
    "\n",
    "        for token in tokens:\n",
    "            # If the token is an operator, pop two operands and apply operation\n",
    "            if token == \"+\":\n",
    "                b = stack.pop()\n",
    "                a = stack.pop()\n",
    "                stack.append(a + b)\n",
    "            elif token == \"-\":\n",
    "                b = stack.pop()\n",
    "                a = stack.pop()\n",
    "                stack.append(a - b)\n",
    "            elif token == \"*\":\n",
    "                b = stack.pop()\n",
    "                a = stack.pop()\n",
    "                stack.append(a * b)\n",
    "            elif token == \"/\":\n",
    "                b = stack.pop()\n",
    "                a = stack.pop()\n",
    "                # Perform integer division with truncation toward zero\n",
    "                stack.append(int(a / b))\n",
    "            else:\n",
    "                # Token is an operand; convert to integer and push to stack\n",
    "                stack.append(int(token))\n",
    "\n",
    "        # The last item on the stack is the result\n",
    "        return stack[0]"
   ]
  },
  {
   "cell_type": "markdown",
   "id": "cd66be64",
   "metadata": {},
   "source": [
    "## 🔑 Key Concepts Recap\n",
    "\n",
    "- **Stack Usage**: Ideal for problems with LIFO (last-in, first-out) behavior like RPN.\n",
    "- **Order of Operands**: When popping two values for binary operations, remember:\n",
    "  - For subtraction and division: second popped value is the left operand.\n",
    "- **Integer Division Behavior**:\n",
    "  - Use `int(b / a)` instead of `b // a` to ensure truncation toward zero (LeetCode requirement).\n",
    "- **Time and Space Complexity**:\n",
    "  - Time: O(n), where n is the number of tokens.\n",
    "  - Space: O(n), for the stack in the worst case (all numbers, no operations)."
   ]
  }
 ],
 "metadata": {
  "language_info": {
   "name": "python"
  }
 },
 "nbformat": 4,
 "nbformat_minor": 5
}
