{
 "cells": [
  {
   "cell_type": "code",
   "execution_count": null,
   "id": "ca065876",
   "metadata": {},
   "outputs": [],
   "source": [
    "import heapq\n",
    "\n",
    "class Pair:\n",
    "    def __init__(self, string, frequency):\n",
    "        self.string = string\n",
    "        self.frequency = frequency\n",
    "\n",
    "    def __lt__(self, other):\n",
    "        if self.frequency == other.frequency:\n",
    "            return self.string < other.string\n",
    "        return self.frequency > other.frequency\n",
    "\n",
    "class Solution:\n",
    "    def topKFrequent(self, nums: List[int], k: int) -> List[int]:\n",
    "        frequencies = Counter(nums)\n",
    "\n",
    "        max_heap = [Pair(string, frequency) for string, frequency in frequencies.items()]\n",
    "        heapq.heapify(max_heap)\n",
    "        return [heapq.heappop(max_heap).string for _ in range(k)]"
   ]
  },
  {
   "cell_type": "code",
   "execution_count": null,
   "id": "6e10cca7",
   "metadata": {},
   "outputs": [],
   "source": [
    "import heapq\n",
    "class Pair:\n",
    "    def __init__(self, string, frequency):\n",
    "        self.string = string\n",
    "        self.frequency = frequency\n",
    "\n",
    "    def __lt__(self, other):\n",
    "        if self.frequency == other.frequency:\n",
    "            return self.string > other.string\n",
    "        return self.frequency < other.frequency\n",
    "\n",
    "class Solution:\n",
    "    def topKFrequent(self, nums: List[int], k: int) -> List[int]:\n",
    "        frequencies = Counter(nums)\n",
    "        min_heap = []\n",
    "\n",
    "        for string, frequency in frequencies.items():\n",
    "            heapq.heappush(min_heap, Pair(string, frequency))\n",
    "\n",
    "            if len(min_heap) > k:\n",
    "                heapq.heappop(min_heap)\n",
    "\n",
    "        result = [heapq.heappop(min_heap).string for _ in range(k)]\n",
    "\n",
    "        result.reverse()\n",
    "        return result"
   ]
  }
 ],
 "metadata": {
  "language_info": {
   "name": "python"
  }
 },
 "nbformat": 4,
 "nbformat_minor": 5
}
