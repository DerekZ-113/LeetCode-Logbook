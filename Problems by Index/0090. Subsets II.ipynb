{
 "cells": [
  {
   "cell_type": "code",
   "execution_count": null,
   "id": "0b080f12",
   "metadata": {},
   "outputs": [],
   "source": [
    "class Solution:\n",
    "    def subsetsWithDup(self, nums: List[int]) -> List[List[int]]:\n",
    "        nums.sort()\n",
    "        result = []\n",
    "\n",
    "        def backtrack(start, current_subset):\n",
    "            result.append(current_subset[:])\n",
    "\n",
    "            for i in range(start, len(nums)):\n",
    "                if i > start and nums[i] == nums[i - 1]:\n",
    "                    continue\n",
    "                current_subset.append(nums[i])\n",
    "                backtrack(i + 1, current_subset)\n",
    "                current_subset.pop()\n",
    "\n",
    "        backtrack(0, [])\n",
    "        return result"
   ]
  }
 ],
 "metadata": {
  "language_info": {
   "name": "python"
  }
 },
 "nbformat": 4,
 "nbformat_minor": 5
}
