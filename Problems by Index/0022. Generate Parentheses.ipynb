{
 "cells": [
  {
   "cell_type": "markdown",
   "id": "0d854121",
   "metadata": {},
   "source": [
    "## 🧩 Problem: Generate Parentheses\n",
    "\n",
    "Given an integer `n`, return *all combinations* of `n` pairs of well-formed parentheses.\n",
    "\n",
    "### 🛠️ Approach: Backtracking\n",
    "\n",
    "We use a recursive backtracking function that builds the result string one character at a time:\n",
    "\n",
    "- Start with an empty string and two counters: `open_count` and `close_count`.\n",
    "- At each step, we can:\n",
    "  - Add `'('` if `open_count < n`\n",
    "  - Add `')'` if `close_count < open_count`\n",
    "- When the `current` string reaches length `2 * n`, it's a valid combination and added to the result list.\n",
    "\n",
    "This approach avoids generating invalid sequences altogether by **pruning** early in the recursion."
   ]
  },
  {
   "cell_type": "code",
   "execution_count": null,
   "id": "85ecf7dd",
   "metadata": {},
   "outputs": [],
   "source": [
    "class Solution:\n",
    "    def generateParenthesis(self, n: int) -> List[str]:\n",
    "        result = []\n",
    "\n",
    "        def backtrack(current: str, open_count: int, close_count: int):\n",
    "            # Base case: if the current string has reached 2*n characters, it's complete\n",
    "            if len(current) == 2 * n:\n",
    "                result.append(current)\n",
    "                return\n",
    "\n",
    "            # If we can still add an opening parenthesis, do it\n",
    "            if open_count < n:\n",
    "                backtrack(current + \"(\", open_count + 1, close_count)\n",
    "\n",
    "            # If we can add a closing parenthesis (without breaking validity), do it\n",
    "            if close_count < open_count:\n",
    "                backtrack(current + \")\", open_count, close_count + 1)\n",
    "\n",
    "        # Start backtracking with an empty string and no parentheses used yet\n",
    "        backtrack(\"\", 0, 0)\n",
    "\n",
    "        return result"
   ]
  },
  {
   "cell_type": "markdown",
   "id": "208db9fc",
   "metadata": {},
   "source": [
    "### 🧠 Key Concepts Recap\n",
    "\n",
    "- **Backtracking**: Explore all valid combinations by building the solution incrementally.\n",
    "- **Constraints**:\n",
    "  - Only add `(` if you still have left: `open_count < n`\n",
    "  - Only add `)` if valid so far: `close_count < open_count`\n",
    "- **Termination condition**: When `len(current) == 2 * n`, the sequence is complete.\n",
    "- **Efficiency**: The recursion never builds invalid combinations, so no filtering or post-checking is needed.\n",
    "- **Output**: A list of all valid parentheses combinations in any order."
   ]
  }
 ],
 "metadata": {
  "language_info": {
   "name": "python"
  }
 },
 "nbformat": 4,
 "nbformat_minor": 5
}
