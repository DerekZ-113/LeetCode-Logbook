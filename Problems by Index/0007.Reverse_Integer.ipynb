{
 "cells": [
  {
   "cell_type": "code",
   "execution_count": null,
   "id": "49b0ea6f",
   "metadata": {},
   "outputs": [],
   "source": [
    "class Solution:\n",
    "    def reverse(self, x: int) -> int:\n",
    "        INT_MAX, INT_MIN = 2**31 - 1, -2**31\n",
    "        result = 0 \n",
    "        pos = abs(x)\n",
    "\n",
    "        while pos > 0:\n",
    "            digit = pos % 10\n",
    "            pos //= 10\n",
    "\n",
    "            # Check if the result will overflow before the calculation: this is backwards of the next step\n",
    "            if result > (INT_MAX - digit) // 10:\n",
    "                return 0\n",
    "            \n",
    "            # Multiply and add\n",
    "            result = result * 10 + digit\n",
    "\n",
    "        return result if x > 0 else -result\n"
   ]
  }
 ],
 "metadata": {
  "kernelspec": {
   "display_name": "Python 3",
   "language": "python",
   "name": "python3"
  },
  "language_info": {
   "codemirror_mode": {
    "name": "ipython",
    "version": 3
   },
   "file_extension": ".py",
   "mimetype": "text/x-python",
   "name": "python",
   "nbconvert_exporter": "python",
   "pygments_lexer": "ipython3",
   "version": "3.13.0"
  }
 },
 "nbformat": 4,
 "nbformat_minor": 5
}
