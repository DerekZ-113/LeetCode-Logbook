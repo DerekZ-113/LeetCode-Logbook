{
 "cells": [
  {
   "cell_type": "markdown",
   "id": "bba3686f",
   "metadata": {},
   "source": [
    "### 📄 Description & Approach\n",
    "\n",
    "This problem asks us to reverse the digits of a 32-bit signed integer. If the reversed integer overflows outside the range `[-2³¹, 2³¹ - 1]`, we must return `0`.\n",
    "\n",
    "**Approach:**\n",
    "\n",
    "- Use `abs(x)` to work only with the positive version of the input.\n",
    "- Build the reversed number one digit at a time:\n",
    "  - Extract the last digit with `x % 10`\n",
    "  - Drop that digit using `x //= 10`\n",
    "  - Push it into the reversed result with `result = result * 10 + digit`\n",
    "- Before updating `result`, check if multiplying by 10 and adding the digit would cause overflow.\n",
    "- At the end, return the reversed result, applying the correct sign based on the original input."
   ]
  },
  {
   "cell_type": "code",
   "execution_count": null,
   "id": "49b0ea6f",
   "metadata": {},
   "outputs": [],
   "source": [
    "class Solution:\n",
    "    def reverse(self, x: int) -> int:\n",
    "        INT_MAX, INT_MIN = 2**31 - 1, -2**31\n",
    "        result = 0 \n",
    "        pos = abs(x)\n",
    "\n",
    "        while pos > 0:\n",
    "            digit = pos % 10\n",
    "            pos //= 10\n",
    "\n",
    "            # Check if the result will overflow before the calculation: this is backwards of the next step\n",
    "            if result > (INT_MAX - digit) // 10:\n",
    "                return 0\n",
    "            \n",
    "            # Multiply and add\n",
    "            result = result * 10 + digit\n",
    "\n",
    "        return result if x > 0 else -result\n"
   ]
  },
  {
   "cell_type": "markdown",
   "id": "b16798e5",
   "metadata": {},
   "source": [
    "### 🧠 Key Concepts Recap\n",
    "\n",
    "- **Overflow guard:**  \n",
    "  We use the condition  \n",
    "  `if result > (INT_MAX - digit) // 10:`  \n",
    "  to make sure the next step won't push `result` beyond `2³¹ - 1`.\n",
    "\n",
    "- **32-bit range awareness:**  \n",
    "  Even though Python handles big integers, we're emulating fixed-width integers, so we manually enforce limits.\n",
    "\n",
    "- **Digit-by-digit math:**  \n",
    "  This is a classic use of modulo and integer division to manipulate numbers digit-by-digit.\n",
    "\n",
    "- **Sign handling:**  \n",
    "  Work with the positive version of the number, then reapply the original sign at the end."
   ]
  }
 ],
 "metadata": {
  "kernelspec": {
   "display_name": "Python 3",
   "language": "python",
   "name": "python3"
  },
  "language_info": {
   "codemirror_mode": {
    "name": "ipython",
    "version": 3
   },
   "file_extension": ".py",
   "mimetype": "text/x-python",
   "name": "python",
   "nbconvert_exporter": "python",
   "pygments_lexer": "ipython3",
   "version": "3.13.0"
  }
 },
 "nbformat": 4,
 "nbformat_minor": 5
}
