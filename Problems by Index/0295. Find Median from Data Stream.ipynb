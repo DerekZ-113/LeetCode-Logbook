{
 "cells": [
  {
   "cell_type": "code",
   "execution_count": null,
   "id": "cdbb79d2",
   "metadata": {},
   "outputs": [],
   "source": [
    "class MedianFinder:\n",
    "\n",
    "    def __init__(self):\n",
    "        self.left_half = []  # Max heap\n",
    "        self.right_half = [] # Min heap\n",
    "\n",
    "    def addNum(self, num: int) -> None:\n",
    "        # if the number is less than or equal to the max on left, it belongs to left\n",
    "        if not self.left_half or num <= -self.left_half[0]:\n",
    "            heapq.heappush(self.left_half, -num)\n",
    "            if len(self.left_half) > len(self.right_half) + 1:\n",
    "                heapq.heappush(self.right_half, -heappop(self.left_half))\n",
    "        else:\n",
    "            heapq.heappush(self.right_half, num)\n",
    "            if len(self.left_half) < len(self.right_half):\n",
    "                heapq.heappush(self.left_half, -heappop(self.right_half))\n",
    "        \n",
    "\n",
    "    def findMedian(self) -> float:\n",
    "        if len(self.left_half + self.right_half) & 1:\n",
    "            return -self.left_half[0]\n",
    "        return (-self.left_half[0] + self.right_half[0]) / 2\n",
    "        \n",
    "\n",
    "\n",
    "# Your MedianFinder object will be instantiated and called as such:\n",
    "# obj = MedianFinder()\n",
    "# obj.addNum(num)\n",
    "# param_2 = obj.findMedian()"
   ]
  }
 ],
 "metadata": {
  "language_info": {
   "name": "python"
  }
 },
 "nbformat": 4,
 "nbformat_minor": 5
}
