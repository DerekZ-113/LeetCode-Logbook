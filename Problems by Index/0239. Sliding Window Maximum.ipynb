{
 "cells": [
  {
   "cell_type": "markdown",
   "id": "496b7e1a",
   "metadata": {},
   "source": [
    "### 239. Sliding Window Maximum – Description & Approach\n",
    "\n",
    "The goal is to return the maximum value in every sliding window of size `k` as we move across the array from left to right.\n",
    "\n",
    "We use a **monotonic decreasing deque** (a double-ended queue) to efficiently track the maximum element in each window:\n",
    "- Each element in the deque stores the **index** of a number in `nums`.\n",
    "- The deque maintains a **decreasing order of values**, meaning the front of the deque always holds the index of the current maximum for the window.\n",
    "\n",
    "### Approach:\n",
    "1. **Iterate through each index `i`** in the input list `nums`.\n",
    "2. **Remove indices that are out of the current window** from the front of the deque.\n",
    "3. **Remove indices from the back of the deque** whose corresponding values are smaller than the current `nums[i]` — they will never be the max again.\n",
    "4. **Append the current index `i`** to the deque.\n",
    "5. **Append the max value** (`nums[q[0]]`) to the result list **once we have a full window**, i.e., when `i - k + 1 >= 0`.\n",
    "\n",
    "This ensures we always have access to the current max in O(1) time, and the overall algorithm runs in O(n)."
   ]
  },
  {
   "cell_type": "code",
   "execution_count": null,
   "id": "24cb591f",
   "metadata": {},
   "outputs": [],
   "source": [
    "from collections import deque\n",
    "from typing import List\n",
    "\n",
    "class Solution:\n",
    "    def maxSlidingWindow(self, nums: List[int], k: int) -> List[int]:\n",
    "        result = []\n",
    "        q = deque()  # Stores indices of useful elements in decreasing order (by value)\n",
    "\n",
    "        for i in range(len(nums)):\n",
    "            # Step 1: Remove indices from front if they're outside the current window\n",
    "            if q and q[0] <= i - k:\n",
    "                q.popleft()\n",
    "\n",
    "            # Step 2: Remove indices from the back while their values are less than current num\n",
    "            # They can't be max if current num is larger and comes later\n",
    "            while q and nums[i] > nums[q[-1]]:\n",
    "                q.pop()\n",
    "\n",
    "            # Step 3: Add the current index to the deque\n",
    "            q.append(i)\n",
    "\n",
    "            # Step 4: Append the current window's max to result\n",
    "            # Start doing this only when the window is fully formed\n",
    "            if i >= k - 1:\n",
    "                result.append(nums[q[0]])  # The front of the deque is always the max in window\n",
    "\n",
    "        return result"
   ]
  },
  {
   "cell_type": "markdown",
   "id": "a98d4238",
   "metadata": {},
   "source": [
    "### Key Concepts Recap\n",
    "\n",
    "- **Sliding Window Technique**: Moves a fixed-size window across the array to compute results on each segment.\n",
    "- **Deque (Double-Ended Queue)**: Stores indices of elements in a way that supports efficient front and back operations.\n",
    "- **Monotonic Queue**: A deque maintained in decreasing order of values — ensures the maximum is always at the front.\n",
    "- **Window Validity Check**: We only start appending to the result list after `i >= k - 1` (i.e., the window is fully formed).\n",
    "- **Optimization Insight**: Instead of scanning each window to find the max (O(k)), we maintain max candidates dynamically for O(1) access.\n",
    "\n",
    "🔑 By storing only **useful candidates** in the deque and discarding weaker ones, we optimize the brute-force approach from O(nk) to **O(n)** time."
   ]
  }
 ],
 "metadata": {
  "language_info": {
   "name": "python"
  }
 },
 "nbformat": 4,
 "nbformat_minor": 5
}
