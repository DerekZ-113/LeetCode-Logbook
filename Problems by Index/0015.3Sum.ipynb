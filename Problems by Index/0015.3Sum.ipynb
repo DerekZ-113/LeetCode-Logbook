{
 "cells": [
  {
   "cell_type": "markdown",
   "id": "2338ddd6",
   "metadata": {},
   "source": [
    "### 🔍 Problem Description / Approach\n",
    "\n",
    "Given an integer array `nums`, find all unique triplets `[nums[i], nums[j], nums[k]]` such that:\n",
    "\n",
    "- `i != j != k`\n",
    "- `nums[i] + nums[j] + nums[k] == 0`\n",
    "\n",
    "The result must **not contain duplicate triplets**.\n",
    "\n",
    "**Approach:**\n",
    "\n",
    "1. **Sort the array** — this helps with both the two-pointer technique and avoiding duplicates.\n",
    "2. **Iterate with index `i`** from `0` to `len(nums) - 3`:\n",
    "   - Skip `i` if `nums[i]` is the same as the previous number to avoid duplicates.\n",
    "3. For each `i`, set up **two pointers**:\n",
    "   - `left = i + 1`\n",
    "   - `right = len(nums) - 1`\n",
    "4. While `left < right`, calculate the sum of `nums[i] + nums[left] + nums[right]`:\n",
    "   - If the sum is `0`, we found a valid triplet — store it and move both pointers, skipping duplicates.\n",
    "   - If the sum is less than `0`, move `left` forward to increase the sum.\n",
    "   - If the sum is greater than `0`, move `right` backward to decrease the sum.\n",
    "5. Continue until all valid unique triplets are collected."
   ]
  },
  {
   "cell_type": "code",
   "execution_count": null,
   "id": "78bf75eb",
   "metadata": {},
   "outputs": [],
   "source": [
    "class Solution:\n",
    "    def threeSum(self, nums: List[int]) -> List[List[int]]:\n",
    "        # Sort to skip duplicate easier\n",
    "        nums.sort()\n",
    "        result = []\n",
    "\n",
    "        for i in range(len(nums)-1):\n",
    "            # Check with previous i, skip this loop if it's duplicate\n",
    "            if i > 0 and nums[i] == nums[i-1]:\n",
    "                continue\n",
    "\n",
    "            # Two pointers: left starts at i + 1, right starts at last number\n",
    "            left = i + 1\n",
    "            right = len(nums) - 1\n",
    "\n",
    "            while left < right:\n",
    "                # Condition: find a triplet\n",
    "                if nums[i] + nums[left] + nums[right] == 0:\n",
    "                    # Add to result\n",
    "                    result.append([nums[i], nums[left], nums[right]])\n",
    "                    # Keep move left, right pointers to skip the duplicates\n",
    "                    # Caution: move all the pointers accordingly\n",
    "                    while left < right and nums[left] == nums[left + 1]:\n",
    "                        left += 1\n",
    "                    while left < right and nums[right] == nums[right - 1]:\n",
    "                        right -= 1\n",
    "                    left += 1\n",
    "                    right -= 1\n",
    "                # Conditions: sum is too big/small\n",
    "                # Action: Move left/right pointer\n",
    "                elif nums[i] + nums[left] + nums[right] > 0:\n",
    "                    right -= 1\n",
    "                else: \n",
    "                    left += 1\n",
    "\n",
    "        return result"
   ]
  },
  {
   "cell_type": "markdown",
   "id": "3b026cb0",
   "metadata": {},
   "source": [
    "### 🧠 Key Concepts Recap\n",
    "\n",
    "- **Two-pointer technique:** Efficiently finds pairs that sum to a target within a sorted array.\n",
    "- **Sorting:** Crucial for duplicate elimination and pointer logic.\n",
    "- **Duplicate skipping:** \n",
    "  - For `i`, skip if `nums[i] == nums[i - 1]`.\n",
    "  - After finding a triplet, skip repeated values on both `left` and `right`.\n",
    "- **Time Complexity:** \n",
    "  - Sorting: `O(n log n)`\n",
    "  - Main loop + two pointers: `O(n^2)`\n",
    "  - Overall: `O(n^2)` time, `O(1)` space (excluding result).\n",
    "- **Edge Cases:**\n",
    "  - Fewer than 3 elements → return empty list.\n",
    "  - All positive or all negative → impossible to sum to zero."
   ]
  }
 ],
 "metadata": {
  "language_info": {
   "name": "python"
  }
 },
 "nbformat": 4,
 "nbformat_minor": 5
}
