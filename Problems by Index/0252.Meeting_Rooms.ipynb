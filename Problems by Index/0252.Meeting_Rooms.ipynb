{
 "cells": [
  {
   "cell_type": "markdown",
   "id": "477653ca",
   "metadata": {},
   "source": [
    "### 🧠 Problem: Can Attend All Meetings\n",
    "\n",
    "You're given a list of meeting time intervals, each defined as a list `[start, end]`. Return `True` if a person can attend all meetings — that is, **no two intervals overlap**. Otherwise, return `False`.\n",
    "\n",
    "### 🛠️ Approach\n",
    "\n",
    "1. **Sort the intervals by end time** using a lambda function:  \n",
    "   `intervals = sorted(intervals, key=lambda i: i[1])`  \n",
    "   This tells Python to compare each interval based on its end time.\n",
    "\n",
    "2. **Loop through adjacent pairs** and compare:\n",
    "   - `intervals[i][1]` → the end time of the current meeting  \n",
    "   - `intervals[i+1][0]` → the start time of the next meeting  \n",
    "   If the current meeting ends **after** the next one starts, there's an overlap — return `False`.\n",
    "\n",
    "3. If the loop finishes without finding overlap, return `True`."
   ]
  },
  {
   "cell_type": "code",
   "execution_count": null,
   "id": "0f6f1ec4",
   "metadata": {},
   "outputs": [],
   "source": [
    "class Solution:\n",
    "    def canAttendMeetings(self, intervals: List[List[int]]) -> bool:\n",
    "        if not intervals:\n",
    "            return True\n",
    "\n",
    "        intervals = sorted(intervals, key = lambda i: i[1])\n",
    "\n",
    "        for i in range(len(intervals)-1):\n",
    "            if intervals[i][1] > intervals[i+1][0]:\n",
    "                return False\n",
    "        \n",
    "        return True"
   ]
  },
  {
   "cell_type": "markdown",
   "id": "24fae99a",
   "metadata": {},
   "source": [
    "### 🧩 Key Concept Recap\n",
    "\n",
    "- **Lambda Function**: `lambda i: i[1]` creates a tiny, temporary function that pulls out the second element of each interval — that’s the `end` time. Python passes each sublist like `[start, end]` into `i`.\n",
    "\n",
    "- **Why Sort by End Time**: Sorting first ensures we're only comparing each meeting to the one right after it. This keeps the check simple and fast.\n",
    "\n",
    "- **Overlap Check Logic**: If the current meeting’s end time is greater than the next meeting’s start time, they clash.\n",
    "\n",
    "- **Edge Case**: An empty `intervals` list returns `True` because there’s nothing to conflict.\n",
    "\n",
    "- **Time Complexity**: O(n log n) due to sorting  \n",
    "- **Space Complexity**: O(1) if done in-place (or O(n) if you count the new sorted list)"
   ]
  }
 ],
 "metadata": {
  "language_info": {
   "name": "python"
  }
 },
 "nbformat": 4,
 "nbformat_minor": 5
}
