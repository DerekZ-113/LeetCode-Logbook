{
 "cells": [
  {
   "cell_type": "markdown",
   "id": "1c8ca999",
   "metadata": {},
   "source": []
  },
  {
   "cell_type": "code",
   "execution_count": null,
   "id": "3993165d",
   "metadata": {},
   "outputs": [],
   "source": [
    "# Definition for a binary tree node.\n",
    "# class TreeNode:\n",
    "#     def __init__(self, val=0, left=None, right=None):\n",
    "#         self.val = val\n",
    "#         self.left = left\n",
    "#         self.right = right\n",
    "class Solution:\n",
    "    def goodNodes(self, root: TreeNode) -> int:\n",
    "        \n",
    "        def dfs(node, max_so_far):\n",
    "            if not node:\n",
    "                return 0\n",
    "            \n",
    "            is_good = 1 if node.val >= max_so_far else 0\n",
    "\n",
    "            new_max = max(node.val, max_so_far)\n",
    "\n",
    "            left_good = dfs(node.left, new_max)\n",
    "            right_good = dfs(node.right, new_max)\n",
    "\n",
    "            return is_good + left_good + right_good\n",
    "\n",
    "        return dfs(root, root.val)"
   ]
  },
  {
   "cell_type": "markdown",
   "id": "79a51dfa",
   "metadata": {},
   "source": []
  }
 ],
 "metadata": {
  "language_info": {
   "name": "python"
  }
 },
 "nbformat": 4,
 "nbformat_minor": 5
}
