{
 "cells": [
  {
   "cell_type": "markdown",
   "id": "f978c5f3",
   "metadata": {},
   "source": [
    "### 253. Meeting Rooms II\n",
    "You are given an array of meeting time intervals intervals where each interval has a start and end time. Return the minimum number of conference rooms required so that no meetings overlap.\n",
    "\n",
    "### 💡 Approach\n",
    "This solution uses a two-pointer technique on the sorted start and end times:\n",
    "- Sort start and end times separately.\n",
    "- Use two pointers (p1 for start, p2 for end) to simulate the flow of meetings.\n",
    "- Increase the room count when a new meeting starts before the current one ends.\n",
    "- Decrease the count when a meeting ends.\n",
    "- Track the maximum simultaneous meetings — that’s the number of rooms needed.\n",
    "\n",
    "### 🧠 Time & Space Complexity\n",
    "- Time: O(n log n) — for sorting the start and end arrays\n",
    "- Space: O(n) — to store the start and end times separately"
   ]
  },
  {
   "cell_type": "code",
   "execution_count": null,
   "id": "0469ee37",
   "metadata": {},
   "outputs": [],
   "source": [
    "class Solution:\n",
    "    def minMeetingRooms(self, intervals: list[list[int]]) -> int:\n",
    "        if len(intervals) == 1:\n",
    "            return 1\n",
    "        # Max meetings can go on at the same time\n",
    "        start = sorted([i[0] for i in intervals])\n",
    "        end = sorted([i[1] for i in intervals])\n",
    "\n",
    "        # p1 for start list; p2 for end list\n",
    "        p1, p2 = 0, 0 \n",
    "        # current rooms need for the meetings\n",
    "        counts = 0\n",
    "        # max rooms need for the meetings\n",
    "        rooms = 0\n",
    "        \n",
    "        # Iterate through the start time\n",
    "        while p1 < len(start):\n",
    "            # If current meeting starts BEFORE the last meeting ends, we need one more room\n",
    "            if start[p1] < end[p2]:\n",
    "                counts += 1\n",
    "                p1 += 1\n",
    "            else:\n",
    "                counts -= 1\n",
    "                p2 += 1\n",
    "\n",
    "            rooms = max(counts, rooms)\n",
    "\n",
    "        return rooms"
   ]
  },
  {
   "cell_type": "code",
   "execution_count": 4,
   "id": "32e81778",
   "metadata": {},
   "outputs": [
    {
     "name": "stdout",
     "output_type": "stream",
     "text": [
      "2\n"
     ]
    }
   ],
   "source": [
    "rooms = [[0,30],[5,10],[15,20]]\n",
    "sol = Solution()\n",
    "result = sol.minMeetingRooms(rooms)\n",
    "print(result)"
   ]
  }
 ],
 "metadata": {
  "kernelspec": {
   "display_name": "Python 3",
   "language": "python",
   "name": "python3"
  },
  "language_info": {
   "codemirror_mode": {
    "name": "ipython",
    "version": 3
   },
   "file_extension": ".py",
   "mimetype": "text/x-python",
   "name": "python",
   "nbconvert_exporter": "python",
   "pygments_lexer": "ipython3",
   "version": "3.13.0"
  }
 },
 "nbformat": 4,
 "nbformat_minor": 5
}
