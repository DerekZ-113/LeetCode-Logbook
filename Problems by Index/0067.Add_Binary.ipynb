{
 "cells": [
  {
   "cell_type": "markdown",
   "id": "e13afd4c",
   "metadata": {},
   "source": [
    "### 📘 Description / Approach\n",
    "\n",
    "**Problem**: Given two binary strings `a` and `b`, return their sum as a binary string.\n",
    "\n",
    "We simulate binary addition by iterating **from right to left** in both strings and keeping track of the **carry**. At each step:\n",
    "- Extract the current digit from each string (or use `0` if out of bounds)\n",
    "- Compute `total = a_bit + b_bit + carry`\n",
    "- Append `total % 2` to the result (binary digit)\n",
    "- Update `carry = total // 2`\n",
    "\n",
    "After the loop, if there's still a `carry`, append it. Finally, reverse the result and join it into a string.\n",
    "\n",
    "This approach avoids using built-in binary functions and handles arbitrarily long binary strings."
   ]
  },
  {
   "cell_type": "code",
   "execution_count": null,
   "id": "39724148",
   "metadata": {},
   "outputs": [
    {
     "name": "stdout",
     "output_type": "stream",
     "text": [
      "1\n"
     ]
    }
   ],
   "source": [
    "class Solution:\n",
    "    def addBinary(self, a: str, b: str) -> str:\n",
    "        i, j = len(a)-1, len(b)-1\n",
    "        carry = 0\n",
    "        result = []\n",
    "\n",
    "        while i >= 0 or j >= 0 or carry:\n",
    "            bit_a = int(a[i]) if i >= 0 else 0\n",
    "            bit_b = int(b[j]) if j >= 0 else 0\n",
    "\n",
    "            total = bit_a + bit_b + carry\n",
    "            carry = total // 2\n",
    "            result.append(str(total % 2))\n",
    "\n",
    "            i -= 1\n",
    "            j -= 1\n",
    "        \n",
    "        if carry == 1:\n",
    "            result.append(1)\n",
    "        \n",
    "        return \"\".join(reversed(result))"
   ]
  },
  {
   "cell_type": "markdown",
   "id": "ffab5d20",
   "metadata": {},
   "source": [
    "### 🧠 Key Concepts Recap\n",
    "\n",
    "- **Binary Addition**:\n",
    "  - `1 + 1 = 10` → append `0`, carry `1`\n",
    "  - `1 + 1 + 1 = 11` → append `1`, carry `1`\n",
    "- **Two-Pointer Traversal**: Use indices starting from the end of `a` and `b`\n",
    "- **Carry Tracking**: Loop continues while `i >= 0 or j >= 0 or carry > 0`\n",
    "- **Result Construction**: Append digits in reverse order and reverse at the end\n",
    "- **Edge Cases**:\n",
    "  - Strings of different lengths\n",
    "  - Final carry after loop (e.g., `\"1\" + \"1\"` = `\"10\"`)"
   ]
  }
 ],
 "metadata": {
  "kernelspec": {
   "display_name": "Python 3",
   "language": "python",
   "name": "python3"
  },
  "language_info": {
   "codemirror_mode": {
    "name": "ipython",
    "version": 3
   },
   "file_extension": ".py",
   "mimetype": "text/x-python",
   "name": "python",
   "nbconvert_exporter": "python",
   "pygments_lexer": "ipython3",
   "version": "3.13.0"
  }
 },
 "nbformat": 4,
 "nbformat_minor": 5
}
