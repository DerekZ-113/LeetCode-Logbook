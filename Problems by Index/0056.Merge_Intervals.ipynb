{
 "cells": [
  {
   "cell_type": "code",
   "execution_count": null,
   "id": "d5bcf517",
   "metadata": {},
   "outputs": [],
   "source": [
    "class Solution:\n",
    "    def merge(self, intervals: List[List[int]]) -> List[List[int]]:\n",
    "        intervals = sorted(intervals, key= lambda i: i[0])\n",
    "        result = [intervals[0]]\n",
    "    \n",
    "        for start, end in intervals[1:]:\n",
    "            prev_start, prev_end = result[-1]\n",
    "\n",
    "            if start <= prev_end:\n",
    "                result[-1][1] = max(prev_end, end)\n",
    "            else:\n",
    "                result.append([start, end])\n",
    "\n",
    "        return result"
   ]
  }
 ],
 "metadata": {
  "language_info": {
   "name": "python"
  }
 },
 "nbformat": 4,
 "nbformat_minor": 5
}
