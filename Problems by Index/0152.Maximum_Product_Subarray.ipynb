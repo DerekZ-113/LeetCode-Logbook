{
 "cells": [
  {
   "cell_type": "markdown",
   "id": "dcc5f4c3",
   "metadata": {},
   "source": [
    "### 📘 Problem Description & Approach\n",
    "\n",
    "**LeetCode 152: Maximum Product Subarray**\n",
    "\n",
    "You're given an array of integers `nums`. Your goal is to find the contiguous subarray (containing at least one number) that has the **largest product**, and return that product.\n",
    "\n",
    "#### 💡 Approach\n",
    "\n",
    "Unlike sum problems (like Kadane's Algorithm), product problems are trickier due to:\n",
    "\n",
    "- Negative numbers that **flip signs**\n",
    "- Zeros that **reset** the product\n",
    "- Need to track both **maximum and minimum products** ending at each index\n",
    "\n",
    "To handle this, we:\n",
    "- Track two variables: `current_max` and `current_min`\n",
    "- At every step:\n",
    "  1. If the number is negative, **swap** `current_max` and `current_min`\n",
    "  2. Update both:\n",
    "     - `current_max = max(num, current_max * num)`\n",
    "     - `current_min = min(num, current_min * num)`\n",
    "  3. Update the global result with the maximum seen so far\n",
    "\n",
    "This greedy-like scan allows us to solve it in **O(n) time and O(1) space**."
   ]
  },
  {
   "cell_type": "code",
   "execution_count": null,
   "id": "0055fa34",
   "metadata": {},
   "outputs": [],
   "source": [
    "class Solution:\n",
    "    def maxProduct(self, nums: List[int]) -> int:\n",
    "        # Current max, current min, result variables initialized at the start of the list\n",
    "        current_max = current_min = result = nums[0]\n",
    "\n",
    "        # Start the check at the second number\n",
    "        for i in range(1, len(nums)):\n",
    "            num = nums[i]\n",
    "            # If the number is negative, swap max and min\n",
    "            if num < 0:\n",
    "                current_max, current_min = current_min, current_max\n",
    "            \n",
    "            # Choose larger: a new list (only current num) or the product with the num\n",
    "            current_max = max(num, current_max * num)\n",
    "            current_min = min(num, current_min * num)\n",
    "\n",
    "            result = max(current_max, result)\n",
    "\n",
    "        return result"
   ]
  },
  {
   "cell_type": "markdown",
   "id": "7e71026d",
   "metadata": {},
   "source": [
    "### 🧠 Key Concept Recap\n",
    "\n",
    "- **Track Two Values at Each Step:**  \n",
    "  Because multiplying by a negative can turn your smallest product into your largest and vice versa.\n",
    "\n",
    "- **Swap on Negative:**  \n",
    "  When `num < 0`, swap `current_max` and `current_min` before updating.\n",
    "\n",
    "- **Zero Breaks Everything:**  \n",
    "  Multiplying by 0 kills the streak. The `max(num, ...)` logic automatically starts a new subarray after 0.\n",
    "\n",
    "- **Single Pass, Constant Space:**  \n",
    "  We don’t need to remember the entire array state — just the last known max/min and result.\n",
    "\n",
    "- **Classic Sliding Product Technique:**  \n",
    "  Similar in spirit to Kadane’s Algorithm, but with the twist of dual tracking."
   ]
  }
 ],
 "metadata": {
  "language_info": {
   "name": "python"
  }
 },
 "nbformat": 4,
 "nbformat_minor": 5
}
