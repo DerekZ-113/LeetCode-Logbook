{
 "cells": [
  {
   "cell_type": "code",
   "execution_count": null,
   "id": "098eeaee",
   "metadata": {},
   "outputs": [],
   "source": [
    "class Solution:\n",
    "    def insert(self, intervals: List[List[int]], newInterval: List[int]) -> List[List[int]]:\n",
    "        result = []\n",
    "        i = 0\n",
    "        n = len(intervals)\n",
    "\n",
    "        while i < n and intervals[i][1] < newInterval[0]:\n",
    "            result.append(intervals[i])\n",
    "            i += 1\n",
    "\n",
    "        while i < n and intervals[i][0] <= newInterval[1]:\n",
    "            newInterval[0] = min(intervals[i][0], newInterval[0])\n",
    "            newInterval[1] = max(intervals[i][1], newInterval[1])\n",
    "            i += 1\n",
    "        \n",
    "        result.append(newInterval)\n",
    "\n",
    "        while i < n:\n",
    "            result.append(intervals[i])\n",
    "            i += 1\n",
    "\n",
    "        return result"
   ]
  }
 ],
 "metadata": {
  "language_info": {
   "name": "python"
  }
 },
 "nbformat": 4,
 "nbformat_minor": 5
}
