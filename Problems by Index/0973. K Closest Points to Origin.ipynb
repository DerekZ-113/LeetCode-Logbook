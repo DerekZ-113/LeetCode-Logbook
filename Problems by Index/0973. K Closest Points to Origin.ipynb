{
 "cells": [
  {
   "cell_type": "code",
   "execution_count": null,
   "id": "6a86f042",
   "metadata": {},
   "outputs": [],
   "source": [
    "import heapq\n",
    "import math\n",
    "from typing import List\n",
    "\n",
    "class Solution:\n",
    "    def distance(self, x: int, y: int) -> float:\n",
    "        # Use squared distance to avoid unnecessary sqrt\n",
    "        return x * x + y * y\n",
    "\n",
    "    def kClosest(self, points: List[List[int]], k: int) -> List[List[int]]:\n",
    "        # Use a max-heap to keep track of k closest points\n",
    "        heap = []\n",
    "\n",
    "        for x, y in points:\n",
    "            dist = -self.distance(x, y)  # Negate for max-heap simulation\n",
    "            heapq.heappush(heap, (dist, x, y))\n",
    "\n",
    "            if len(heap) > k:\n",
    "                heapq.heappop(heap)  # Pop the farthest point\n",
    "\n",
    "        # Extract only the coordinates from the heap\n",
    "        return [[x, y] for _, x, y in heap]"
   ]
  }
 ],
 "metadata": {
  "language_info": {
   "name": "python"
  }
 },
 "nbformat": 4,
 "nbformat_minor": 5
}
