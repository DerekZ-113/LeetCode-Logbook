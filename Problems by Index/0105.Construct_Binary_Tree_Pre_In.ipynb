{
 "cells": [
  {
   "cell_type": "markdown",
   "id": "31753e8e",
   "metadata": {},
   "source": []
  },
  {
   "cell_type": "markdown",
   "id": "16f85d73",
   "metadata": {},
   "source": [
    "### 🌳 105 Construct Binary Tree from Preorder and Inorder Traversal\n",
    "\n",
    "Given two integer arrays `preorder` and `inorder`, construct and return the **binary tree** that matches these traversals.\n",
    "\n",
    "- `preorder`: root → left → right\n",
    "- `inorder`: left → root → right\n",
    "\n",
    "### 🧠 Approach\n",
    "\n",
    "We use the fact that:\n",
    "- The **first element in preorder** is always the current root\n",
    "- The **position of that root in inorder** tells us:\n",
    "  - Left subtree = everything before the root\n",
    "  - Right subtree = everything after the root\n",
    "\n",
    "#### Steps:\n",
    "1. Create a hash map (`inorder_dict`) for quick index lookups in the inorder list.\n",
    "2. Use a recursive `build(left, right)` function:\n",
    "   - Base case: if `left > right`, return `None`\n",
    "   - Use the current index in preorder to create a new `TreeNode`\n",
    "   - Increment the preorder index for the next call\n",
    "   - Recursively build the left and right subtrees using the split index from inorder\n",
    "3. Kick off recursion from `build(0, len(preorder) - 1)`\n",
    "\n",
    "### ✅ Time & Space Complexity\n",
    "\n",
    "- **Time:** O(n) — each node is visited once\n",
    "- **Space:** O(n)\n",
    "  - For the hashmap and the recursion stack in worst case"
   ]
  },
  {
   "cell_type": "code",
   "execution_count": 3,
   "id": "369560dc",
   "metadata": {},
   "outputs": [],
   "source": [
    "class TreeNode:\n",
    "    def __init__(self, val, left = None, right = None):\n",
    "        self.val = val\n",
    "        self.right = right\n",
    "        self.left = left\n",
    "\n",
    "\n",
    "class Solution:\n",
    "    def buildTree(self, preorder: list[int], inorder: list[int]):\n",
    "        # Step 1: Create a hashmap for quick index lookup in inorder\n",
    "        inorder_index_map = {val: idx for idx, val in enumerate(inorder)}\n",
    "        \n",
    "        # Step 2: Initialize pointer for preorder\n",
    "        self.pre_idx = 0\n",
    "\n",
    "        def helper(left, right):\n",
    "            if left > right:\n",
    "                return None  # Base case: no subtree\n",
    "\n",
    "            # Step 3: Pick the root from preorder\n",
    "            root_val = preorder[self.pre_idx]\n",
    "            self.pre_idx += 1\n",
    "            root = TreeNode(root_val)\n",
    "\n",
    "            # Step 4: Split inorder list to left and right subtree\n",
    "            idx = inorder_index_map[root_val]\n",
    "            \n",
    "            # Recursively build left and right\n",
    "            root.left = helper(left, idx - 1)\n",
    "            root.right = helper(idx + 1, right)\n",
    "\n",
    "            return root\n",
    "\n",
    "        return helper(0, len(inorder) - 1)\n"
   ]
  },
  {
   "cell_type": "code",
   "execution_count": 4,
   "id": "62a8662a",
   "metadata": {},
   "outputs": [
    {
     "name": "stdout",
     "output_type": "stream",
     "text": [
      "<__main__.TreeNode object at 0x10d41c6e0>\n"
     ]
    }
   ],
   "source": [
    "preorder = [3,9,20,15,7]\n",
    "inorder = [9,3,15,20,7]\n",
    "sol = Solution()\n",
    "result = sol.buildTree(preorder, inorder)\n",
    "print(result)"
   ]
  }
 ],
 "metadata": {
  "kernelspec": {
   "display_name": "Python 3",
   "language": "python",
   "name": "python3"
  },
  "language_info": {
   "codemirror_mode": {
    "name": "ipython",
    "version": 3
   },
   "file_extension": ".py",
   "mimetype": "text/x-python",
   "name": "python",
   "nbconvert_exporter": "python",
   "pygments_lexer": "ipython3",
   "version": "3.13.0"
  }
 },
 "nbformat": 4,
 "nbformat_minor": 5
}
