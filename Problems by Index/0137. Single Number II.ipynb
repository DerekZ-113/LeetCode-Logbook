{
 "cells": [
  {
   "cell_type": "markdown",
   "id": "0a32bfef",
   "metadata": {},
   "source": [
    "## 137. Single Number II\n",
    "\n",
    "### 📝 Description\n",
    "Given an integer array `nums` where every element appears exactly **three times** except for one, which appears exactly **once**, return the **single number** that appears once.\n",
    "\n",
    "You must implement a solution with **linear runtime complexity** and **constant extra space**.\n",
    "\n",
    "---\n",
    "\n",
    "### ⚙️ Approach\n",
    "- Use **bitwise counting** to count how many times each bit position (0 to 31) is set across all numbers.\n",
    "- Since every number except one appears 3 times, each bit's count must be divisible by 3 — **except for the bits in the unique number**.\n",
    "- For each bit position, if the total count `% 3 != 0`, it means that bit is set in the unique number.\n",
    "- After reconstructing the number from bits, we handle the sign for 32-bit negative numbers (since Python's integers are unbounded).\n",
    "\n",
    "---\n",
    "\n",
    "### 🧠 Key Concepts\n",
    "- **Bit Manipulation**:\n",
    "  - `(num >> i) & 1` checks if the i-th bit is set in `num`.\n",
    "  - `(1 << i)` sets the i-th bit in the result.\n",
    "- **Mod 3 Trick**:\n",
    "  - Bits that appear exactly three times will sum to a multiple of 3.\n",
    "  - The unique number's bits will leave a remainder.\n",
    "- **Negative Number Handling**:\n",
    "  - If the result represents a 32-bit signed negative number (≥ 2³¹), subtract `2³²` to convert it.\n",
    "\n",
    "- **Time Complexity**: O(32n) → O(n)\n",
    "- **Space Complexity**: O(1), using a fixed-size array of 32 bits.\n",
    "\n",
    "---\n",
    "\n",
    "### 🔍 Example\n",
    "```python\n",
    "Input: nums = [2, 2, 3, 2]\n",
    "\n",
    "Bit counts:\n",
    "- All bits cancel out as they appear 3 times, except for 3.\n",
    "\n",
    "Output: 3"
   ]
  },
  {
   "cell_type": "code",
   "execution_count": null,
   "id": "e874e611",
   "metadata": {},
   "outputs": [],
   "source": [
    "from typing import List\n",
    "\n",
    "class Solution:\n",
    "    def singleNumber(self, nums: List[int]) -> int:\n",
    "        count = [0] * 32  # Store bit counts for each bit position\n",
    "\n",
    "        for num in nums:\n",
    "            for i in range(32):\n",
    "                count[i] += (num >> i) & 1  # Add bit to count\n",
    "\n",
    "        result = 0\n",
    "        for i in range(32):\n",
    "            if count[i] % 3 != 0:\n",
    "                result |= (1 << i)  # Rebuild number from bits\n",
    "\n",
    "        # Convert to signed 32-bit integer if needed\n",
    "        if result >= 2 ** 31:\n",
    "            result -= 2 ** 32\n",
    "\n",
    "        return result"
   ]
  }
 ],
 "metadata": {
  "language_info": {
   "name": "python"
  }
 },
 "nbformat": 4,
 "nbformat_minor": 5
}
