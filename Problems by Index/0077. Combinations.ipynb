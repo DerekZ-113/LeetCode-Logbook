{
 "cells": [
  {
   "cell_type": "code",
   "execution_count": null,
   "id": "d7ad834f",
   "metadata": {},
   "outputs": [],
   "source": [
    "class Solution:\n",
    "    def combine(self, n: int, k: int) -> List[List[int]]:\n",
    "        result = []\n",
    "\n",
    "        def backtrack(start, candidate):\n",
    "            if len(candidate) == k:\n",
    "                result.append(candidate[:])\n",
    "                return\n",
    "\n",
    "            for num in range(start, n + 1):\n",
    "                candidate.append(num)\n",
    "                backtrack(num + 1, candidate)\n",
    "                candidate.pop()\n",
    "\n",
    "        backtrack(1, [])\n",
    "        return result"
   ]
  }
 ],
 "metadata": {
  "language_info": {
   "name": "python"
  }
 },
 "nbformat": 4,
 "nbformat_minor": 5
}
