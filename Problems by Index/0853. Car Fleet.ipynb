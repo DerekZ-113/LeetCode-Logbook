{
 "cells": [
  {
   "cell_type": "markdown",
   "id": "97dbfad6",
   "metadata": {},
   "source": [
    "### 🚗 Problem: Car Fleet\n",
    "\n",
    "You're given the `target` location and two arrays:\n",
    "- `position[i]`: the starting position of the i-th car\n",
    "- `speed[i]`: the speed of the i-th car\n",
    "\n",
    "All cars move toward the target. If a faster car catches up to a slower one, it forms a \"fleet\" and moves at the slower car's speed. Return the number of distinct fleets that will arrive at the destination.\n",
    "\n",
    "### 🧠 Approach\n",
    "\n",
    "1. **Zip `position` and `speed`** into tuples, then **sort** by position in **descending** order. This way, we process cars from **closest to the target** to **farthest**.\n",
    "2. For each car, **calculate the time** it takes to reach the target:  \n",
    "   `time = (target - position) / speed`\n",
    "3. Use a **stack** to simulate fleets:\n",
    "   - If the stack is empty or the current time is **greater** than the top of the stack, the car can’t catch up → **new fleet**.\n",
    "   - If it’s **less than or equal**, it **joins** the fleet ahead → skip.\n",
    "4. The **length of the stack** at the end is the number of fleets."
   ]
  },
  {
   "cell_type": "code",
   "execution_count": null,
   "id": "945afc47",
   "metadata": {},
   "outputs": [],
   "source": [
    "class Solution:\n",
    "    def carFleet(self, target: int, position: List[int], speed: List[int]) -> int:\n",
    "        # Zip position and speend, sort in decreasing order for position\n",
    "        cars = sorted(zip(position, speed), reverse = True)\n",
    "        # Use stack to track the time for comparision\n",
    "        stack = []\n",
    "\n",
    "        for position, speed in cars:\n",
    "            # Calculate the time needed to reach target\n",
    "            time = (target - position) / speed\n",
    "\n",
    "            # If the stack is empty OR time is larger than the last recorded time in stack\n",
    "            # That means a new fleet, this car won't catch up to the car at front\n",
    "            if not stack or time > stack[-1]:\n",
    "                stack.append(time)\n",
    "            # If it can catch up we just skip it, it joins fleet with the car at front \n",
    "\n",
    "        return len(stack)"
   ]
  },
  {
   "cell_type": "markdown",
   "id": "c116a506",
   "metadata": {},
   "source": [
    "### 🔑 Key Concepts\n",
    "\n",
    "- **Sorting** by position ensures we evaluate from front to back.\n",
    "- **Time to reach target** determines whether cars will catch up or not.\n",
    "- **Fleet behavior**:\n",
    "  - If a car takes **longer** to arrive, it **does not catch up** to the car ahead — new fleet.\n",
    "  - If it takes **less or equal time**, it **merges** into the existing fleet.\n",
    "- **Stack** keeps track of the arrival time of current fleets, acting like a timeline of the slowest cars.\n",
    "\n",
    "> The core trick is realizing that we can treat this as comparing arrival times from front to back."
   ]
  }
 ],
 "metadata": {
  "language_info": {
   "name": "python"
  }
 },
 "nbformat": 4,
 "nbformat_minor": 5
}
