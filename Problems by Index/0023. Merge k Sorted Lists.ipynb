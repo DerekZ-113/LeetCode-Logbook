{
 "cells": [
  {
   "cell_type": "code",
   "execution_count": null,
   "id": "df9f9059",
   "metadata": {},
   "outputs": [],
   "source": [
    "# Definition for singly-linked list.\n",
    "# class ListNode:\n",
    "#     def __init__(self, val=0, next=None):\n",
    "#         self.val = val\n",
    "#         self.next = next\n",
    "class Solution:\n",
    "    def mergeKLists(self, lists: List[Optional[ListNode]]) -> Optional[ListNode]:\n",
    "        # Priotize nodes with smaller values\n",
    "        ListNode.__lt__ = lambda self, other: self.val < other.val\n",
    "        heap = []\n",
    "\n",
    "        # Push the head of each linked list into the heap\n",
    "        for head in lists:\n",
    "            if head:\n",
    "                heapq.heappush(heap, head)\n",
    "\n",
    "        # Use a dummy node\n",
    "        dummy = ListNode(-1)\n",
    "        # Use a pointer to iterate through the combined linked list as adding nodes to it\n",
    "        current = dummy\n",
    "\n",
    "\n",
    "        while heap:\n",
    "            # Get the smallest node from heap\n",
    "            smallest_node = heapq.heappop(heap)\n",
    "\n",
    "            # add the node to current\n",
    "            current.next = smallest_node\n",
    "            # move current forward\n",
    "            current = current.next\n",
    "\n",
    "            # if there is more node in the linked list, push the next one to heap\n",
    "            if smallest_node.next:\n",
    "                heapq.heappush(heap, smallest_node.next)\n",
    "        \n",
    "        return dummy.next"
   ]
  }
 ],
 "metadata": {
  "language_info": {
   "name": "python"
  }
 },
 "nbformat": 4,
 "nbformat_minor": 5
}
