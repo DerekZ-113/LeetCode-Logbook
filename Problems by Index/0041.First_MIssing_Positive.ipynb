{
 "cells": [
  {
   "cell_type": "markdown",
   "id": "89680356",
   "metadata": {},
   "source": [
    "### 🧠 Description / Approach (Method 1: Boolean Flag Array)\n",
    "\n",
    "**Problem**:  \n",
    "Given an unsorted integer array, find the smallest missing positive integer. You must solve it in `O(n)` time and use constant space.\n",
    "\n",
    "**This Method**: Not constant space, but intuitive.  \n",
    "1. Create a `flag` array of size `n` to track if integers `1` to `n` exist.\n",
    "2. Iterate through `nums`, and if a number is between `1` and `n`, mark `flag[num-1] = True`.\n",
    "3. Iterate over the `flag` array: the first `False` indicates the smallest missing positive.\n",
    "4. If all flags are `True`, return `n + 1`.\n",
    "\n",
    "This solution has linear time complexity but **extra space**."
   ]
  },
  {
   "cell_type": "code",
   "execution_count": null,
   "id": "14698cf3",
   "metadata": {},
   "outputs": [],
   "source": [
    "class Solution:\n",
    "    def firstMissingPositive(self, nums: List[int]) -> int:\n",
    "        n = len(nums)\n",
    "        \n",
    "        flag = [False] * len(nums)\n",
    "\n",
    "        for num in nums:\n",
    "            if num > 0 and num <= n:\n",
    "                flag[num-1] = True\n",
    "        \n",
    "        for num in range(1, n + 1):\n",
    "            if not flag[num-1]:\n",
    "                return num\n",
    "\n",
    "        return n + 1"
   ]
  },
  {
   "cell_type": "markdown",
   "id": "c91dc63d",
   "metadata": {},
   "source": [
    "### 🧩 Key Concepts Recap (Method 1)\n",
    "\n",
    "- **Valid Range**: We only care about numbers in `[1, n]` because anything larger can't be the *smallest* missing.\n",
    "- **Boolean Mapping**: Create a 0-indexed boolean array where `flag[i] = True` means `i+1` exists.\n",
    "- **Space Complexity**: `O(n)` → violates the constant space requirement.\n",
    "- **Time Complexity**: `O(n)` → each number is processed at most twice.\n",
    "\n",
    "This is a simple but not optimal solution — useful for building intuition."
   ]
  },
  {
   "cell_type": "markdown",
   "id": "ba1d64d4",
   "metadata": {},
   "source": [
    "### ⚡ Description / Approach (Method 2: Cyclic Sort - In-Place)\n",
    "\n",
    "**Problem**:  \n",
    "Same as above — find the smallest missing positive in `O(n)` time and constant space.\n",
    "\n",
    "**This Method**:  \n",
    "Use an **in-place cyclic sort** pattern:\n",
    "\n",
    "1. Loop through the array:\n",
    "   - While `nums[i]` is within `[1, n]` **and** it's not already at its correct position (`nums[nums[i]-1] != nums[i]`), swap it to its correct spot.\n",
    "   - This keeps pushing each number to where it *should* be.\n",
    "2. After sorting, traverse the array:\n",
    "   - The first index `i` where `nums[i] != i + 1` is the missing positive.\n",
    "3. If all numbers are in correct positions, return `n + 1`.\n",
    "\n",
    "No extra space is used, and the time is amortized linear."
   ]
  },
  {
   "cell_type": "code",
   "execution_count": null,
   "id": "2ba1fa6e",
   "metadata": {},
   "outputs": [],
   "source": [
    "class Solution:\n",
    "    def firstMissingPositive(self, nums: List[int]) -> int:\n",
    "        n = len(nums)\n",
    "        \n",
    "        for i in range(n):\n",
    "            # Keep swapping nums[i] with nums[nums[i] - 1] until:\n",
    "            #  - nums[i] is in the valid range [1, n], and\n",
    "            #  - it's not already at its correct position.\n",
    "            # This places each positive number at its target index (num → index num - 1).\n",
    "            while (1 <= nums[i] <= n) and (nums[nums[i]-1] != nums[i]):\n",
    "                # Get the correct index\n",
    "                correct_index = nums[i]-1\n",
    "                # Swap with the correct index\n",
    "                nums[i], nums[correct_index] = nums[correct_index], nums[i]\n",
    "        \n",
    "        \n",
    "        for i in range(n):\n",
    "            if nums[i] != i + 1:\n",
    "                return i + 1\n",
    "\n",
    "        return n + 1"
   ]
  },
  {
   "cell_type": "markdown",
   "id": "a39079bd",
   "metadata": {},
   "source": [
    "### 🧩 Key Concepts Recap (Method 2)\n",
    "\n",
    "- **Cyclic Sort**: A classic trick to sort numbers from 1 to n in-place.\n",
    "- **Correct Index**: The number `x` should be placed at index `x - 1`.\n",
    "- **Swap Until Sorted**: Repeatedly place numbers in their correct positions using swaps.\n",
    "- **Time Complexity**: `O(n)` — each element is swapped at most once.\n",
    "- **Space Complexity**: `O(1)` — in-place with no auxiliary data structures.\n",
    "\n",
    "This is the **optimal solution** that meets all problem constraints — lean, clever, and efficient."
   ]
  }
 ],
 "metadata": {
  "language_info": {
   "name": "python"
  }
 },
 "nbformat": 4,
 "nbformat_minor": 5
}
