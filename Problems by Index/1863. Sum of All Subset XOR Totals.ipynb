{
 "cells": [
  {
   "cell_type": "code",
   "execution_count": null,
   "id": "87b6d054",
   "metadata": {},
   "outputs": [],
   "source": [
    "class Solution:\n",
    "    def subsetXORSum(self, nums: List[int]) -> int:\n",
    "        self.result = 0 \n",
    "\n",
    "        def backtrack(i, current_subset):\n",
    "            if i == len(nums):\n",
    "                xor_sum = 0\n",
    "                for num in current_subset:\n",
    "                    xor_sum ^= num\n",
    "                self.result += xor_sum\n",
    "                return \n",
    "\n",
    "            current_subset.append(nums[i])\n",
    "            backtrack(i + 1, current_subset)\n",
    "            current_subset.pop()\n",
    "            backtrack(i + 1, current_subset)\n",
    "\n",
    "        backtrack(0, [])\n",
    "        return self.result"
   ]
  },
  {
   "cell_type": "code",
   "execution_count": null,
   "id": "77aea863",
   "metadata": {},
   "outputs": [],
   "source": [
    "class Solution:\n",
    "    def subsetXORSum(self, nums: List[int]) -> int:\n",
    "        def dfs(i, current_xor):\n",
    "            if i == len(nums):\n",
    "                return current_xor\n",
    "            # Include nums[i] or not\n",
    "            return dfs(i + 1, current_xor ^ nums[i]) + dfs(i + 1, current_xor)\n",
    "        \n",
    "        return dfs(0, 0)"
   ]
  }
 ],
 "metadata": {
  "language_info": {
   "name": "python"
  }
 },
 "nbformat": 4,
 "nbformat_minor": 5
}
