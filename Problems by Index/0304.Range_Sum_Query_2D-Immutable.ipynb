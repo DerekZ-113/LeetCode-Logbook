{
 "cells": [
  {
   "cell_type": "markdown",
   "id": "335a228b",
   "metadata": {},
   "source": [
    "### 304. Range Sum Query 2D - Immutable\n",
    "\n",
    "#### 🔍 Problem Summary\n",
    "We are given a 2D matrix and need to efficiently calculate the sum of elements within a rectangular subregion defined by `(row1, col1)` (top-left) and `(row2, col2)` (bottom-right). Multiple queries are expected, so precomputation is essential for speed.\n",
    "\n",
    "#### 💡 Approach\n",
    "We use a **2D prefix sum matrix** with an extra row and column of padding (`+1`) to simplify the sumRegion calculations and avoid boundary checks.\n",
    "\n",
    "1. **Preprocessing (`__init__`)**:\n",
    "   - Create a new matrix `prefix_sum` of size `(rows + 1) x (cols + 1)` initialized with zeros.\n",
    "   - For each cell in the original matrix, fill in `prefix_sum[row + 1][col + 1]` using the formula:\n",
    "     ```\n",
    "     prefix_sum[r+1][c+1] = matrix[r][c] \n",
    "                            + prefix_sum[r][c+1]\n",
    "                            + prefix_sum[r+1][c]\n",
    "                            - prefix_sum[r][c]\n",
    "     ```\n",
    "   - This ensures `prefix_sum[r+1][c+1]` stores the total sum from `(0,0)` to `(r,c)`.\n",
    "\n",
    "2. **Querying (`sumRegion`)**:\n",
    "   - Return the sum of the subrectangle using the inclusion-exclusion principle:\n",
    "     ```\n",
    "     sum = total - above - left + top-left overlap\n",
    "     ```\n",
    "\n",
    "This results in **O(mn)** time to initialize and **O(1)** time for each query."
   ]
  },
  {
   "cell_type": "code",
   "execution_count": 2,
   "id": "1ab67b60",
   "metadata": {},
   "outputs": [],
   "source": [
    "class NumMatrix:\n",
    "\n",
    "    def __init__(self, matrix: list[list[int]]):\n",
    "        # Number of rows and columns in the original matrix\n",
    "        rows = len(matrix)\n",
    "        columns = len(matrix[0])\n",
    "\n",
    "        # Create a matrix that's 1 row and 1 column larger than the original\n",
    "        # All values initialized to 0 to simplify prefix sum calculations\n",
    "        self.prefix_sum = [[0] * (columns + 1) for _ in range(rows + 1)]\n",
    "\n",
    "        # Fill in the prefix sum matrix\n",
    "        for row in range(rows):\n",
    "            for column in range(columns):\n",
    "                # Each cell stores the sum from (0,0) to (row, column)\n",
    "                # Adjusted by +1 offset due to the extra row/column at index 0\n",
    "                self.prefix_sum[row + 1][column + 1] = (\n",
    "                    matrix[row][column] +                     # current value\n",
    "                    self.prefix_sum[row][column + 1] +        # sum above\n",
    "                    self.prefix_sum[row + 1][column] -        # sum left\n",
    "                    self.prefix_sum[row][column]              # remove double-counted top-left\n",
    "                )\n",
    "\n",
    "    def sumRegion(self, row1: int, col1: int, row2: int, col2: int) -> int:\n",
    "        # (row1, col1): top-left corner of the query rectangle\n",
    "        # (row2, col2): bottom-right corner\n",
    "\n",
    "        # The +1 offset adjusts for the padded row and column in prefix_sum\n",
    "        return (\n",
    "            self.prefix_sum[row2 + 1][col2 + 1] -  # total area\n",
    "            self.prefix_sum[row1][col2 + 1] -      # subtract area above\n",
    "            self.prefix_sum[row2 + 1][col1] +      # subtract area to the left\n",
    "            self.prefix_sum[row1][col1]            # add back overlap (subtracted twice)\n",
    "        )"
   ]
  },
  {
   "cell_type": "markdown",
   "id": "a4394019",
   "metadata": {},
   "source": [
    "### 🧠 Key Concepts Recap\n",
    "\n",
    "- **2D Prefix Sum (Integral Image):**\n",
    "  - Each cell stores the total sum from `(0,0)` to that cell's coordinate.\n",
    "  - Used for constant-time region sum queries after linear-time preprocessing.\n",
    "\n",
    "- **Matrix Padding (+1 row/column):**\n",
    "  - Prevents out-of-bound errors.\n",
    "  - Simplifies logic for cells on the matrix border.\n",
    "\n",
    "- **Inclusion-Exclusion Formula for 2D Region:**"
   ]
  }
 ],
 "metadata": {
  "kernelspec": {
   "display_name": "Python 3",
   "language": "python",
   "name": "python3"
  },
  "language_info": {
   "codemirror_mode": {
    "name": "ipython",
    "version": 3
   },
   "file_extension": ".py",
   "mimetype": "text/x-python",
   "name": "python",
   "nbconvert_exporter": "python",
   "pygments_lexer": "ipython3",
   "version": "3.13.0"
  }
 },
 "nbformat": 4,
 "nbformat_minor": 5
}
