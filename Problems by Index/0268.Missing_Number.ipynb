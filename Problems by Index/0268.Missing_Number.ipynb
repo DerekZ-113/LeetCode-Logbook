{
 "cells": [
  {
   "cell_type": "markdown",
   "id": "98198b8a",
   "metadata": {},
   "source": [
    "### 🧩 Problem: Missing Number (LeetCode #268)\n",
    "\n",
    "You are given an array `nums` containing `n` distinct numbers taken from the range `[0, n]`.  \n",
    "This means one number from that range is missing — your task is to find it.\n",
    "\n",
    "### 💡 Approach: XOR Trick\n",
    "\n",
    "We initialize `result = n`, and then iterate through the array with `enumerate`.  \n",
    "For each `(i, num)`, we XOR both `i` and `num` into `result`.\n",
    "\n",
    "Why this works:\n",
    "- Every number from `0` to `n` appears exactly once **except one**, so when we XOR everything,\n",
    "- `i ^ num ^ i ^ num ...` will cancel out all matched pairs\n",
    "- The **missing number will remain** unpaired, thus revealing itself"
   ]
  },
  {
   "cell_type": "code",
   "execution_count": 3,
   "id": "af4c972a",
   "metadata": {},
   "outputs": [],
   "source": [
    "class Solution:\n",
    "    def missingNumber(self, nums: list[int]) -> int:\n",
    "        result = len(nums)\n",
    "\n",
    "        for i, num in enumerate(nums):\n",
    "            result ^= i ^ num\n",
    "        \n",
    "        return result"
   ]
  },
  {
   "cell_type": "markdown",
   "id": "b188b2b6",
   "metadata": {},
   "source": [
    "### 🧠 Key Concepts Recap\n",
    "\n",
    "- `^` is the XOR operator. It returns 1 if the bits are different, 0 if the same.\n",
    "- `a ^ a = 0` and `a ^ 0 = a`\n",
    "- XOR is **commutative and associative**, so order doesn't matter.\n",
    "- `result ^= i ^ num` is shorthand for `result = result ^ i ^ num`\n",
    "- We start `result` at `n` to include the final missing number in the full range `[0..n]`.\n",
    "- XORing indices with values cancels everything **except the missing number**."
   ]
  }
 ],
 "metadata": {
  "kernelspec": {
   "display_name": "Python 3",
   "language": "python",
   "name": "python3"
  },
  "language_info": {
   "codemirror_mode": {
    "name": "ipython",
    "version": 3
   },
   "file_extension": ".py",
   "mimetype": "text/x-python",
   "name": "python",
   "nbconvert_exporter": "python",
   "pygments_lexer": "ipython3",
   "version": "3.13.0"
  }
 },
 "nbformat": 4,
 "nbformat_minor": 5
}
