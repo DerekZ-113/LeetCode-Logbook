{
 "cells": [
  {
   "cell_type": "code",
   "execution_count": null,
   "id": "8201a3e6",
   "metadata": {},
   "outputs": [],
   "source": [
    "class Solution:\n",
    "    def lastStoneWeight(self, stones: List[int]) -> int:\n",
    "        negate = [-num for num in stones]\n",
    "        heapq.heapify(negate)\n",
    "\n",
    "        while len(negate) > 1:\n",
    "            y = -heapq.heappop(negate)\n",
    "            x = -heapq.heappop(negate)\n",
    "\n",
    "            if x == y:\n",
    "                continue\n",
    "            else:\n",
    "                heapq.heappush(negate, -(y - x))\n",
    "\n",
    "        return -negate[0] if negate else 0"
   ]
  }
 ],
 "metadata": {
  "language_info": {
   "name": "python"
  }
 },
 "nbformat": 4,
 "nbformat_minor": 5
}
