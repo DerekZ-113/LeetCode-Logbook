{
 "cells": [
  {
   "cell_type": "code",
   "execution_count": null,
   "id": "4e2af176",
   "metadata": {},
   "outputs": [],
   "source": [
    "class Solution:\n",
    "    def findClosestElements(self, arr: List[int], k: int, x: int) -> List[int]:\n",
    "        # Binary search the left start of the result array\n",
    "        left = 0\n",
    "        # Right pointer can only go up until len(arr) - k\n",
    "        right = len(arr) - k\n",
    "\n",
    "        while left < right:\n",
    "            # Mid is the starting of result array\n",
    "            mid = (right + left)//2\n",
    "\n",
    "            # Compare distances: start of the array, and one number after the array end\n",
    "            if x - arr[mid] > arr[mid + k] - x:\n",
    "                # If the number at start of the array is larger, the closer number is on the right\n",
    "                # Move left to mid\n",
    "                left = mid + 1\n",
    "            else:\n",
    "                # Otherwise shrink right to mid\n",
    "                right = mid\n",
    "\n",
    "        return arr[left:left+k]"
   ]
  }
 ],
 "metadata": {
  "language_info": {
   "name": "python"
  }
 },
 "nbformat": 4,
 "nbformat_minor": 5
}
