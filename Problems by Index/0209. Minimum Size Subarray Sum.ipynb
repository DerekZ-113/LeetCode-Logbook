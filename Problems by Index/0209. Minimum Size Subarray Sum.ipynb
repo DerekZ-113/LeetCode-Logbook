{
 "cells": [
  {
   "cell_type": "markdown",
   "id": "ee9033fa",
   "metadata": {},
   "source": [
    "### 🧩 Problem Description: 209. Minimum Size Subarray Sum\n",
    "\n",
    "Given an array of positive integers `nums` and an integer `target`, return the minimal length of a **contiguous subarray** of which the sum is **greater than or equal to** `target`. If no such subarray exists, return `0` instead.\n",
    "\n",
    "### 🧠 Approach: Sliding Window Technique\n",
    "\n",
    "- We use a **sliding window** to efficiently track the current sum of elements.\n",
    "- Two pointers (`left` and `right`) define the window.\n",
    "- As we iterate through `nums` with the `right` pointer:\n",
    "  - Add `nums[right]` to a running `current` sum.\n",
    "  - While `current >= target`, we check if the current window length (`right - left + 1`) is the smallest seen so far.\n",
    "  - If so, we update `length`.\n",
    "  - Then, we shrink the window from the left by subtracting `nums[left]` and incrementing `left`.\n",
    "- Finally, if no valid subarray was found, return `0`; otherwise return the `length`."
   ]
  },
  {
   "cell_type": "code",
   "execution_count": null,
   "id": "ce7b50e8",
   "metadata": {},
   "outputs": [],
   "source": [
    "class Solution:\n",
    "    def minSubArrayLen(self, target: int, nums: List[int]) -> int:\n",
    "        length = float(\"inf\")\n",
    "        left = right = 0\n",
    "        current = 0\n",
    "\n",
    "        for right in range(len(nums)):\n",
    "            current += nums[right]\n",
    "\n",
    "            while current >= target:\n",
    "                length = min(length, right - left + 1)\n",
    "                current -= nums[left]\n",
    "                left += 1\n",
    "\n",
    "        return length if length != float(\"inf\") else 0"
   ]
  },
  {
   "cell_type": "markdown",
   "id": "af4758dc",
   "metadata": {},
   "source": [
    "### 🗝️ Key Concepts Recap\n",
    "\n",
    "- **Sliding Window**:\n",
    "  - Ideal for problems dealing with subarrays and constraints.\n",
    "  - Dynamically grows and shrinks a window to maintain valid subarrays.\n",
    "\n",
    "- **Positive Integers Only**:\n",
    "  - This guarantees that increasing `right` increases the sum, and decreasing from `left` decreases it — no backtracking or prefix sum arrays needed.\n",
    "\n",
    "- **Time Complexity**: `O(n)`\n",
    "  - Each element is processed at most twice — once when added and once when removed from the sum.\n",
    "\n",
    "- **Space Complexity**: `O(1)`\n",
    "  - We use only constant extra space for variables like `length`, `left`, `right`, and `current`.\n",
    "\n",
    "- **Corner Case**:\n",
    "  - If no subarray meets the requirement, we return `0` instead of `float(\"inf\")`."
   ]
  }
 ],
 "metadata": {
  "language_info": {
   "name": "python"
  }
 },
 "nbformat": 4,
 "nbformat_minor": 5
}
