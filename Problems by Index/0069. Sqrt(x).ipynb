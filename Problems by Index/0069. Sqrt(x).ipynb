{
 "cells": [
  {
   "cell_type": "markdown",
   "id": "0c6c519d",
   "metadata": {},
   "source": [
    "## 69. Sqrt(x)\n",
    "\n",
    "### 📝 Description\n",
    "Given a non-negative integer `x`, compute and return the **square root** of `x` **rounded down** to the nearest integer.  \n",
    "The returned integer should be the **floor of the actual square root** (i.e., `⌊√x⌋`).\n",
    "\n",
    "You are not allowed to use any built-in exponent function or operator like `pow(x, 0.5)` or `x ** 0.5`.\n",
    "\n",
    "---\n",
    "\n",
    "### ⚙️ Approach\n",
    "Use **binary search** to find the largest integer `mid` such that `mid² ≤ x`.\n",
    "\n",
    "1. Initialize the search bounds:\n",
    "   - `left = 1`, `right = x`  \n",
    "   - (Special case: return 0 if `x == 0`)\n",
    "2. In each iteration:\n",
    "   - Compute `mid = (left + right) // 2`\n",
    "   - If `mid² == x`, return `mid` (perfect square)\n",
    "   - If `mid² > x`, search left half: `right = mid - 1`\n",
    "   - If `mid² < x`, store `mid` as `result` and search right half: `left = mid + 1`\n",
    "3. Return `result` — the floor of the square root.\n",
    "\n",
    "---\n",
    "\n",
    "### 🧠 Key Concepts\n",
    "- **Binary Search on Answer Space**:\n",
    "  - Efficient for monotonic functions like square root.\n",
    "- **Search Invariants**:\n",
    "  - Maintain `result` as the latest valid candidate (`mid² ≤ x`)\n",
    "- **Time Complexity**: O(log x)\n",
    "- **Space Complexity**: O(1)\n",
    "\n",
    "---\n",
    "\n",
    "### 🔍 Example\n",
    "```python\n",
    "Input: x = 8\n",
    "\n",
    "Binary search finds:\n",
    "- 2² = 4 ≤ 8\n",
    "- 3² = 9 > 8\n",
    "\n",
    "Answer: 2"
   ]
  },
  {
   "cell_type": "code",
   "execution_count": null,
   "id": "bdd87443",
   "metadata": {},
   "outputs": [],
   "source": [
    "class Solution:\n",
    "    def mySqrt(self, x: int) -> int:\n",
    "        left = 1\n",
    "        right = x\n",
    "        result = 0\n",
    "\n",
    "        while left <= right:\n",
    "            mid = (left + right) // 2\n",
    "\n",
    "            if mid * mid == x:\n",
    "                return mid\n",
    "            elif mid * mid > x:\n",
    "                right = mid - 1\n",
    "            else:\n",
    "                left += 1\n",
    "                result = mid\n",
    "        \n",
    "        return result"
   ]
  }
 ],
 "metadata": {
  "language_info": {
   "name": "python"
  }
 },
 "nbformat": 4,
 "nbformat_minor": 5
}
