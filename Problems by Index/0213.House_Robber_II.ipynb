{
 "cells": [
  {
   "cell_type": "markdown",
   "id": "1088121a",
   "metadata": {},
   "source": [
    "### 🏚️ 213 House Robber II\n",
    "\n",
    "You are a professional robber planning to rob houses along a circular street.  \n",
    "Each house has a certain amount of money, but adjacent houses **cannot be robbed on the same night** — and the **first and last houses are also adjacent** due to the circular layout.\n",
    "\n",
    "Return the maximum amount of money you can rob **without alerting the police**.\n",
    "\n",
    "### 🧠 Approach\n",
    "\n",
    "This problem extends the original House Robber (198) with a twist:  \n",
    "- Robbing both the **first and last houses** is illegal.\n",
    "\n",
    "So we split the problem into **two linear scenarios**:\n",
    "- Rob houses from index `0` to `n-2`\n",
    "- Rob houses from index `1` to `n-1`\n",
    "\n",
    "We solve each subproblem using the **House Robber I** approach (dynamic programming with two variables) and return the **maximum of the two results**.\n",
    "\n",
    "### ✅ Time & Space Complexity\n",
    "- **Time:** O(n)  \n",
    "- **Space:** O(1)"
   ]
  },
  {
   "cell_type": "code",
   "execution_count": 2,
   "id": "1e105235",
   "metadata": {},
   "outputs": [],
   "source": [
    "class Solution:\n",
    "    def rob(self, houses: list[int]) -> int:\n",
    "        first_run = self.run(houses[1:])\n",
    "        second_run = self.run(houses[0:-2])\n",
    "\n",
    "        return max(first_run, second_run)\n",
    "        \n",
    "    def run(self, houses: list[int]) -> int:\n",
    "        prev1 = 0\n",
    "        prev2 = 0 \n",
    "\n",
    "        for cash in houses:\n",
    "            take = cash + prev2\n",
    "            skip = prev1\n",
    "\n",
    "            prev2 = prev1\n",
    "\n",
    "            prev1 = max(take, skip)\n",
    "\n",
    "        return prev1"
   ]
  },
  {
   "cell_type": "code",
   "execution_count": 3,
   "id": "f2696f4d",
   "metadata": {},
   "outputs": [
    {
     "name": "stdout",
     "output_type": "stream",
     "text": [
      "32\n"
     ]
    }
   ],
   "source": [
    "houses = [1, 5, 2, 6, 5, 8, 9, 3, 10, 3, 2]\n",
    "sol = Solution()\n",
    "result = sol.rob(houses)\n",
    "\n",
    "print(result)"
   ]
  }
 ],
 "metadata": {
  "kernelspec": {
   "display_name": "Python 3",
   "language": "python",
   "name": "python3"
  },
  "language_info": {
   "codemirror_mode": {
    "name": "ipython",
    "version": 3
   },
   "file_extension": ".py",
   "mimetype": "text/x-python",
   "name": "python",
   "nbconvert_exporter": "python",
   "pygments_lexer": "ipython3",
   "version": "3.13.0"
  }
 },
 "nbformat": 4,
 "nbformat_minor": 5
}
