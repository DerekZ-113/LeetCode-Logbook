{
 "cells": [
  {
   "cell_type": "markdown",
   "id": "08a89aaf",
   "metadata": {},
   "source": [
    "## 215. Kth Largest Element in an Array\n",
    "\n",
    "### 📝 Description\n",
    "Given an integer array `nums` and an integer `k`, return the `k`-th largest element in the array.\n",
    "\n",
    "Note that the kth largest means **the element that would be in position `len(nums) - k`** if the array were sorted in **descending** order.\n",
    "\n",
    "---\n",
    "\n",
    "### ⚙️ Approach\n",
    "- Use a **min heap** of size `k` to keep track of the top `k` largest elements.\n",
    "- Heapify the full list to turn it into a valid min heap.\n",
    "- Remove the smallest elements one by one until only `k` elements remain.\n",
    "- The root of the heap (`nums[0]`) is then the `k`-th largest element.\n",
    "\n",
    "---\n",
    "\n",
    "### 🧠 Key Concepts\n",
    "- **Min Heap**:\n",
    "  - Heapify transforms the list into a valid min heap in O(n) time.\n",
    "  - Repeatedly popping the smallest removes non-relevant elements, leaving the k largest.\n",
    "- **Alternative Approach**:\n",
    "  - You could also use `heapq.nlargest(k, nums)[-1]` for a one-liner.\n",
    "- **Time Complexity**:\n",
    "  - Heapify: O(n)\n",
    "  - Up to n−k pops: O((n−k) log n)\n",
    "- **Space Complexity**:\n",
    "  - O(1) extra space (in-place heap)\n",
    "\n",
    "---\n",
    "\n",
    "### 🔍 Example\n",
    "```python\n",
    "Input: nums = [3,2,1,5,6,4], k = 2\n",
    "\n",
    "Sorted: [6, 5, 4, 3, 2, 1]\n",
    "2nd largest = 5\n",
    "\n",
    "Output: 5"
   ]
  },
  {
   "cell_type": "code",
   "execution_count": null,
   "id": "8d66e2ee",
   "metadata": {},
   "outputs": [],
   "source": [
    "import heapq\n",
    "from typing import List\n",
    "\n",
    "class Solution:\n",
    "    def findKthLargest(self, nums: List[int], k: int) -> int:\n",
    "        # Transform the list into a heap in-place\n",
    "        heapq.heapify(nums)\n",
    "\n",
    "        # Pop the smallest elements until k elements remain\n",
    "        while len(nums) > k:\n",
    "            heapq.heappop(nums)\n",
    "\n",
    "        # The smallest in the heap of size k is the kth largest in original list\n",
    "        return nums[0] if nums else 0"
   ]
  }
 ],
 "metadata": {
  "language_info": {
   "name": "python"
  }
 },
 "nbformat": 4,
 "nbformat_minor": 5
}
