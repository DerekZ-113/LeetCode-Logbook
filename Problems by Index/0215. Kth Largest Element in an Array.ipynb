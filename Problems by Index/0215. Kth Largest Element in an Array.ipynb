{
 "cells": [
  {
   "cell_type": "markdown",
   "id": "d0aaaf15",
   "metadata": {},
   "source": []
  },
  {
   "cell_type": "code",
   "execution_count": null,
   "id": "74897cd1",
   "metadata": {},
   "outputs": [],
   "source": [
    "class Solution:\n",
    "    def findKthLargest(self, nums: List[int], k: int) -> int:\n",
    "        heap = []\n",
    "\n",
    "        for num in nums:\n",
    "            heapq.heappush(heap, num)\n",
    "\n",
    "            while len(heap) > k:\n",
    "                heapq.heappop(heap)\n",
    "        return heap[0]"
   ]
  },
  {
   "cell_type": "markdown",
   "id": "0e65174f",
   "metadata": {},
   "source": []
  }
 ],
 "metadata": {
  "language_info": {
   "name": "python"
  }
 },
 "nbformat": 4,
 "nbformat_minor": 5
}
