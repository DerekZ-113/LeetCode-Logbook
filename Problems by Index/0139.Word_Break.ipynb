{
 "cells": [
  {
   "cell_type": "markdown",
   "id": "a1cf244f",
   "metadata": {},
   "source": [
    "### 🧠 Description & Approach\n",
    "\n",
    "**Problem:**  \n",
    "Given a string `s` and a list of words `wordDict`, determine if `s` can be segmented into a space-separated sequence of one or more dictionary words.\n",
    "\n",
    "**Approach (Bottom-Up Reverse DP):**\n",
    "- Define `dp[i]` to mean: *Can the substring `s[i:]` be segmented?*\n",
    "- Initialize `dp[len(s)] = True` (empty string is always segmentable).\n",
    "- Loop backward through `s` from `len(s)-1` to `0`.\n",
    "- For each position `i`, try every word in `wordDict`:\n",
    "  - If the word matches `s[i:i+len(word)]` and `dp[i+len(word)]` is `True`, then set `dp[i] = True`.\n",
    "  - Break early to avoid unnecessary checks.\n",
    "- Final result is `dp[0]`, which tells us if the entire string is segmentable.\n",
    "\n",
    "**Time Complexity:** `O(n * k)` where:\n",
    "- `n = len(s)`\n",
    "- `k = average word length × size of wordDict`\n",
    "\n",
    "**Space Complexity:** `O(n)` for the `dp` array."
   ]
  },
  {
   "cell_type": "code",
   "execution_count": null,
   "id": "ef7bc32e",
   "metadata": {},
   "outputs": [],
   "source": [
    "class Solution:\n",
    "    def wordBreak(self, s: str, wordDict: List[str]) -> bool:\n",
    "        # dp[i] will be True if s[i:] can be segmented using wordDict\n",
    "        dp = [False] * (len(s) + 1)\n",
    "\n",
    "        # An empty string is trivially segmentable\n",
    "        dp[len(s)] = True\n",
    "\n",
    "        # Traverse the string in reverse: from the last character back to the first\n",
    "        for i in range(len(s) - 1, -1, -1):\n",
    "            for word in wordDict:\n",
    "                # Check if the word fits in the remaining string\n",
    "                if i + len(word) <= len(s) and s[i: i + len(word)] == word:\n",
    "                    # If the rest of the string after this word can be segmented,\n",
    "                    # then this position is also valid\n",
    "                    dp[i] = dp[i + len(word)]\n",
    "                \n",
    "                # Once we know dp[i] is True, no need to check more words\n",
    "                if dp[i] == True:\n",
    "                    break\n",
    "        \n",
    "        # The entire string is segmentable if dp[0] is True\n",
    "        return dp[0]"
   ]
  },
  {
   "cell_type": "markdown",
   "id": "3d8654e2",
   "metadata": {},
   "source": [
    "### 📌 Key Concepts Recap\n",
    "\n",
    "- ✅ **Dynamic Programming**: Solve smaller subproblems (suffixes) and build toward the full string.\n",
    "- 🧱 `dp[i] = True` means `s[i:]` can be formed using words from the dictionary.\n",
    "- 🔁 **Reverse traversal** avoids recomputing partial prefixes — we only care about what remains.\n",
    "- ⛳ **Early exit optimization**: Once we find a match that works at `i`, we can skip checking the rest.\n",
    "- ⚡ `wordDict` lookup is `O(1)` if converted to a `set`, which can boost speed on large inputs.\n",
    "- 🎯 This problem has the same structure as problems like **Coin Change** and **Decode Ways** — think: *can we reach the end from here?*"
   ]
  }
 ],
 "metadata": {
  "language_info": {
   "name": "python"
  }
 },
 "nbformat": 4,
 "nbformat_minor": 5
}
