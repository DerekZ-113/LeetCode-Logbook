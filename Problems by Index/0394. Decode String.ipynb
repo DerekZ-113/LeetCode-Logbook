{
 "cells": [
  {
   "cell_type": "markdown",
   "id": "0343b9c8",
   "metadata": {},
   "source": [
    "## 🧩 Problem: Decode String (Leetcode 394)\n",
    "\n",
    "You're given an encoded string where the encoding rule is: `k[encoded_string]`. The `encoded_string` inside the square brackets is repeated exactly `k` times. Your goal is to return the decoded version of the string.\n",
    "\n",
    "### 🔨 Approach\n",
    "\n",
    "Use a **stack** to simulate decoding:\n",
    "\n",
    "- Traverse the string character by character.\n",
    "- If the character is not `]`, push it to the stack.\n",
    "- When you hit `]`, it signals the end of a pattern:\n",
    "  1. Pop characters until `'['` to get the encoded substring.\n",
    "  2. Pop digits before the `'['` to get the multiplier.\n",
    "  3. Multiply the substring and push the result back on the stack.\n",
    "- At the end, join everything in the stack to form the final string.\n",
    "\n",
    "This handles **nested encodings** naturally by decoding innermost brackets first."
   ]
  },
  {
   "cell_type": "code",
   "execution_count": null,
   "id": "5d1b4d39",
   "metadata": {},
   "outputs": [],
   "source": [
    "class Solution:\n",
    "    def decodeString(self, s: str) -> str:\n",
    "        stack = []\n",
    "\n",
    "        for i in range(len(s)):\n",
    "            # Add elements in stack until we see a closing bracket \n",
    "            if s[i] != \"]\":\n",
    "                stack.append(s[i])\n",
    "            # When we encounter a closing bracket\n",
    "            else:\n",
    "                # Construct the substring, working from the back of the stack\n",
    "                string = \"\"\n",
    "                # Keep adding the characters until we see an open bracket\n",
    "                while stack and stack[-1] != \"[\":\n",
    "                    string = stack.pop() + string\n",
    "                # This pop the open bracket in the stack\n",
    "                stack.pop()\n",
    "\n",
    "                # Construct the number in same way\n",
    "                num = \"\"\n",
    "                while stack and stack[-1].isdigit():\n",
    "                    num = stack.pop() + num\n",
    "                # Add the resulting string in stack\n",
    "                stack.append(int(num) * string)\n",
    "                \n",
    "        return \"\".join(stack)"
   ]
  },
  {
   "cell_type": "markdown",
   "id": "8c01b7ce",
   "metadata": {},
   "source": [
    "### 🔑 Key Concepts\n",
    "\n",
    "- **Stacks** help handle nested patterns (e.g., `3[a2[c]]`).\n",
    "- When `]` is found:\n",
    "  - Pop characters to form the substring.\n",
    "  - Pop the `'['`.\n",
    "  - Pop digits to form the multiplier.\n",
    "  - Multiply the substring and push back the result.\n",
    "- The final result is built from left to right as we unwind nested levels.\n",
    "- **Edge cases** to watch:\n",
    "  - Multi-digit numbers (`12[a]`)\n",
    "  - Nested brackets"
   ]
  }
 ],
 "metadata": {
  "language_info": {
   "name": "python"
  }
 },
 "nbformat": 4,
 "nbformat_minor": 5
}
