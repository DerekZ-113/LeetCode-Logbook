{
 "cells": [
  {
   "cell_type": "markdown",
   "id": "b4048d0e",
   "metadata": {},
   "source": [
    "## 135. Candy\n",
    "\n",
    "### 📝 Description\n",
    "There are `n` children standing in a line, each with a performance **rating**. You must give each child at least **one candy**. Children with a **higher rating than an immediate neighbor** must get **more candies** than that neighbor. Return the **minimum total** number of candies required.\n",
    "\n",
    "---\n",
    "\n",
    "### ⚙️ Approach\n",
    "Use a **two-pass greedy sweep**:\n",
    "\n",
    "1. **Left → Right pass**  \n",
    "   Ensure the \"higher than left neighbor\" rule:\n",
    "   - If `ratings[i] > ratings[i-1]`, then `candies[i] = candies[i-1] + 1`.\n",
    "\n",
    "2. **Right → Left pass**  \n",
    "   Ensure the \"higher than right neighbor\" rule *without breaking the left rule*:\n",
    "   - If `ratings[i] > ratings[i+1]`, set  \n",
    "     `candies[i] = max(candies[i], candies[i+1] + 1)`.\n",
    "\n",
    "Sum the array at the end.\n",
    "\n",
    "---\n",
    "\n",
    "### 🧠 Key Concepts\n",
    "- **Greedy local constraints**: Enforce each direction separately, then merge via `max`.\n",
    "- **At least one candy**: Initialize all with `1`.\n",
    "- **Why two passes?** A child may need to satisfy both left and right comparisons; second pass fixes under-assignments.\n",
    "- **Time Complexity**: O(n)\n",
    "- **Space Complexity**: O(n) for the candies array.\n",
    "\n",
    "---\n",
    "\n",
    "### 🔍 Example\n",
    "```python\n",
    "# Example 1\n",
    "ratings = [1, 0, 2]\n",
    "Candies: [2, 1, 2] → Total = 5\n",
    "\n",
    "# Example 2\n",
    "ratings = [1, 2, 2]\n",
    "Candies after L→R: [1, 2, 1]\n",
    "Adjust R→L:        [1, 2, 1]  # middle > right already ok\n",
    "Total = 4"
   ]
  },
  {
   "cell_type": "code",
   "execution_count": null,
   "id": "20151a88",
   "metadata": {},
   "outputs": [],
   "source": [
    "class Solution:\n",
    "    def candy(self, ratings: List[int]) -> int:\n",
    "        result = [1] * len(ratings)\n",
    "\n",
    "        # Compare with left neighbor: increasing rating\n",
    "        for i in range(1, len(ratings)):\n",
    "            # if i higher rating, have one more candy than i - 1\n",
    "            if ratings[i] > ratings[i - 1]:\n",
    "                result[i] = result[i - 1] + 1\n",
    "        \n",
    "        # Compare with right neighbor: decreasing rating\n",
    "        for i in range(len(ratings) - 2, -1, -1):\n",
    "            # if i has higher rating, have one more candy than i + 1 \n",
    "            # only if i does not have more candies yet\n",
    "            if ratings[i] > ratings[i + 1]:\n",
    "                result[i] = max(result[i], result[i + 1] + 1)\n",
    "        \n",
    "        return sum(result)"
   ]
  }
 ],
 "metadata": {
  "language_info": {
   "name": "python"
  }
 },
 "nbformat": 4,
 "nbformat_minor": 5
}
