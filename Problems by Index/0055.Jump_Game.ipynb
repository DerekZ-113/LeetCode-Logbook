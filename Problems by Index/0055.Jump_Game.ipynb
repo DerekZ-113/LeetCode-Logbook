{
 "cells": [
  {
   "cell_type": "markdown",
   "id": "86d45ebb",
   "metadata": {},
   "source": [
    "### 🚀 Description / Approach\n",
    "\n",
    "**Problem**:  \n",
    "Given an array `nums`, where each element represents your max jump length at that index, determine if you can reach the last index starting from the first.\n",
    "\n",
    "**Approach**:  \n",
    "Work **backward** from the end using a greedy method.\n",
    "\n",
    "1. Set a `flag` at the last index (this is the \"goal\" we're trying to reach).\n",
    "2. Loop from the second-last element toward the beginning:\n",
    "   - If from the current index `i`, you can reach the current `flag` (`i + nums[i] >= flag`), then update `flag = i`.\n",
    "3. If after the loop, `flag` has moved all the way back to 0, it means we can reach the end from the start.\n",
    "\n",
    "This greedy reverse approach efficiently answers whether the path is reachable."
   ]
  },
  {
   "cell_type": "code",
   "execution_count": null,
   "id": "c6ca4897",
   "metadata": {},
   "outputs": [],
   "source": [
    "class Solution:\n",
    "    def canJump(self, nums: List[int]) -> bool:\n",
    "        flag = len(nums)-1\n",
    "\n",
    "        for i in range(len(nums)-1, -1, -1):\n",
    "            if i + nums[i] >= flag:\n",
    "                flag = i\n",
    "        \n",
    "        return flag == 0"
   ]
  },
  {
   "cell_type": "markdown",
   "id": "1afec6d2",
   "metadata": {},
   "source": [
    "### 🧩 Key Concepts Recap\n",
    "\n",
    "- **Greedy Backtracking**: Instead of jumping forward, we check which positions can reach the end and move the goal backward.\n",
    "- **Reachability Check**: Every index `i` is checked to see if it can reach the `flag`.\n",
    "- **Time Complexity**: `O(n)` — each index is visited once in reverse.\n",
    "- **Space Complexity**: `O(1)` — no extra memory used.\n",
    "\n",
    "A minimal and elegant greedy approach that flips the intuitive direction and still nails the problem efficiently."
   ]
  }
 ],
 "metadata": {
  "language_info": {
   "name": "python"
  }
 },
 "nbformat": 4,
 "nbformat_minor": 5
}
