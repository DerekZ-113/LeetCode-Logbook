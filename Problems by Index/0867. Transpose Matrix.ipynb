{
 "cells": [
  {
   "cell_type": "markdown",
   "id": "66437145",
   "metadata": {},
   "source": [
    "## 867. Transpose Matrix\n",
    "\n",
    "### 📝 Description\n",
    "Given a 2D integer matrix, return the **transpose** of the matrix.\n",
    "\n",
    "The transpose of a matrix is obtained by **flipping it over its diagonal**, switching the matrix's row and column indices.\n",
    "\n",
    "---\n",
    "\n",
    "### ⚙️ Approach\n",
    "- First, determine the number of **rows** and **columns** in the original matrix.\n",
    "- Create a **new matrix** of dimensions `cols x rows` (since rows and columns will swap).\n",
    "- Loop through each cell in the original matrix and copy `matrix[row][col]` into `result[col][row]`.\n",
    "- Return the new transposed matrix.\n",
    "\n",
    "---\n",
    "\n",
    "### 🧠 Key Concepts\n",
    "- **Transpose Definition**:\n",
    "  - For a matrix `A`, the transpose `Aᵗ` is defined by `Aᵗ[i][j] = A[j][i]`.\n",
    "- **Dimensions Flip**:\n",
    "  - A `m x n` matrix becomes `n x m` after transpose.\n",
    "- **Time Complexity**: O(m × n) — every element is visited once.\n",
    "- **Space Complexity**: O(m × n) — new result matrix is created.\n",
    "\n",
    "---\n",
    "\n",
    "### 🔍 Example\n",
    "```python\n",
    "Input:\n",
    "matrix = [\n",
    "  [1, 2, 3],\n",
    "  [4, 5, 6]\n",
    "]\n",
    "\n",
    "Output:\n",
    "[\n",
    "  [1, 4],\n",
    "  [2, 5],\n",
    "  [3, 6]\n",
    "]"
   ]
  },
  {
   "cell_type": "code",
   "execution_count": null,
   "id": "316fda8a",
   "metadata": {},
   "outputs": [],
   "source": [
    "from typing import List\n",
    "\n",
    "class Solution:\n",
    "    def transpose(self, matrix: List[List[int]]) -> List[List[int]]:\n",
    "        rows = len(matrix)\n",
    "        cols = len(matrix[0])\n",
    "\n",
    "        # Initialize transposed matrix with swapped dimensions\n",
    "        result = [[0] * rows for _ in range(cols)]\n",
    "\n",
    "        # Fill in transposed matrix\n",
    "        for col in range(cols):\n",
    "            for row in range(rows):\n",
    "                result[col][row] = matrix[row][col]\n",
    "\n",
    "        return result"
   ]
  }
 ],
 "metadata": {
  "language_info": {
   "name": "python"
  }
 },
 "nbformat": 4,
 "nbformat_minor": 5
}
