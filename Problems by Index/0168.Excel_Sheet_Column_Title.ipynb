{
 "cells": [
  {
   "cell_type": "markdown",
   "id": "376d192e",
   "metadata": {},
   "source": [
    "### 📄 Problem: Excel Sheet Column Title (LeetCode 168)\n",
    "\n",
    "Given a positive integer `columnNumber`, return its corresponding column title as it appears in an Excel sheet.\n",
    "\n",
    "#### 🔍 Example:\n",
    "- 1 → \"A\"\n",
    "- 28 → \"AB\"\n",
    "- 701 → \"ZY\"\n",
    "\n",
    "### 🧠 Approach\n",
    "\n",
    "This is similar to converting a number to base-26, but with a twist:\n",
    "\n",
    "- Excel titles are **1-based**, not 0-based.\n",
    "  - `'A'` = 1, `'B'` = 2, ..., `'Z'` = 26\n",
    "  - After `'Z'`, the next is `'AA'` → like carrying over in base-26\n",
    "- Because of the 1-based system, we:\n",
    "  - Subtract 1 before taking modulo (`n -= 1`)\n",
    "  - Use `chr(char_index + ord(\"A\"))` to map index 0–25 to letters `'A'`–`'Z'`\n",
    "- Use a loop to extract characters from the end and build the string from right to left.\n",
    "- `deque` is used with `appendleft()` to avoid reversing at the end.\n",
    "\n",
    "#### ✅ Time Complexity\n",
    "- **O(logₙ)** base 26 — because we divide `n` by 26 each time.\n",
    "\n",
    "#### ✅ Space Complexity\n",
    "- **O(logₙ)** — we store one letter per digit in the result."
   ]
  },
  {
   "cell_type": "code",
   "execution_count": null,
   "id": "f3bc85b5",
   "metadata": {},
   "outputs": [],
   "source": [
    "from collections import deque\n",
    "class Solution:\n",
    "    def convertToTitle(self, columnNumber: int) -> str:\n",
    "        result = deque()\n",
    "\n",
    "        while columnNumber > 0:\n",
    "            columnNumber -= 1\n",
    "            char_index = columnNumber % 26\n",
    "            result.appendleft(chr(char_index + ord(\"A\")))\n",
    "            columnNumber //= 26\n",
    "\n",
    "        return \"\".join(result)"
   ]
  },
  {
   "cell_type": "markdown",
   "id": "aa764e86",
   "metadata": {},
   "source": [
    "### 🧠 Key Concepts Recap\n",
    "\n",
    "- Excel column titles follow a **1-indexed base-26 system** with letters `'A'` to `'Z'`.\n",
    "- Subtracting 1 from the column number before modulo (`n -= 1`) allows proper mapping to 0-indexed alphabet (0 → `'A'`, ..., 25 → `'Z'`).\n",
    "- `chr()` is used to convert integer indexes back to characters.\n",
    "- `ord('A')` returns 65, the ASCII code for `'A'`.\n",
    "- Using `deque.appendleft()` avoids needing to reverse the list at the end.\n",
    "- Loop continues until the number reduces to 0."
   ]
  }
 ],
 "metadata": {
  "kernelspec": {
   "display_name": "Python 3",
   "language": "python",
   "name": "python3"
  },
  "language_info": {
   "codemirror_mode": {
    "name": "ipython",
    "version": 3
   },
   "file_extension": ".py",
   "mimetype": "text/x-python",
   "name": "python",
   "nbconvert_exporter": "python",
   "pygments_lexer": "ipython3",
   "version": "3.13.0"
  }
 },
 "nbformat": 4,
 "nbformat_minor": 5
}
