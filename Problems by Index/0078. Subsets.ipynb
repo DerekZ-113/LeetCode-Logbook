{
 "cells": [
  {
   "cell_type": "code",
   "execution_count": null,
   "id": "a538107c",
   "metadata": {},
   "outputs": [],
   "source": [
    "class Solution:\n",
    "    def subsets(self, nums: List[int]) -> List[List[int]]:\n",
    "        result = []\n",
    "\n",
    "        def backtrack(start, path):\n",
    "            if start == len(nums):\n",
    "                result.append(path[:])\n",
    "                return\n",
    "\n",
    "            path.append(nums[start])\n",
    "            backtrack(start + 1, path)\n",
    "            path.pop()\n",
    "            backtrack(start + 1, path)\n",
    "\n",
    "        backtrack(0, [])\n",
    "        return result"
   ]
  }
 ],
 "metadata": {
  "language_info": {
   "name": "python"
  }
 },
 "nbformat": 4,
 "nbformat_minor": 5
}
