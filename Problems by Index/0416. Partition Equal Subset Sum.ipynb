{
 "cells": [
  {
   "cell_type": "markdown",
   "id": "c9c54e76",
   "metadata": {},
   "source": [
    "### 📝 Partition Equal Subset Sum — Description & Approach  \n",
    "You’re given `nums` and need to decide if it can be split into **two subsets of equal sum**.\n",
    "\n",
    "1. **Parity sanity-check**  \n",
    "   *If the total sum is odd, stop right there — you’ll never balance that sucker.*  \n",
    "2. **Reframe the problem**  \n",
    "   Find **one** subset that adds up to `target = total // 2`.  \n",
    "   > Classic 0/1-knapsack: each number is an item, “weight = value”.  \n",
    "3. **1-D DP (space-savvy)**  \n",
    "   * `dp[j]` → **True** if any subset seen so far hits exact sum `j`.  \n",
    "   * Initialise `dp[0] = True` (empty subset).  \n",
    "   * For every `num` in `nums`, sweep `j = target … num` **backwards**:  \n",
    "     `dp[j] |= dp[j - num]`  \n",
    "     — if we could reach `j - num` before, we can now reach `j` by adding `num`.  \n",
    "4. **Early exit**  \n",
    "   The millisecond `dp[target]` flips to **True**, you’ve won — bail out.  \n",
    "\n",
    "**Complexities**  \n",
    "* Time ≈ `O(n · target)`  \n",
    "* Space ≈ `O(target)` (fits easily under LC constraints)  "
   ]
  },
  {
   "cell_type": "code",
   "execution_count": null,
   "id": "c280dda5",
   "metadata": {},
   "outputs": [],
   "source": [
    "from typing import List\n",
    "\n",
    "class Solution:\n",
    "    def canPartition(self, nums: List[int]) -> bool:\n",
    "        \"\"\"\n",
    "        Return True iff the array can be split into two subsets with equal sum.\n",
    "        Reduces to: 0/1-knapsack asking whether any subset sums to `target = total // 2`.\n",
    "        \"\"\"\n",
    "        total = sum(nums)\n",
    "\n",
    "        # ➊ Parity guard ──────────────────────────────────────────────────────\n",
    "        # An odd total can never be split into two equal integers.\n",
    "        if total & 1:\n",
    "            return False\n",
    "\n",
    "        target = total // 2\n",
    "        dp = [False] * (target + 1)\n",
    "        dp[0] = True                     # empty subset makes 0\n",
    "\n",
    "        # ➋ Core DP ──────────────────────────────────────────────────────────\n",
    "        # dp[j] gets flipped to True if a previous subset hit (j - num);\n",
    "        # scanning j *downwards* ensures each num is used at most once.\n",
    "        for num in nums:\n",
    "            for j in range(target, num - 1, -1):\n",
    "                dp[j] |= dp[j - num]\n",
    "\n",
    "            if dp[target]:               # early success → short-circuit\n",
    "                return True\n",
    "\n",
    "        return dp[target]"
   ]
  },
  {
   "cell_type": "markdown",
   "id": "8f981a93",
   "metadata": {},
   "source": [
    "### 🧠 Key Concepts Recap\n",
    "* **Even-sum prerequisite** — odd totals are a hard “nope”.  \n",
    "* **Subset-sum ⇄ 0/1 knapsack** — same DP skeleton, different story.  \n",
    "* **Descending inner loop** — preserves the “previous row”, preventing item reuse.  \n",
    "* **Seed truth (`dp[0]`) fans outward** — each element shifts the truth bitmask right.  \n",
    "* **Bitset one-liner** (Python int trick) can turbo-charge the same idea.  \n",
    "* **Early exit** saves cycles on real-world inputs.  "
   ]
  }
 ],
 "metadata": {
  "language_info": {
   "name": "python"
  }
 },
 "nbformat": 4,
 "nbformat_minor": 5
}
