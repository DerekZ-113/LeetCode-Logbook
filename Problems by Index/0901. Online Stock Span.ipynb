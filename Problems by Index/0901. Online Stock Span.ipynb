{
 "cells": [
  {
   "cell_type": "markdown",
   "id": "3ff560c0",
   "metadata": {},
   "source": [
    "### 🧾 Description\n",
    "\n",
    "You are asked to implement a class `StockSpanner` that calculates the \"stock span\" for each daily stock price.  \n",
    "The span of a stock's price today is the number of consecutive days (including today) the price has been **less than or equal to** today's price.\n",
    "\n",
    "### 🧠 Approach\n",
    "\n",
    "We use a **monotonic decreasing stack** to store pairs of `(price, span)`. For each new `price`, we:\n",
    "\n",
    "- Start with `span = 1` (current day).\n",
    "- While the top of the stack has a price **less than or equal** to today's price:\n",
    "  - Pop the stack and **add its span** to the current span.\n",
    "- Push the current `(price, span)` back to the stack.\n",
    "\n",
    "This way, we skip over all the previous prices that don't block today's span.\n",
    "\n",
    "This approach ensures **amortized O(1)** time per operation by collapsing consecutive lower-or-equal prices into a single entry."
   ]
  },
  {
   "cell_type": "code",
   "execution_count": null,
   "id": "0ab76755",
   "metadata": {},
   "outputs": [],
   "source": [
    "class StockSpanner:\n",
    "\n",
    "    def __init__(self):\n",
    "        # Stack to record prices in decreaning order\n",
    "        # Monotonic decreasing order\n",
    "        self.stack = []\n",
    "\n",
    "    def next(self, price: int) -> int:\n",
    "        # Every day span starts at 1\n",
    "        span = 1\n",
    "\n",
    "        # If today's price is higher or equal to the last price recorded in stack\n",
    "        while self.stack and price >= self.stack[-1][0]:\n",
    "            # Add the days to today's span\n",
    "            span += self.stack[-1][1]\n",
    "            # Pop the last value in span\n",
    "            self.stack.pop()\n",
    "\n",
    "        # Append the new (price, span) tuple in stack\n",
    "        # The price is guaranteed smaller than the previous price\n",
    "        self.stack.append((price, span))\n",
    "        \n",
    "        return span\n",
    "\n",
    "# Your StockSpanner object will be instantiated and called as such:\n",
    "# obj = StockSpanner()\n",
    "# param_1 = obj.next(price)"
   ]
  },
  {
   "cell_type": "markdown",
   "id": "738eb125",
   "metadata": {},
   "source": [
    "### 📚 Key Concepts Recap\n",
    "\n",
    "- **Monotonic Stack**:\n",
    "  - Maintains a strictly decreasing order of prices.\n",
    "  - Pops previous prices that are <= the current price to accumulate the span.\n",
    "\n",
    "- **Span Calculation**:\n",
    "  - Span includes the number of consecutive previous days with prices <= today.\n",
    "  - Equal prices are included, so we must use `>=` in comparisons.\n",
    "\n",
    "- **Why Use a Stack**:\n",
    "  - Efficient tracking of previous prices.\n",
    "  - Avoids rechecking every price in brute-force fashion.\n",
    "\n",
    "- **Time Complexity**:\n",
    "  - Each price is pushed and popped at most once → amortized **O(1)** per `next()` call.\n",
    "\n",
    "This is a classic **online algorithm** problem with a real-world data stream feel."
   ]
  }
 ],
 "metadata": {
  "language_info": {
   "name": "python"
  }
 },
 "nbformat": 4,
 "nbformat_minor": 5
}
