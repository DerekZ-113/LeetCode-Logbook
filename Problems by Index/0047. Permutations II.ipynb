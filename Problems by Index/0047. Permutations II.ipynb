{
 "cells": [
  {
   "cell_type": "code",
   "execution_count": null,
   "id": "748746f5",
   "metadata": {},
   "outputs": [],
   "source": [
    "class Solution:\n",
    "    def permuteUnique(self, nums: List[int]) -> List[List[int]]:\n",
    "        nums.sort()\n",
    "        result = []\n",
    "        used = [False] * len(nums)\n",
    "\n",
    "        def backtrack(path):\n",
    "            if len(path) == len(nums):\n",
    "                result.append(path[:])\n",
    "                return\n",
    "\n",
    "            for i in range(len(nums)):\n",
    "                if used[i]:\n",
    "                    continue\n",
    "                if i > 0 and nums[i] == nums[i - 1] and not used[i - 1]:\n",
    "                    continue\n",
    "\n",
    "                used[i] = True\n",
    "                path.append(nums[i])\n",
    "                backtrack(path)\n",
    "                path.pop()\n",
    "                used[i] = False\n",
    "        \n",
    "        backtrack([])\n",
    "        return result"
   ]
  }
 ],
 "metadata": {
  "language_info": {
   "name": "python"
  }
 },
 "nbformat": 4,
 "nbformat_minor": 5
}
