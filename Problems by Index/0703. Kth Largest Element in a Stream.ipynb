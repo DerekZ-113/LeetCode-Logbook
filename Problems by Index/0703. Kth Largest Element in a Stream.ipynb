{
 "cells": [
  {
   "cell_type": "markdown",
   "id": "31509281",
   "metadata": {},
   "source": [
    "### 703. Kth Largest Element in a Stream\n",
    "\n",
    "### 📝 Description\n",
    "Design a class to efficiently find the k-th largest element in a stream of integers. Implement a class `KthLargest` that maintains a running stream of integers and returns the k-th largest number each time a new number is added.\n",
    "\n",
    "You need to:\n",
    "- Initialize the class with an integer `k` and a list of integers `nums`.\n",
    "- Implement the method `add(val: int)` that appends a new number to the stream and returns the k-th largest element.\n",
    "\n",
    "---\n",
    "\n",
    "### ⚙️ Approach\n",
    "- Use a **min-heap** (priority queue) to keep track of the k largest elements seen so far.\n",
    "- During initialization:\n",
    "  - Convert `nums` into a heap.\n",
    "  - Trim the heap until it only has `k` elements — ensuring the smallest in the heap is the k-th largest element in the overall stream.\n",
    "- Each time `add(val)` is called:\n",
    "  - Push the new value into the heap.\n",
    "  - If the heap grows beyond `k` elements, pop the smallest.\n",
    "  - Return the root of the heap (`min_heap[0]`) which is always the k-th largest.\n",
    "\n",
    "---\n",
    "\n",
    "### 🧠 Key Concepts\n",
    "- **Min-Heap**: Efficiently maintains the k largest elements. The smallest of them (heap root) represents the k-th largest overall.\n",
    "- **Heap Invariant**: At any time, `min_heap` contains exactly `k` elements — the current top `k` largest elements.\n",
    "- **Time Complexity**:\n",
    "  - Initialization: O(n log n) for heapify and trimming.\n",
    "  - Each `add`: O(log k) due to heap push and (optional) pop.\n",
    "- **Space Complexity**: O(k), storing only `k` elements in the heap."
   ]
  },
  {
   "cell_type": "code",
   "execution_count": null,
   "id": "536e92aa",
   "metadata": {},
   "outputs": [],
   "source": [
    "class KthLargest:\n",
    "\n",
    "    def __init__(self, k: int, nums: List[int]):\n",
    "        # Use min heap to track \n",
    "        self.min_heap = nums\n",
    "        self.k = k\n",
    "        heapq.heapify(self.min_heap)\n",
    "        # Only keep k elements in heap\n",
    "        # The first number is the kth largest number since it's a min heap\n",
    "        # The rest numbers are larger or equal than current one\n",
    "        if len(self.min_heap) > k:\n",
    "            heapq.heappop(self.min_heap)\n",
    "\n",
    "    def add(self, val: int) -> int:\n",
    "        # Push to heap\n",
    "        heapq.heappush(self.min_heap, val)\n",
    "        # Keep pop the extra smaller numbers\n",
    "        while len(self.min_heap) > self.k:\n",
    "            heapq.heappop(self.min_heap)\n",
    "\n",
    "        # The top number is the kth largest number (Also the smallest in heap)\n",
    "        return self.min_heap[0]\n",
    "\n",
    "\n",
    "\n",
    "# Your KthLargest object will be instantiated and called as such:\n",
    "# obj = KthLargest(k, nums)\n",
    "# param_1 = obj.add(val)"
   ]
  }
 ],
 "metadata": {
  "language_info": {
   "name": "python"
  }
 },
 "nbformat": 4,
 "nbformat_minor": 5
}
