{
 "cells": [
  {
   "cell_type": "code",
   "execution_count": null,
   "id": "536e92aa",
   "metadata": {},
   "outputs": [],
   "source": [
    "class KthLargest:\n",
    "\n",
    "    def __init__(self, k: int, nums: List[int]):\n",
    "        # Use min heap to track \n",
    "        self.min_heap = nums\n",
    "        self.k = k\n",
    "        heapq.heapify(self.min_heap)\n",
    "        # Only keep k elements in heap\n",
    "        # The first number is the kth largest number since it's a min heap\n",
    "        # The rest numbers are larger or equal than current one\n",
    "        if len(self.min_heap) > k:\n",
    "            heapq.heappop(self.min_heap)\n",
    "\n",
    "    def add(self, val: int) -> int:\n",
    "        # Push to heap\n",
    "        heapq.heappush(self.min_heap, val)\n",
    "        # Keep pop the extra smaller numbers\n",
    "        while len(self.min_heap) > self.k:\n",
    "            heapq.heappop(self.min_heap)\n",
    "\n",
    "        # The top number is the kth largest number (Also the smallest in heap)\n",
    "        return self.min_heap[0]\n",
    "\n",
    "\n",
    "\n",
    "# Your KthLargest object will be instantiated and called as such:\n",
    "# obj = KthLargest(k, nums)\n",
    "# param_1 = obj.add(val)"
   ]
  }
 ],
 "metadata": {
  "language_info": {
   "name": "python"
  }
 },
 "nbformat": 4,
 "nbformat_minor": 5
}
