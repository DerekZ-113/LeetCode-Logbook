{
 "cells": [
  {
   "cell_type": "code",
   "execution_count": null,
   "id": "3a0bd303",
   "metadata": {},
   "outputs": [],
   "source": [
    "class Solution:\n",
    "    def combinationSum2(self, candidates: List[int], target: int) -> List[List[int]]:\n",
    "        candidates.sort()\n",
    "        result = []\n",
    "\n",
    "        def backtrack(start, path, total):\n",
    "            if total == target:\n",
    "                result.append(path[:])\n",
    "                return\n",
    "\n",
    "            if total > target:\n",
    "                return\n",
    "\n",
    "            for i in range(start, len(candidates)):\n",
    "                if i > start and candidates[i] == candidates[i - 1]:\n",
    "                    continue\n",
    "                path.append(candidates[i])\n",
    "                backtrack(i + 1, path, total + candidates[i])\n",
    "                path.pop()\n",
    "\n",
    "        backtrack(0, [], 0)\n",
    "        return result"
   ]
  }
 ],
 "metadata": {
  "language_info": {
   "name": "python"
  }
 },
 "nbformat": 4,
 "nbformat_minor": 5
}
