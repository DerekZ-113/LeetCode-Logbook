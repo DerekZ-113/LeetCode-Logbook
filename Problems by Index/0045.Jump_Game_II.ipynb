{
 "cells": [
  {
   "cell_type": "markdown",
   "id": "13b7cff3",
   "metadata": {},
   "source": [
    "### 🧠 Description / Approach\n",
    "\n",
    "**Problem**:  \n",
    "Given an array of non-negative integers `nums`, where each element represents your maximum jump length at that position, return the *minimum number of jumps* to reach the last index.  \n",
    "You can assume that you can always reach the last index.\n",
    "\n",
    "**Approach**:  \n",
    "We use a greedy strategy with two pointers: `left` and `right`, which represent the current \"window\" of indices we can reach in a single jump.\n",
    "\n",
    "1. Start with both `left` and `right` at index 0.\n",
    "2. While `right` hasn’t reached or passed the last index:\n",
    "   - Loop from `left` to `right`, and track the **farthest** index we can reach from this window.\n",
    "   - Once the loop finishes, shift `left` to `right + 1`, and `right` becomes the `farthest` index we can reach.\n",
    "   - Increment the jump `result` counter.\n",
    "3. Repeat until we can reach the end.\n",
    "\n",
    "This greedy expansion ensures we always take the biggest stride at each step."
   ]
  },
  {
   "cell_type": "code",
   "execution_count": null,
   "id": "b9eb8e81",
   "metadata": {},
   "outputs": [],
   "source": [
    "class Solution:\n",
    "    def jump(self, nums: List[int]) -> int:\n",
    "        result = 0\n",
    "        left, right = 0, 0\n",
    "\n",
    "        while right < len(nums) - 1:\n",
    "            farthest = 0\n",
    "            for i in range(left, right + 1):\n",
    "                farthest = max(i + nums[i], farthest)\n",
    "            left = right + 1\n",
    "            right = farthest\n",
    "            result += 1\n",
    "\n",
    "        return result"
   ]
  },
  {
   "cell_type": "markdown",
   "id": "460b23d6",
   "metadata": {},
   "source": [
    "### 🧩 Key Concepts Recap\n",
    "\n",
    "- **Greedy Expansion**: Instead of exploring all paths (like BFS or DP), we expand our window as far as possible each jump.\n",
    "- **Window-based jump**: We consider each jump as a window `[left, right]`, and decide the max reach from that range.\n",
    "- **Time Complexity**: `O(n)`, as each element is visited at most twice (once when it’s in a window).\n",
    "- **Space Complexity**: `O(1)`, since no extra space beyond variables is used.\n",
    "\n",
    "This is an elegant greedy pattern problem where thinking in \"windows\" or \"layers\" (like BFS levels) makes solving it intuitive and efficient."
   ]
  }
 ],
 "metadata": {
  "language_info": {
   "name": "python"
  }
 },
 "nbformat": 4,
 "nbformat_minor": 5
}
