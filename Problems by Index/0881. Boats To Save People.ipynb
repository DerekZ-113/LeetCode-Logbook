{
 "cells": [
  {
   "cell_type": "markdown",
   "id": "9a226851",
   "metadata": {},
   "source": [
    "### Problem: Boats to Save People (Leetcode 881)\n",
    "\n",
    "Given an array `people`, where `people[i]` is the weight of the i-th person, and an integer `limit` representing the maximum weight a boat can carry, return the minimum number of boats required to carry every person. Each boat can carry at most two people at once, and the sum of their weights must not exceed `limit`.\n",
    "\n",
    "### Approach:\n",
    "\n",
    "- **Greedy + Two Pointers**\n",
    "  - First, sort the list of people by weight.\n",
    "  - Use two pointers:\n",
    "    - `left` starts at the lightest person.\n",
    "    - `right` starts at the heaviest person.\n",
    "  - In each loop:\n",
    "    - Try to pair the heaviest (`people[right]`) with the lightest (`people[left]`).\n",
    "    - If their total weight is within the limit, place both on the same boat and move both pointers inward.\n",
    "    - If not, place the heaviest person alone and move only the `right` pointer.\n",
    "  - Each loop iteration represents one boat used.\n",
    "- Loop ends when all people are assigned to boats.\n",
    "\n",
    "This strategy minimizes the number of boats by always trying to make full use of boat capacity."
   ]
  },
  {
   "cell_type": "code",
   "execution_count": null,
   "id": "8de12c8e",
   "metadata": {},
   "outputs": [],
   "source": [
    "class Solution:\n",
    "    def numRescueBoats(self, people: List[int], limit: int) -> int:\n",
    "        # Initialize the number of boats used\n",
    "        boats = 0\n",
    "\n",
    "        # Sort the list so we can efficiently pair the lightest and heaviest\n",
    "        people.sort()\n",
    "\n",
    "        # Two pointers: one at the lightest (left), one at the heaviest (right)\n",
    "        left = 0\n",
    "        right = len(people) - 1\n",
    "\n",
    "        # Loop until all people are placed in boats\n",
    "        while left <= right:\n",
    "            # Try to pair the lightest and heaviest person together\n",
    "            current = people[right] + people[left]\n",
    "\n",
    "            if current <= limit:\n",
    "                # If they can share a boat, move both pointers inward\n",
    "                left += 1\n",
    "                right -= 1\n",
    "            else:\n",
    "                # If not, the heavier person goes alone\n",
    "                right -= 1\n",
    "\n",
    "            # In either case, we used one boat\n",
    "            boats += 1\n",
    "\n",
    "        return boats"
   ]
  },
  {
   "cell_type": "markdown",
   "id": "6b82109f",
   "metadata": {},
   "source": [
    "### Key Concepts:\n",
    "\n",
    "- **Greedy Strategy**: Always make the optimal local choice — pair the lightest and heaviest whenever possible to minimize boats.\n",
    "- **Two Pointers**: One scanning from the lightest (`left`) and the other from the heaviest (`right`).\n",
    "- **Sorting**: Required to make the greedy pairing efficient and accurate.\n",
    "- **Time Complexity**: O(n log n) due to sorting; the two-pointer scan is O(n).\n",
    "- **Space Complexity**: O(1) extra space, in-place two-pointer scan after sorting.\n",
    "\n",
    "This is a textbook greedy problem that rewards thinking in terms of *capacity utilization*. You don't need to brute-force all pairings — just be smart about weight balancing."
   ]
  }
 ],
 "metadata": {
  "language_info": {
   "name": "python"
  }
 },
 "nbformat": 4,
 "nbformat_minor": 5
}
