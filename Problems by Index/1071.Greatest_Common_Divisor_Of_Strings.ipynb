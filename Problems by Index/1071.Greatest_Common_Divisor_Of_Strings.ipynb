{
 "cells": [
  {
   "cell_type": "markdown",
   "id": "b1ecde05",
   "metadata": {},
   "source": [
    "### 🧾 Description / Approach\n",
    "\n",
    "We are given two strings `str1` and `str2`, and we want to find the **largest string** that divides both — meaning the string can be repeated to fully build both `str1` and `str2`.\n",
    "\n",
    "There are two major approaches:\n",
    "\n",
    "#### ✅ Brute Force Approach (First Block)\n",
    "1. **Check from longest to shortest** possible substring of `str1`.\n",
    "2. For each candidate substring, see if it **can repeatedly form both `str1` and `str2`**.\n",
    "3. Use a helper `isRepeated()` to verify if the pattern *multiplied* forms the full string.\n",
    "4. Return the first (i.e., longest) candidate that works.\n",
    "\n",
    "#### ⚡ Optimal Math-Based Approach (Second Block)\n",
    "1. If `str1 + str2` ≠ `str2 + str1`, there's **no common base**, so return `\"\"`.\n",
    "2. If they're equal, the common divisor must exist.\n",
    "3. Return the **substring from the beginning** of `str1` with a length equal to `gcd(len(str1), len(str2))`.\n",
    "\n",
    "This leverages the math behind repeated string patterns and string concatenation properties."
   ]
  },
  {
   "cell_type": "code",
   "execution_count": null,
   "id": "9bdafe86",
   "metadata": {},
   "outputs": [
    {
     "name": "stdout",
     "output_type": "stream",
     "text": [
      "0\n"
     ]
    }
   ],
   "source": [
    "class Solution:\n",
    "    def isRepeated(self, s, pattern) -> bool:\n",
    "        # Check if using the pattern can build up to the string\n",
    "        # If mode is not 0, meaning the length won't match\n",
    "        if len(s) % len(pattern) != 0:\n",
    "            return False\n",
    "            # Return true for using the pattern to build up to the string\n",
    "        return pattern * (len(s) // len(pattern)) == s\n",
    "\n",
    "    def gcdOfStrings(self, str1: str, str2: str) -> str:\n",
    "        # Pick the shorter string\n",
    "        min_length = min(len(str1), len(str2))\n",
    "\n",
    "        # Work from the longest to shortest\n",
    "        for i in range(min_length, 0 , -1):\n",
    "            # Get the candidate\n",
    "            candidate = str1[:i]\n",
    "            # Check if the candidate will work on both strings\n",
    "            if self.isRepeated(str1, candidate) and self.isRepeated(str2, candidate):\n",
    "                # Both true, return the candidate\n",
    "                return candidate\n",
    "\n",
    "        # No common divisor found\n",
    "        return \"\""
   ]
  },
  {
   "cell_type": "code",
   "execution_count": null,
   "id": "368ccbbe",
   "metadata": {},
   "outputs": [],
   "source": [
    "class Solution:\n",
    "    def gcdOfStrings(self, str1: str, str2: str) -> str:\n",
    "        if str1 + str2 != str2 + str1:\n",
    "            return \"\"\n",
    "\n",
    "        length = gcd(len(str1), len(str2))\n",
    "\n",
    "        return str1[:length]"
   ]
  },
  {
   "cell_type": "markdown",
   "id": "374bb0d0",
   "metadata": {},
   "source": [
    "### 🧠 Key Concepts Recap\n",
    "\n",
    "- **String Divisibility**: A string `x` divides `y` if `y = x + x + ... + x` (some number of times).\n",
    "- **Repeated String Check**: `pattern * (len(s) // len(pattern)) == s`\n",
    "- **Optimization with Math**:\n",
    "  - If `str1 + str2 != str2 + str1`, no common repeated base can exist.\n",
    "  - The greatest common divisor of their lengths gives us the correct candidate length.\n",
    "- **Time Complexity**:\n",
    "  - Brute Force: `O(n^2)` in the worst case.\n",
    "  - Optimal: `O(n + m)` for concat and slice operations, `O(log(min(n, m)))` for GCD."
   ]
  }
 ],
 "metadata": {
  "kernelspec": {
   "display_name": "Python 3",
   "language": "python",
   "name": "python3"
  },
  "language_info": {
   "codemirror_mode": {
    "name": "ipython",
    "version": 3
   },
   "file_extension": ".py",
   "mimetype": "text/x-python",
   "name": "python",
   "nbconvert_exporter": "python",
   "pygments_lexer": "ipython3",
   "version": "3.13.0"
  }
 },
 "nbformat": 4,
 "nbformat_minor": 5
}
