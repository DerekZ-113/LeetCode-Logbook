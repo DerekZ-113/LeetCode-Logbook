{
 "cells": [
  {
   "cell_type": "markdown",
   "id": "e525571e",
   "metadata": {},
   "source": [
    "## 377. Combination Sum IV\n",
    "\n",
    "### 📝 Description\n",
    "Given an array of **distinct integers** `nums` and a target integer `target`, return the **number of possible combinations** that add up to the target.\n",
    "\n",
    "The order of numbers **matters** (i.e., `[1,2]` and `[2,1]` are different combinations).\n",
    "\n",
    "---\n",
    "\n",
    "### ⚙️ Approach\n",
    "Use **bottom-up dynamic programming (DP)**:\n",
    "\n",
    "1. Create a DP array `dp` of size `target + 1`, where `dp[i]` represents the number of combinations that sum up to `i`.\n",
    "2. Initialize `dp[0] = 1`, since there's one way to make sum `0` — by choosing nothing.\n",
    "3. For each total `t` from `1` to `target`:\n",
    "   - For each number `num` in `nums`:\n",
    "     - If `num ≤ t`, then add `dp[t - num]` to `dp[t]`.\n",
    "\n",
    "This builds the number of combinations iteratively for every sub-target.\n",
    "\n",
    "---\n",
    "\n",
    "### 🧠 Key Concepts\n",
    "- **Order Matters**:\n",
    "  - Unlike classic combination problems, `[1,2]` and `[2,1]` count as separate combinations.\n",
    "- **DP Definition**:\n",
    "  - `dp[t] += dp[t - num]` means: if we can form `t - num`, we can form `t` by adding `num` to it.\n",
    "- **Time Complexity**: O(n × target)\n",
    "- **Space Complexity**: O(target)\n",
    "\n",
    "---\n",
    "\n",
    "### 🔍 Example\n",
    "```python\n",
    "Input: nums = [1, 2, 3], target = 4\n",
    "\n",
    "Combinations:\n",
    "- [1,1,1,1]\n",
    "- [1,1,2]\n",
    "- [1,2,1]\n",
    "- [2,1,1]\n",
    "- [2,2]\n",
    "- [1,3]\n",
    "- [3,1]\n",
    "\n",
    "Output: 7"
   ]
  },
  {
   "cell_type": "code",
   "execution_count": null,
   "id": "4bf3aef2",
   "metadata": {},
   "outputs": [],
   "source": [
    "class Solution:\n",
    "    def combinationSum4(self, nums: List[int], target: int) -> int:\n",
    "        dp = [0] * (target + 1)\n",
    "        dp[0] = 1\n",
    "\n",
    "        for total in range(1, target + 1):\n",
    "            for num in nums:\n",
    "                if total >= num:\n",
    "                    dp[total] += dp[total - num]\n",
    "\n",
    "        return dp[target]"
   ]
  }
 ],
 "metadata": {
  "language_info": {
   "name": "python"
  }
 },
 "nbformat": 4,
 "nbformat_minor": 5
}
