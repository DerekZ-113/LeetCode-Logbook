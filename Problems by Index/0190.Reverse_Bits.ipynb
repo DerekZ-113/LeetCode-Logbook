{
 "cells": [
  {
   "cell_type": "markdown",
   "id": "bb5569c9",
   "metadata": {},
   "source": [
    "### 🧩 Problem: Reverse Bits (LeetCode #190)\n",
    "\n",
    "Given a 32-bit unsigned integer `n`, reverse its bits and return the resulting integer.\n",
    "\n",
    "### 🔍 Example\n",
    "Input: `n = 43261596`  \n",
    "Binary: `00000010100101000001111010011100`  \n",
    "Output: `964176192`  \n",
    "Binary: `00111001011110000010100101000000`\n",
    "\n",
    "### 💡 Approach\n",
    "\n",
    "1. Initialize a result `res = 0`\n",
    "2. Loop 32 times (because `n` is a 32-bit integer):\n",
    "   - Use `n & 1` to get the **least significant bit** (rightmost)\n",
    "   - Shift `res` left by 1 to make space\n",
    "   - OR it with the current bit\n",
    "   - Shift `n` right by 1 to move to the next bit\n",
    "3. Return the result\n",
    "\n",
    "This essentially builds the reversed number from the LSB to the MSB."
   ]
  },
  {
   "cell_type": "code",
   "execution_count": 1,
   "id": "eccdd3e6",
   "metadata": {},
   "outputs": [],
   "source": [
    "class Solution:\n",
    "    def reverseBits(self, n: int) -> int:\n",
    "        result = 0\n",
    "\n",
    "        for _ in range(32):\n",
    "            # Will only be 1 if the bit is 1\n",
    "            bit = n & 1\n",
    "            \n",
    "            # move result 1 left bit, and have that bit be the current bit\n",
    "            result = result << 1 | bit\n",
    "\n",
    "            # move n 1 right bit\n",
    "            n >>= 1\n",
    "        \n",
    "        return result"
   ]
  },
  {
   "cell_type": "code",
   "execution_count": 2,
   "id": "48a0cc5b",
   "metadata": {},
   "outputs": [
    {
     "name": "stdout",
     "output_type": "stream",
     "text": [
      "1260388352\n"
     ]
    }
   ],
   "source": [
    "sol = Solution()\n",
    "result = sol.reverseBits(1234)\n",
    "\n",
    "print(result)"
   ]
  },
  {
   "cell_type": "markdown",
   "id": "c69acdcd",
   "metadata": {},
   "source": [
    "### 🧠 Key Concepts Recap\n",
    "\n",
    "- `& 1` isolates the **last bit** of `n` (either 0 or 1).\n",
    "- `<< 1` shifts bits **left** (like multiplying by 2), making room on the right.\n",
    "- `| bit` adds the current bit to the result.\n",
    "- `>>= 1` shifts bits **right** to read the next bit of `n`.\n",
    "- By doing this 32 times, we rebuild the reversed binary number bit by bit.\n",
    "- Time complexity: `O(1)` because it's always 32 operations.\n",
    "- Space complexity: `O(1)`"
   ]
  }
 ],
 "metadata": {
  "kernelspec": {
   "display_name": "Python 3",
   "language": "python",
   "name": "python3"
  },
  "language_info": {
   "codemirror_mode": {
    "name": "ipython",
    "version": 3
   },
   "file_extension": ".py",
   "mimetype": "text/x-python",
   "name": "python",
   "nbconvert_exporter": "python",
   "pygments_lexer": "ipython3",
   "version": "3.13.0"
  }
 },
 "nbformat": 4,
 "nbformat_minor": 5
}
