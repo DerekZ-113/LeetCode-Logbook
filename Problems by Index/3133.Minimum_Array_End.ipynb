{
 "cells": [
  {
   "cell_type": "markdown",
   "id": "be27733d",
   "metadata": {},
   "source": [
    "### 🧠 Description / Approach\n",
    "\n",
    "**Problem**:  \n",
    "You are given two integers `n` and `x`. Construct an increasing sequence of `n` integers where:\n",
    "- The first number is `x`.\n",
    "- Every number is **strictly greater** than the previous.\n",
    "- The **bitwise AND** of every two consecutive numbers is equal to `x`.\n",
    "\n",
    "Return the **last number** in this sequence.\n",
    "\n",
    "**Approach**:  \n",
    "We build the sequence greedily using bit manipulation.\n",
    "\n",
    "1. We're constructing a sequence that starts with `x` and satisfies the AND condition.\n",
    "2. Every next number must preserve the `1` bits of `x`, but we're free to flip 0s to 1s.\n",
    "3. So we:\n",
    "   - Record all bit positions in `x` that are **0** (we're allowed to flip these).\n",
    "   - Treat `k = n - 1` as a binary number to decide which 0-bit positions to flip.\n",
    "   - For each bit `i` in `k` that is `1`, we flip the corresponding 0-bit in `x` using OR.\n",
    "\n",
    "This constructs the `(n-1)`-th version of such modified sequences and gives the final result."
   ]
  },
  {
   "cell_type": "code",
   "execution_count": null,
   "id": "98aca443",
   "metadata": {},
   "outputs": [],
   "source": [
    "class Solution:\n",
    "    def minEnd(self, n: int, x: int) -> int:\n",
    "        # Record 0s that can be flipped in x\n",
    "        mask = []\n",
    "\n",
    "        # Check 0s from x\n",
    "        for i in range(60):\n",
    "            if ((x >> i) & 1) == 0:\n",
    "                mask.append(i)\n",
    "\n",
    "        # \n",
    "        k = n - 1\n",
    "        # Start at x\n",
    "        result = x\n",
    "\n",
    "        # \n",
    "        for i in range(len(mask)):\n",
    "            # \n",
    "            if (k >> i) & 1 == 1:\n",
    "                # \n",
    "                result |= (1 << mask[i])\n",
    "\n",
    "        return result"
   ]
  },
  {
   "cell_type": "markdown",
   "id": "d0e744ff",
   "metadata": {},
   "source": [
    "### 🧩 Key Concepts Recap\n",
    "\n",
    "- **Bitmasking**: Use bitwise operators to analyze and modify bit patterns.\n",
    "- **Preserve `x`**: Every number in the sequence must have `x` as a subset of its bits (`num & x == x`).\n",
    "- **Mask Building**: Record indices of bits in `x` that are 0 (i.e., flexible bits).\n",
    "- **Binary Mapping**: Use `k = n - 1` as a bitmask to decide which 0-bit positions to flip.\n",
    "- **Bitwise OR `|=`**: Flip the bits based on `k`'s binary representation.\n",
    "\n",
    "- **Time Complexity**: `O(60)` → constant time for all practical inputs.\n",
    "- **Space Complexity**: `O(60)` for storing bit positions (also constant).\n",
    "\n",
    "This is a clever bitmask construction problem. You're not building an actual array — just **simulating** the change needed to reach the `n`th version of a valid number."
   ]
  }
 ],
 "metadata": {
  "language_info": {
   "name": "python"
  }
 },
 "nbformat": 4,
 "nbformat_minor": 5
}
