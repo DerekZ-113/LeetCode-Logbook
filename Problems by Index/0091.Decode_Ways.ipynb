{
 "cells": [
  {
   "cell_type": "markdown",
   "id": "639bf3fa",
   "metadata": {},
   "source": [
    "### 📝 Problem #91 – **Decode Ways**\n",
    "\n",
    "> **Prompt**  \n",
    "> Given a string `s` containing only digits (`'0' – '9'`), count how many different ways it can be decoded into letters using the mapping **A → 1, B → 2, …, Z → 26**.\n",
    "\n",
    "**🚀 High-Level Approach**\n",
    "\n",
    "1. **Dynamic Programming**  \n",
    "   - Let `dp[i]` be the number of ways to decode the suffix `s[i:]`.\n",
    "\n",
    "2. **Base Case**  \n",
    "   - `dp[n] = 1` — once you consume the whole string, you’ve completed **one** valid decoding.\n",
    "\n",
    "3. **Transition (work right → left)**  \n",
    "   - **Single digit** (`s[i] ≠ '0'`): add `dp[i + 1]`.  \n",
    "   - **Double digit** (`10 ≤ int(s[i:i+2]) ≤ 26`): add `dp[i + 2]`.\n",
    "\n",
    "4. **Space Optimization**  \n",
    "   - Track only two variables:  \n",
    "     `one_ahead = dp[i + 1]`, `two_ahead = dp[i + 2]`; compute `current`, then slide the window.\n",
    "\n",
    "5. **Answer**  \n",
    "   - After the sweep, return `one_ahead` (which equals `dp[0]`)."
   ]
  },
  {
   "cell_type": "code",
   "execution_count": null,
   "id": "51d4233b",
   "metadata": {},
   "outputs": [],
   "source": [
    "class Solution:\n",
    "    def numDecodings(self, s: str) -> int:\n",
    "        \"\"\"\n",
    "        O(n) time / O(1) space implementation of the DP sweep.\n",
    "        \"\"\"\n",
    "\n",
    "        # dp[n]  → ways to decode an *empty* suffix = 1\n",
    "        two_ahead = 1\n",
    "\n",
    "        # dp[n-1] → ways to decode the last char: 1 if not '0', else 0\n",
    "        one_ahead = 1 if s[-1] != \"0\" else 0\n",
    "\n",
    "        # Walk from the second-to-last character down to index 0\n",
    "        for i in range(len(s) - 2, -1, -1):\n",
    "            current = 0                   # dp[i] we’re about to compute\n",
    "\n",
    "            if s[i] != \"0\":               # single-digit decode is legal\n",
    "                current += one_ahead      # add ways from i+1\n",
    "\n",
    "                # Grab the 2-char slice s[i:i+2] and see if it’s 10-26\n",
    "                if 10 <= int(s[i:i + 2]) <= 26:\n",
    "                    current += two_ahead  # add ways from i+2\n",
    "\n",
    "            # Slide the window:   dp[i+2] ← dp[i+1],  dp[i+1] ← dp[i]\n",
    "            two_ahead, one_ahead = one_ahead, current\n",
    "\n",
    "        return one_ahead                  # dp[0] → total ways"
   ]
  },
  {
   "cell_type": "markdown",
   "id": "27e32714",
   "metadata": {},
   "source": [
    "### 🔑 Key Concept Recap\n",
    "\n",
    "- **Empty suffix ≡ 1 way** – reaching index `n` means *one* completed decoding.  \n",
    "- **Zero can’t stand alone** – `'0'` is valid only in `\"10\"` or `\"20\"`.  \n",
    "- **Two-digit window** must lie in **10 – 26**; anything else is invalid.  \n",
    "- **Backward sweep + two vars** gives **O(1) space** while visiting each char once.  "
   ]
  }
 ],
 "metadata": {
  "kernelspec": {
   "display_name": "Python 3",
   "language": "python",
   "name": "python3"
  },
  "language_info": {
   "codemirror_mode": {
    "name": "ipython",
    "version": 3
   },
   "file_extension": ".py",
   "mimetype": "text/x-python",
   "name": "python",
   "nbconvert_exporter": "python",
   "pygments_lexer": "ipython3",
   "version": "3.13.0"
  }
 },
 "nbformat": 4,
 "nbformat_minor": 5
}
