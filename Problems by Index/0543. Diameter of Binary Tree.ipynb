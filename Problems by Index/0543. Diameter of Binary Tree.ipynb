{
 "cells": [
  {
   "cell_type": "markdown",
   "id": "eb50a6d5",
   "metadata": {},
   "source": []
  },
  {
   "cell_type": "code",
   "execution_count": null,
   "id": "e03e9a84",
   "metadata": {},
   "outputs": [],
   "source": [
    "# Definition for a binary tree node.\n",
    "# class TreeNode:\n",
    "#     def __init__(self, val=0, left=None, right=None):\n",
    "#         self.val = val\n",
    "#         self.left = left\n",
    "#         self.right = right\n",
    "class Solution:\n",
    "    def diameterOfBinaryTree(self, root: Optional[TreeNode]) -> int:\n",
    "        self.max_diameter = 0\n",
    "\n",
    "        def dfs(current):\n",
    "            if not current:\n",
    "                return 0\n",
    "\n",
    "            left_depth = dfs(current.left)\n",
    "            right_depth = dfs(current.right)\n",
    "\n",
    "            self.max_diameter = max(self.max_diameter, left_depth + right_depth)\n",
    "\n",
    "            return 1 + max(left_depth, right_depth)\n",
    "\n",
    "        dfs(root)\n",
    "\n",
    "        return self.max_diameter"
   ]
  },
  {
   "cell_type": "markdown",
   "id": "fa5c210c",
   "metadata": {},
   "source": []
  }
 ],
 "metadata": {
  "language_info": {
   "name": "python"
  }
 },
 "nbformat": 4,
 "nbformat_minor": 5
}
