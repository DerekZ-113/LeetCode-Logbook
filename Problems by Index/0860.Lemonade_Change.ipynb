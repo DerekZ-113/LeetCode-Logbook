{
 "cells": [
  {
   "cell_type": "markdown",
   "id": "df075f24",
   "metadata": {},
   "source": [
    "### 🍋 Description / Approach\n",
    "\n",
    "**Problem**:  \n",
    "You run a lemonade stand and each lemonade costs $5. Customers pay with either \\$5, \\$10, or \\$20 bills. Given an array `bills` representing the sequence of bills paid by customers, return `True` if you can provide the correct change to every customer; otherwise, return `False`.\n",
    "\n",
    "**Approach**:  \n",
    "Use a greedy simulation with two counters:\n",
    "- `five` to track number of \\$5 bills.\n",
    "- `ten` to track number of \\$10 bills.\n",
    "\n",
    "For each bill:\n",
    "- If it's \\$5: Just take it (no change needed).\n",
    "- If it's \\$10: Give back a \\$5 if you have it.\n",
    "- If it's \\$20: Prefer to give change as one \\$10 and one \\$5 (if possible). If not, try giving three \\$5s. If neither is possible, return `False`.\n",
    "\n",
    "This greedy method always prioritizes larger bills for change to preserve smaller ones for future transactions."
   ]
  },
  {
   "cell_type": "code",
   "execution_count": null,
   "id": "e9105d91",
   "metadata": {},
   "outputs": [],
   "source": [
    "class Solution:\n",
    "    def lemonadeChange(self, bills: List[int]) -> bool:\n",
    "        five = 0\n",
    "        ten = 0\n",
    "\n",
    "        for bill in bills:\n",
    "            if bill == 10:\n",
    "                if five > 0:\n",
    "                    five -= 1\n",
    "                    ten += 1\n",
    "                else:\n",
    "                    return False\n",
    "            elif bill == 20:\n",
    "                if ten > 0 and five > 0:\n",
    "                    ten -= 1\n",
    "                    five -= 1\n",
    "                elif five >= 3:\n",
    "                    five -= 3\n",
    "                else:\n",
    "                    return False\n",
    "            else:\n",
    "                five += 1\n",
    "\n",
    "        return True"
   ]
  },
  {
   "cell_type": "markdown",
   "id": "57c4f1e2",
   "metadata": {},
   "source": [
    "### 🧩 Key Concepts Recap\n",
    "\n",
    "- **Greedy Strategy**: Always try to give larger denominations as change first.\n",
    "- **Inventory Simulation**: Track how many \\$5 and \\$10 bills you have at any point.\n",
    "- **Failure Condition**: Return `False` immediately when exact change can't be given.\n",
    "- **Time Complexity**: `O(n)` — we iterate through the list once.\n",
    "- **Space Complexity**: `O(1)` — only two counters are used regardless of input size.\n",
    "\n",
    "This is a classic greedy exchange problem — simulate the real-life process carefully and greedily preserve smaller bills."
   ]
  }
 ],
 "metadata": {
  "kernelspec": {
   "display_name": "Python 3",
   "language": "python",
   "name": "python3"
  },
  "language_info": {
   "codemirror_mode": {
    "name": "ipython",
    "version": 3
   },
   "file_extension": ".py",
   "mimetype": "text/x-python",
   "name": "python",
   "nbconvert_exporter": "python",
   "pygments_lexer": "ipython3",
   "version": "3.13.0"
  }
 },
 "nbformat": 4,
 "nbformat_minor": 5
}
