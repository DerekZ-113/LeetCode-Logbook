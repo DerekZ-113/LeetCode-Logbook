{
 "cells": [
  {
   "cell_type": "code",
   "execution_count": null,
   "id": "4aa40285",
   "metadata": {},
   "outputs": [],
   "source": [
    "from typing import List\n",
    "\n",
    "class Solution:\n",
    "    def permute(self, nums: List[int]) -> List[List[int]]:\n",
    "        result = []\n",
    "        used = [False] * len(nums)\n",
    "\n",
    "        def backtrack(path: List[int]):\n",
    "            if len(path) == len(nums):\n",
    "                result.append(path[:])\n",
    "                return\n",
    "\n",
    "            for i in range(len(nums)):\n",
    "                if used[i]:\n",
    "                    continue\n",
    "\n",
    "                used[i] = True\n",
    "                path.append(nums[i])\n",
    "                backtrack(path)\n",
    "                path.pop()\n",
    "                used[i] = False\n",
    "\n",
    "        backtrack([])\n",
    "        return result"
   ]
  }
 ],
 "metadata": {
  "language_info": {
   "name": "python"
  }
 },
 "nbformat": 4,
 "nbformat_minor": 5
}
