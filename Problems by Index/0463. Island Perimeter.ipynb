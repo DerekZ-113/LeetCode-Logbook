{
 "cells": [
  {
   "cell_type": "code",
   "execution_count": null,
   "id": "bad4f0ea",
   "metadata": {},
   "outputs": [],
   "source": [
    "class Solution:\n",
    "    def islandPerimeter(self, grid: List[List[int]]) -> int:\n",
    "        rows = len(grid)\n",
    "        cols = len(grid[0])\n",
    "        result = 0\n",
    "\n",
    "        for row in range(rows):\n",
    "            for col in range(cols):\n",
    "                if grid[row][col] == 0:\n",
    "                    continue\n",
    "                \n",
    "                if col == 0 or grid[row][col - 1] == 0:\n",
    "                    result += 1\n",
    "                if row == 0 or grid[row - 1][col] == 0:\n",
    "                    result += 1\n",
    "                if col == cols - 1 or grid[row][col + 1] == 0:\n",
    "                    result += 1\n",
    "                if row == rows - 1 or grid[row + 1][col] == 0:\n",
    "                    result += 1\n",
    "                \n",
    "        return result"
   ]
  }
 ],
 "metadata": {
  "language_info": {
   "name": "python"
  }
 },
 "nbformat": 4,
 "nbformat_minor": 5
}
