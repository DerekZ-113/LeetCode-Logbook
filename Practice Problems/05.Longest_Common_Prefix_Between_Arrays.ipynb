{
 "cells": [
  {
   "cell_type": "markdown",
   "id": "afbdb999",
   "metadata": {},
   "source": [
    "## Problem: Longest Common Prefix (LCP) Between Arrays\n",
    "\n",
    "Date: 8/13/2025\n",
    "\n",
    "**Task:**\n",
    "Given two arrays of numbers, `firstArray` and `secondArray`. Return the length of the longest common prefix (LCP) between any pair of numbers from different arrays or `0` if no common prefix exists.\n",
    "\n",
    "**Note:** A prefix of a number is a number formed by one or more of its digits, starting from its highest-order digit. For example, `123` is a prefix of the number `12345` and `2` is a prefix of the number `234`. A common prefix of two numbers is a number, which is a prefix of both. For instance, longest common prefix (LCP) of `5655359` and `56554` is `5655` and there is no common prefix of `123` and `456`.\n",
    "\n",
    "---\n",
    "\n",
    "## Examples\n",
    "\n",
    "### Example 1\n",
    "**For** `firstArray = [25, 288, 2655, 54546, 54, 555]` and `secondArray = [2, 255, 266, 244, 26, 5, 54547]`, the output should be `solution(firstArray, secondArray) = 4`.\n",
    "\n",
    "**Explanation:**\n",
    "The best pair is `54546` from the first array and `54547` from the second array with the LCP `5454`, where `5454` is of length `4`.\n",
    "\n",
    "### Example 2\n",
    "**For** `firstArray = [25, 288, 2655, 544, 54, 555]` and `secondArray = [2, 255, 266, 244, 26, 5, 5444444]`, the output should be `solution(firstArray, secondArray) = 3`.\n",
    "\n",
    "**Explanation:**\n",
    "The best pair is `544` from the first array and `5444444` from the second array with the LCP `544`, where `544` is of length `3`.\n",
    "\n",
    "### Example 3\n",
    "**For** `firstArray = [817, 99]` and `secondArray = [1999, 1909]`, the output should be `solution(firstArray, secondArray) = 0`.\n",
    "\n",
    "**Explanation:**\n",
    "No pair of numbers from different arrays has a common prefix, hence the answer is `0`.\n",
    "\n",
    "---\n",
    "\n",
    "## Input/Output\n",
    "\n",
    "**Constraints:**\n",
    "- 1 ≤ firstArray.length ≤ 5 × 10⁴\n",
    "- 1 ≤ firstArray[i] ≤ 10⁹\n",
    "- 1 ≤ secondArray.length ≤ 5 × 10⁴\n",
    "- 1 ≤ secondArray[i] ≤ 10⁹\n",
    "\n",
    "**Execution time limit:** 4 seconds  \n",
    "**Memory limit:** 1 GB\n",
    "\n",
    "**[output] integer**\n",
    "\n",
    "Length of the longest common prefix (LCP) between any pair of numbers from different arrays."
   ]
  },
  {
   "cell_type": "code",
   "execution_count": null,
   "id": "de592028",
   "metadata": {
    "vscode": {
     "languageId": "plaintext"
    }
   },
   "outputs": [],
   "source": [
    "def solution(firstArray, secondArray):\n",
    "    # Build trie from smaller array\n",
    "    small, large = (firstArray, secondArray) if len(firstArray) <= len(secondArray) else (secondArray, firstArray)\n",
    "    \n",
    "    # Build trie\n",
    "    trie = {}\n",
    "    for num in small:\n",
    "        node = trie\n",
    "        for digit in str(num):\n",
    "            node = node.setdefault(digit, {})\n",
    "    \n",
    "    # Find max prefix length\n",
    "    result = 0\n",
    "    for num in large:\n",
    "        node = trie\n",
    "        length = 0\n",
    "        for digit in str(num):\n",
    "            if digit in node:\n",
    "                length += 1\n",
    "                node = node[digit]\n",
    "                result = max(result, length)\n",
    "            else:\n",
    "                break\n",
    "    \n",
    "    return result"
   ]
  }
 ],
 "metadata": {
  "language_info": {
   "name": "python"
  }
 },
 "nbformat": 4,
 "nbformat_minor": 5
}
