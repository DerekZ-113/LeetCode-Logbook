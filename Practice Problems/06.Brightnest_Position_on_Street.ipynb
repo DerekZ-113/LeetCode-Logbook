{
 "cells": [
  {
   "cell_type": "markdown",
   "id": "df08d69b",
   "metadata": {},
   "source": [
    "## Problem: Lamps on Coordinate Line - Maximum Illumination\n",
    "\n",
    "Date: 8/16/2025\n",
    "\n",
    "**Setup:**\n",
    "There are some lamps placed on a coordinate line. Each of these lamps illuminates some space around it within a given radius. You are given the coordinates of the lamps on the line, and the effective radius of each of the lamps' light.\n",
    "\n",
    "**Input Format:**\n",
    "In other words, you are given a two-dimensional array `lamps`, where `lamps[i]` contains information about the i^th lamp:\n",
    "- `lamps[i][0]` is an integer representing the lamp's coordinate\n",
    "- `lamps[i][1]` is a positive integer representing the effective radius of the i^th lamp\n",
    "\n",
    "That means that the i^th lamp illuminates everything in a range from `lamps[i][0] - lamps[i][1]` to `lamps[i][0] + lamps[i][1]` inclusive.\n",
    "\n",
    "**Task:**\n",
    "Your task is to find the coordinate of the point that is illuminated by the highest number of lamps. In case of a tie, return the point among them with the minimal possible coordinate.\n",
    "\n",
    "---\n",
    "\n",
    "## Example\n",
    "\n",
    "**For** `lamps = [[-2, 3], [2, 3], [2, 1]]`, the output should be `solution(lamps) = 1`.\n",
    "\n",
    "**Explanation:**\n",
    "\n",
    "The diagram shows three lamps and their illumination ranges:\n",
    "\n",
    "- The first lamp illuminates everything in range `[-2 - 3, -2 + 3] = [-5, 1]`\n",
    "- The second lamp illuminates everything in range `[2 - 3, 2 + 3] = [-1, 5]`\n",
    "- The third lamp illuminates everything in range `[2 - 1, 2 + 1] = [1, 3]`\n",
    "\n",
    "**Coverage visualization:**\n",
    "```\n",
    "Position:  -6  -5  -4  -3  -2  -1   0   1   2   3   4   5   6\n",
    "Coverage:   0   1   1   1   1   2   2   3   2   2   1   1   0\n",
    "```\n",
    "\n",
    "The only point that is illuminated by all of the lamps is `1`, hence the answer is `1`."
   ]
  },
  {
   "cell_type": "code",
   "execution_count": null,
   "id": "dbe2a588",
   "metadata": {
    "vscode": {
     "languageId": "plaintext"
    }
   },
   "outputs": [],
   "source": [
    "def solution(lamps):\n",
    "    evt = []\n",
    "    for x, r in lamps:\n",
    "        evt.append((x - r, 1))     \n",
    "        evt.append((x + r + 1, -1))  \n",
    "    evt.sort(key=lambda x: x[0])\n",
    "    cur = 0\n",
    "    best = float(\"-inf\")\n",
    "    ans = 0\n",
    "    i = 0\n",
    "    k = len(evt)\n",
    "    while i < k:\n",
    "        x = evt[i][0]\n",
    "        s = 0\n",
    "        while i < k and evt[i][0] == x:\n",
    "            s += evt[i][1]\n",
    "            i += 1\n",
    "        cur += s\n",
    "        nxt = evt[i][0] if i < k else x + 1\n",
    "        if nxt > x and cur > best:\n",
    "            best = cur\n",
    "            ans = x\n",
    "    return ans"
   ]
  }
 ],
 "metadata": {
  "language_info": {
   "name": "python"
  }
 },
 "nbformat": 4,
 "nbformat_minor": 5
}
