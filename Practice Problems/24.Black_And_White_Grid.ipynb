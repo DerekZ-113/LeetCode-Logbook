{
 "cells": [
  {
   "cell_type": "markdown",
   "id": "b56800de",
   "metadata": {},
   "source": [
    "**Problem: Black and White Grid - 2×2 Submatrix Counting**\n",
    "\n",
    "Date: 10/6/2025\n",
    "\n",
    "For a grid of black and white cells with **rows** rows and **cols** columns, you're given an array **black** that contains the **[row, column]** coordinates of all the black cells in the grid.\n",
    "\n",
    "Your task is to compute how many **2 × 2** submatrices of the grid contain exactly **blackCount** black cells, for each **0 ≤ blackCount ≤ 4**. As a result, you will return an array of **5 integers**, where the **i^th** element is the number of 2 × 2 submatrices with exactly **i** black cells.\n",
    "\n",
    "It is guaranteed that black cell coordinates in the **black** array are pairwise unique, so the same cell is not colored twice.\n",
    "\n",
    "---\n",
    "\n",
    "**Example:**\n",
    "\n",
    "For `rows = 3`, `cols = 3`, and `black = [[0, 0], [0, 1], [1, 0]]`, the output should be:\n",
    "\n",
    "`solution(rows, cols, black) = [1, 2, 0, 1, 0]`\n",
    "\n",
    "The grid looks like:\n",
    "```\n",
    "1 1 0\n",
    "1 0 0\n",
    "0 0 0\n",
    "```\n",
    "\n",
    "(where 1 = black, 0 = white)"
   ]
  },
  {
   "cell_type": "code",
   "execution_count": 1,
   "id": "81123459",
   "metadata": {},
   "outputs": [],
   "source": [
    "def solution(rows, cols, black):\n",
    "    # Convert black cells to set for O(1) lookup\n",
    "    black_set = set(tuple(cell) for cell in black)\n",
    "    \n",
    "    # Initialize result array [count_0, count_1, count_2, count_3, count_4]\n",
    "    result = [0, 0, 0, 0, 0]\n",
    "    \n",
    "    # Iterate through all possible top-left corners of 2x2 submatrices\n",
    "    for r in range(rows - 1):\n",
    "        for c in range(cols - 1):\n",
    "            # Count black cells in this 2x2 submatrix\n",
    "            black_count = 0\n",
    "            \n",
    "            # Check all 4 cells in the 2x2 submatrix\n",
    "            for dr in [0, 1]:        # delta row\n",
    "                for dc in [0, 1]:    # delta col\n",
    "                    if (r + dr, c + dc) in black_set:\n",
    "                        black_count += 1\n",
    "            \n",
    "            # Increment the appropriate counter\n",
    "            result[black_count] += 1\n",
    "    \n",
    "    return result"
   ]
  }
 ],
 "metadata": {
  "kernelspec": {
   "display_name": "Python 3",
   "language": "python",
   "name": "python3"
  },
  "language_info": {
   "codemirror_mode": {
    "name": "ipython",
    "version": 3
   },
   "file_extension": ".py",
   "mimetype": "text/x-python",
   "name": "python",
   "nbconvert_exporter": "python",
   "pygments_lexer": "ipython3",
   "version": "3.13.0"
  }
 },
 "nbformat": 4,
 "nbformat_minor": 5
}
