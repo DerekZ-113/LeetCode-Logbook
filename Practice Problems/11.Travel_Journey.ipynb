{
 "cells": [
  {
   "cell_type": "markdown",
   "id": "725d2ebe",
   "metadata": {},
   "source": [
    "## Problem: Reconstruct Travel Journey from Photos\n",
    "\n",
    "Date: 8/30/2025\n",
    "\n",
    "**Setup:**\n",
    "A traveler visited a series of unique landmarks on a journey. Unfortunately, their travel journal was damaged, and they can no longer remember the exact order of their visits. However, they do have a collection of photos, each showing exactly two landmarks that were visited consecutively (either landmark could have been visited first).\n",
    "\n",
    "**Given:**\n",
    "The collection of photos represented as pairs of landmark IDs in `travelPhotos`, help the traveler reconstruct the complete journey. \n",
    "\n",
    "**Key constraints:**\n",
    "- Each landmark was visited exactly once\n",
    "- For every consecutive pair of landmarks in the journey, there exists a photo containing both landmarks\n",
    "\n",
    "**You may reconstruct the journey in either forward or reverse order - both are considered correct.**\n",
    "\n",
    "---\n",
    "\n",
    "## Example\n",
    "\n",
    "**For** `travelPhotos = [[3, 5], [1, 4], [2, 4], [1, 5]]`,\n",
    "\n",
    "the output can be `solution(travelPhotos) = [3, 5, 1, 4, 2]`.\n",
    "\n",
    "**Explanation:**\n",
    "\n",
    "- The photos show that landmarks 3 and 5 were visited consecutively, as were 1 and 4, 2 and 4, and 1 and 5.\n",
    "- By analyzing these connections, we can determine the traveler's journey was [3, 5, 1, 4, 2].\n",
    "\n",
    "---\n",
    "\n",
    "## Analysis\n",
    "\n",
    "This is a **graph path reconstruction** problem! Specifically, it's finding an **Eulerian path** or **Hamiltonian path** depending on interpretation.\n",
    "\n",
    "**Key insights:**\n",
    "- Each photo is an edge between two landmarks (nodes)\n",
    "- We need to find a path that visits each landmark exactly once\n",
    "- This is essentially reconstructing a path through a graph where we know adjacent pairs\n",
    "\n",
    "**Pattern:** This looks like **finding a path through a graph** where:\n",
    "- Nodes = landmarks\n",
    "- Edges = photos (consecutive pairs)\n",
    "- Goal = find path visiting each node once (Hamiltonian path)"
   ]
  },
  {
   "cell_type": "code",
   "execution_count": null,
   "id": "a591f14e",
   "metadata": {
    "vscode": {
     "languageId": "plaintext"
    }
   },
   "outputs": [],
   "source": [
    "from collections import defaultdict\n",
    "\n",
    "def solution(travelPhotos):\n",
    "    graph = defaultdict(list)\n",
    "    for a, b in travelPhotos:\n",
    "        graph[a].append(b)\n",
    "        graph[b].append(a)\n",
    "    \n",
    "    # Find endpoint\n",
    "    start = next(node for node in graph if len(graph[node]) == 1)\n",
    "    \n",
    "    # DFS traversal\n",
    "    path = []\n",
    "    visited = set()\n",
    "    \n",
    "    def dfs(node):\n",
    "        visited.add(node)\n",
    "        path.append(node)\n",
    "        \n",
    "        for neighbor in graph[node]:\n",
    "            if neighbor not in visited:\n",
    "                dfs(neighbor)\n",
    "    \n",
    "    dfs(start)\n",
    "    return path"
   ]
  }
 ],
 "metadata": {
  "language_info": {
   "name": "python"
  }
 },
 "nbformat": 4,
 "nbformat_minor": 5
}
