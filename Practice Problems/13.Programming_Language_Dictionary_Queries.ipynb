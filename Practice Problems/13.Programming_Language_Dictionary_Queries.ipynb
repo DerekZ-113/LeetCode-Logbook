{
 "cells": [
  {
   "cell_type": "markdown",
   "id": "d3e74b85",
   "metadata": {},
   "source": [
    "## Problem: Programming Language Dictionary Queries\n",
    "\n",
    "Date: 9/2/2025\n",
    "\n",
    "**Setup:**\n",
    "You are developing a new programming language. You believe that ordinary dictionaries are boring, so you've decided to add a cool feature to make your language unique!\n",
    "\n",
    "You want the cool feature to be able to perform two types of queries. With two integer arrays, `a` and `b`, the two types of queries are as follows:\n",
    "\n",
    "**Query Type 1: [0, i, x]**\n",
    "- Add `x` to `a[i]` (meaning `a[i]` should be assigned the value of `a[i] + x`)\n",
    "\n",
    "**Query Type 2: [1, x]**\n",
    "- Find the total number of pairs of indices `i` and `j` such that `a[i] + b[j] = x`\n",
    "\n",
    "**Task:**\n",
    "You will be given the arrays of integers `a` and `b`, as well as `queries`, an array of queries in either of the forms described above. Your task is to implement this cool feature, perform the given queries and return an array of the results of the queries of type `[1, x]`.\n",
    "\n",
    "---\n",
    "\n",
    "## Example 1\n",
    "\n",
    "**For** `a = [1, 4]`, `b = [1, 2, 3]`, and `queries = [[1, 5], [0, 0, 2], [1, 5]]`,\n",
    "\n",
    "the output should be `solution(a, b, queries) = [1, 2]`.\n",
    "\n",
    "**The arrays look like this initially:**\n",
    "- `a = [1, 4]` and `b = [1, 2, 3]`\n",
    "\n",
    "**For the query [1, 5]**, there's only one way to form a sum of `5` using an element from each array: `5 = 4 + 1 = a[1] + b[0]`. So the result is `1`.\n",
    "\n",
    "**The query [0, 0, 2]** adds `2` to the value of `a[0]`, so the arrays now look like this:\n",
    "- `a = [3, 4]` and `b = [1, 2, 3]`\n",
    "\n",
    "**For the final query [1, 5]**, there are now two ways to form a sum of `5` using an element from each array: `5 = 3 + 2 = a[0] + b[1]` and `5 = 4 + 1 = a[1] + b[0]`. So the result is `2`.\n",
    "\n",
    "Since the two queries of type `[1, x]` gave results of `1` and `2` respectively, the answer is `[1, 2]`.\n",
    "\n",
    "---\n",
    "\n",
    "## Example 2\n",
    "\n",
    "**For** `a = [2, 3]`, `b = [1, 2, 2]`, and `queries = [[1, 4], [0, 0, 1], [1, 5]]`,\n",
    "\n",
    "the output should be `solution(a, b, queries) = ...` (cut off in image)\n"
   ]
  },
  {
   "cell_type": "code",
   "execution_count": null,
   "id": "f955d447",
   "metadata": {
    "vscode": {
     "languageId": "plaintext"
    }
   },
   "outputs": [],
   "source": [
    "from collections import Counter\n",
    "\n",
    "def solution(a, b, queries):\n",
    "    count_a = Counter(a)\n",
    "    count_b = Counter(b)\n",
    "    result = []\n",
    "    \n",
    "    for query in queries:\n",
    "        if query[0] == 0:  # Update: [0, i, x]\n",
    "            i, x = query[1], query[2]\n",
    "            \n",
    "            # Update counter\n",
    "            count_a[a[i]] -= 1\n",
    "            if count_a[a[i]] == 0:\n",
    "                del count_a[a[i]]\n",
    "            \n",
    "            a[i] += x\n",
    "            count_a[a[i]] += 1\n",
    "        \n",
    "        else:  # Count: [1, target]\n",
    "            target = query[1]\n",
    "            \n",
    "            # Iterate over smaller counter for efficiency\n",
    "            if len(count_a) <= len(count_b):\n",
    "                total = sum(freq_a * count_b.get(target - val_a, 0) \n",
    "                           for val_a, freq_a in count_a.items())\n",
    "            else:\n",
    "                total = sum(freq_b * count_a.get(target - val_b, 0) \n",
    "                           for val_b, freq_b in count_b.items())\n",
    "            \n",
    "            result.append(total)\n",
    "    \n",
    "    return result"
   ]
  }
 ],
 "metadata": {
  "language_info": {
   "name": "python"
  }
 },
 "nbformat": 4,
 "nbformat_minor": 5
}
