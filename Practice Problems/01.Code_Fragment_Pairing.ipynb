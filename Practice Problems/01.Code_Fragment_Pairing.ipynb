{
 "cells": [
  {
   "cell_type": "markdown",
   "id": "772f7d30",
   "metadata": {},
   "source": [
    "## Problem: Secret Code Fragment Pairing\n",
    "\n",
    "Date: 8/5/2025\n",
    "\n",
    "**Setup:**\n",
    "A spy agency has intercepted fragments of a secret code. Each fragment is represented as a positive integer in an array called `fragments`. The fragments need to be combined in a specific order to form the complete access code with a specific number called `accessCode`.\n",
    "\n",
    "**Your mission is to determine how many different ways the fragments can be paired to form the complete access code.** The agency's cryptography experts state that:\n",
    "\n",
    "**Rules:**\n",
    "\n",
    "1. When fragments are combined, they are simply placed next to each other (not added mathematically)\n",
    "\n",
    "2. Each specific pair of fragments (by position in array) counts as a unique combination\n",
    "\n",
    "3. The fragments can be used in any order, but each fragment position can only be used once in a combination\n",
    "\n",
    "**For example**, if fragment \"12\" is followed by fragment \"34\", the result is \"1234\".\n",
    "\n",
    "---\n",
    "\n",
    "## Examples\n",
    "\n",
    "### Example 1\n",
    "**For** `fragments = [1, 212, 12, 12]` and `accessCode = 1212`, the output should be `solution(fragments, accessCode) = 3`.\n",
    "\n",
    "We can form the access code `1212` by combining:\n",
    "- `fragments[0] = 1` with `fragments[1] = 212`\n",
    "- `fragments[2] = 12` with `fragments[3] = 12`\n",
    "- `fragments[3] = 12` with `fragments[2] = 12`\n",
    "\n",
    "Note that the last two combinations are considered different because they use different positions in the array.\n",
    "\n",
    "### Example 2\n",
    "**For** `fragments = [11, 11, 110]` and `accessCode = 11011`, the output should be `solution(fragments, accessCode) = 2`.\n",
    "\n",
    "We can form the access code `11011` by combining:\n",
    "- `fragments[2] = 110` with `fragments[0] = 11`\n",
    "- `fragments[2] = 110` with `fragments[1] = 11`\n",
    "\n",
    "Note that fragments do not need to be adjacent in the original array to be combined.\n",
    "\n",
    "### Example 3\n",
    "**For** `fragments = [777, 7, 777, 77, 77]` and `accessCode = 7777`, the output should be `solution(fragments, accessCode) = 6`.\n",
    "\n",
    "We can form the access code `7777` by combining:\n",
    "- `fragments[0] = 777` with `fragments[1] = 7`\n",
    "- `fragments[1] = 7` with `fragments[0] = 777`\n",
    "- `fragments[2] = 777` with `fragments[1] = 7`\n",
    "- `fragments[1] = 7` with `fragments[2] = 777`\n",
    "- `fragments[3] = 77` with `fragments[4] = 77`\n",
    "- `fragments[4] = 77` with `fragments[3] = 77`\n",
    "\n",
    "Note that combinations using the same values but from different positions count separately.\n",
    "\n",
    "---\n",
    "\n",
    "## Input/Output\n",
    "\n",
    "**Constraints:**\n",
    "- 2 ≤ fragments.length ≤ 3 × 10⁴\n",
    "- 1 ≤ fragments[i] ≤ 10⁹\n",
    "\n",
    "**[input] integer accessCode**\n",
    "\n",
    "A positive integer representing the complete access code.\n",
    "\n",
    "**[output] integer**\n",
    "\n",
    "Number of ways to pair fragments to form the access code.\n",
    "\n",
    "**Execution time limit:** 4 seconds  \n",
    "**Memory limit:** 1 GB"
   ]
  },
  {
   "cell_type": "code",
   "execution_count": null,
   "id": "9174b772",
   "metadata": {
    "vscode": {
     "languageId": "plaintext"
    }
   },
   "outputs": [],
   "source": [
    "def solution(fragments, accessCode):\n",
    "    target = str(accessCode)\n",
    "    count = 0\n",
    "    n = len(fragments)\n",
    "    \n",
    "    for i in range(n):\n",
    "        for j in range(n):\n",
    "            if i != j:\n",
    "                # Concatenate as strings\n",
    "                combined = str(fragments[i]) + str(fragments[j])\n",
    "                if combined == target:\n",
    "                    count += 1\n",
    "    \n",
    "    return count"
   ]
  },
  {
   "cell_type": "code",
   "execution_count": null,
   "id": "e052bc6f",
   "metadata": {
    "vscode": {
     "languageId": "plaintext"
    }
   },
   "outputs": [],
   "source": [
    "from collections import Counter\n",
    "\n",
    "def solution(fragments, accessCode):\n",
    "    target = str(accessCode)\n",
    "    counts = Counter(str(f) for f in fragments)\n",
    "    total = 0\n",
    "    \n",
    "    for prefix, count_prefix in counts.items():\n",
    "        if len(prefix) < len(target) and target.startswith(prefix):\n",
    "            suffix = target[len(prefix):]\n",
    "            count_suffix = counts.get(suffix, 0)\n",
    "            \n",
    "            if prefix == suffix:\n",
    "                total += count_prefix * (count_prefix - 1)\n",
    "            else:\n",
    "                total += count_prefix * count_suffix\n",
    "    \n",
    "    return total"
   ]
  }
 ],
 "metadata": {
  "language_info": {
   "name": "python"
  }
 },
 "nbformat": 4,
 "nbformat_minor": 5
}
