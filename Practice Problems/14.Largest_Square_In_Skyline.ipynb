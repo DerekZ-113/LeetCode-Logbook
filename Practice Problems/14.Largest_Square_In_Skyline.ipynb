{
 "cells": [
  {
   "cell_type": "markdown",
   "id": "a1d5f804",
   "metadata": {},
   "source": [
    "## Problem: Largest Square in Skyline\n",
    "\n",
    "Date: 9/7/2025\n",
    "\n",
    "**Setup:**\n",
    "You are tasked with analyzing the potential space in a cityscape outlined by a series of skyscrapers. Each skyscraper's height is represented by an element in the array `cityLine`, where the width of each skyscraper is consistently `1`, and they are placed directly adjacent to each other along a road with no gaps. \n",
    "\n",
    "**Task:**\n",
    "Your mission is to determine the largest square area that can fit within this row of skyscrapers.\n",
    "\n",
    "---\n",
    "\n",
    "## Example 1\n",
    "\n",
    "**For** `cityLine = [1, 2, 3, 2, 1]`, the output should be `solution(cityLine) = 4`.\n",
    "\n",
    "In this configuration, there are several 2×2 squares that can be accommodated within the skyscrapers, but no larger square can fit owing to the limitations of their heights.\n",
    "\n",
    "**Visual:**\n",
    "```\n",
    "[Grid showing 5 columns with heights 1, 2, 3, 2, 1]\n",
    "[A 2×2 square (highlighted in green) fits in the middle section]\n",
    "```\n",
    "\n",
    "---\n",
    "\n",
    "## Example 2\n",
    "\n",
    "**For** `cityLine = [4, 3, 4]`, the output should be `solution(cityLine) = 9`.\n",
    "\n",
    "In this scenario, a 3×3 square can fit snugly within the skyscraper setup, taking advantage of the uniform heights at the edges.\n",
    "\n",
    "**Visual:**\n",
    "```\n",
    "[Grid showing 3 columns with heights 4, 3, 4]\n",
    "[A 3×3 square (highlighted in green) fits across all three buildings]\n",
    "```"
   ]
  },
  {
   "cell_type": "code",
   "execution_count": null,
   "id": "c199768e",
   "metadata": {
    "vscode": {
     "languageId": "plaintext"
    }
   },
   "outputs": [],
   "source": [
    "def solution(cityLine):\n",
    "    stack = []\n",
    "    max_side = 0\n",
    "    cityLine.append(0)  # Force all bars to pop at end\n",
    "    \n",
    "    for i, height in enumerate(cityLine):\n",
    "        start = i\n",
    "        \n",
    "        # Pop bars taller than current\n",
    "        while stack and stack[-1][1] > height:\n",
    "            idx, h = stack.pop()\n",
    "            width = i - idx\n",
    "            # Square side limited by smaller dimension\n",
    "            max_side = max(max_side, min(h, width))\n",
    "            start = idx  # Current bar extends back\n",
    "        \n",
    "        # Only push if new height or stack empty\n",
    "        if not stack or stack[-1][1] < height:\n",
    "            stack.append((start, height))\n",
    "    \n",
    "    return max_side * max_side"
   ]
  }
 ],
 "metadata": {
  "language_info": {
   "name": "python"
  }
 },
 "nbformat": 4,
 "nbformat_minor": 5
}
