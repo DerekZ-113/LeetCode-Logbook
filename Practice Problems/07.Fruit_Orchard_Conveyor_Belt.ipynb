{
 "cells": [
  {
   "cell_type": "markdown",
   "id": "087ff506",
   "metadata": {},
   "source": [
    "## Problem: Fruit Orchard Conveyor Belt Duplicate Pairs\n",
    "\n",
    "Date: 8/18/2025\n",
    "\n",
    "**Setup:**\n",
    "You're an inspector at a large fruit orchard. After harvesting, the fruits are laid out in a long conveyor belt. Your job is to identify sections of the conveyor belt that have a significant number of duplicate fruits. \n",
    "\n",
    "**Task:**\n",
    "Specifically, you need to count the number of contiguous sections of the belt where you can form **at least k pairs** of identical fruits based on their position on the belt. Each fruit at a specific position can be part of **at most one pair** when counting towards the k pairs.\n",
    "\n",
    "---\n",
    "\n",
    "## Examples\n",
    "\n",
    "### Example 1\n",
    "**For** `fruits = [0, 1, 0, 1, 0]` and `k = 2`, the output should be `solution(fruits, k) = 3`.\n",
    "\n",
    "There are 3 contiguous sections where you can find at least k = 2 pairs of identical fruits:\n",
    "\n",
    "- `fruits[0..3] = [0, 1, 0, 1]`: One pair of fruit type `0` (at positions 0 and 2) and one pair of fruit type `1` (at positions 1 and 3).\n",
    "- `fruits[1..4] = [1, 0, 1, 0]`: One pair of fruit type `1` (at positions 0 and 2 within this section) and one pair of fruit type `0` (at positions 1 and 3 within this section).\n",
    "- `fruits[0..4] = [0, 1, 0, 1, 0]`: We can form one pair of fruit type `0` (e.g., at indices 0 and 2) and one pair of fruit type `1` (at indices 1 and 3). Note that it is not possible to form both a pair with the `0` at index `0` and the `0` at index `2`, and a pair with the `0` at index `2` and the `0` at index `4`, at the same time, since each fruit can belong to only one pair.\n",
    "\n",
    "### Example 2\n",
    "**For** `fruits = [2, 2, 2, 2, 2, 2]` and `k = 3`, the output should be `solution(fruits, k) = 1`.\n",
    "\n",
    "There is only 1 applicable contiguous section `fruits[0..5] = [2, 2, 2, 2, 2, 2]`, where you can form at least three pairs of fruit type `2` (e.g., the fruit at position 0 with position 1, position 2 with position 3, and position 4 with position 5).\n",
    "\n",
    "### Example 3\n",
    "**For** `fruits = [3, 3, 3, 1]` and `k = 1`, the output should be `solution(fruits, k) = 4`.\n",
    "\n",
    "There are 4 contiguous sections where you can find at least k = 1 pair of identical fruits:\n",
    "\n",
    "- `fruits[0..2] = [3, 3, 3]` (a pair of fruit type `3` at positions 1 and 2)\n",
    "- `fruits[0..3] = [3, 3, 3, 1]` (a pair of fruit type `3` at positions 1 and 2)\n",
    "- `fruits[1..2] = [3, 3]` (a pair of fruit type `3` at positions 0 and 1 within this section)\n",
    "- `fruits[1..3] = [3, 3, 1]` (a pair of fruit type `3` at positions 0 and 1 within this section)\n",
    "\n",
    "---\n",
    "\n",
    "## Input/Output\n",
    "\n",
    "**Constraints:**\n",
    "- 2 ≤ fruits.length ≤ 2000\n",
    "- 0 ≤ fruits[i] ≤ 10⁹\n",
    "- 1 ≤ k ≤ fruits.length / 2\n",
    "\n",
    "**Execution time limit:** 4 seconds  \n",
    "**Memory limit:** 1 GB"
   ]
  },
  {
   "cell_type": "code",
   "execution_count": null,
   "id": "cfff8286",
   "metadata": {
    "vscode": {
     "languageId": "plaintext"
    }
   },
   "outputs": [],
   "source": [
    "from collections import defaultdict\n",
    "\n",
    "def solution(fruits, k):\n",
    "    n = len(fruits)\n",
    "    \n",
    "    def count_at_most_pairs(max_pairs):\n",
    "        freq = defaultdict(int)\n",
    "        pairs = 0\n",
    "        left = 0\n",
    "        result = 0\n",
    "        \n",
    "        for right, fruit in enumerate(fruits):\n",
    "            freq[fruit] += 1\n",
    "            if freq[fruit] % 2 == 0:\n",
    "                pairs += 1\n",
    "            \n",
    "            while pairs > max_pairs:\n",
    "                left_fruit = fruits[left]\n",
    "                if freq[left_fruit] % 2 == 0:\n",
    "                    pairs -= 1\n",
    "                freq[left_fruit] -= 1\n",
    "                left += 1\n",
    "            \n",
    "            result += right - left + 1\n",
    "        \n",
    "        return result\n",
    "    \n",
    "    total = n * (n + 1) // 2\n",
    "    return total - count_at_most_pairs(k - 1)"
   ]
  }
 ],
 "metadata": {
  "language_info": {
   "name": "python"
  }
 },
 "nbformat": 4,
 "nbformat_minor": 5
}
