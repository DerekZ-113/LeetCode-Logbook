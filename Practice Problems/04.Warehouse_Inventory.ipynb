{
 "cells": [
  {
   "cell_type": "markdown",
   "id": "e43cf44d",
   "metadata": {},
   "source": [
    "## Problem: Warehouse Inventory - Contiguous Sections with K Unique Items\n",
    "\n",
    "Date: 8/11/2025\n",
    "\n",
    "**Setup:**\n",
    "You're managing inventory at a warehouse. The warehouse contains a logistics system that can identify the uniqueness of items within specified sections. Imagine you are provided with an inventory of items represented by an array where each position contains an integer representing an item type. Your task is to determine how many of these sections contain at least `k` unique types of items.\n",
    "\n",
    "---\n",
    "\n",
    "## Examples (what I can make out):\n",
    "\n",
    "### Example 1\n",
    "**For** `inventory = [3, 1, 3]` and `k = 2`, the output should be `solution(inventory, k) = 4`.\n",
    "\n",
    "There are 4 sections that satisfy the condition (having at least k = 2 unique types of items):\n",
    "- `inventory[0..2] = [3, 1, 3]`\n",
    "- `inventory[1..2] = [1, 3]`\n",
    "- (and 2 more sections)\n",
    "\n",
    "Note that the section `inventory[0..2]` is not counted because it contains the number `3` twice, and thus doesn't have 2 unique items.\n",
    "\n",
    "### Example 2\n",
    "**For** `inventory = [1, 2, 3, 4, 5]` and `k = 3`, the output should be `solution(inventory, k) = 6`.\n",
    "\n",
    "There are 6 sections that contain at least k = 3 unique types of items.\n",
    "\n",
    "### Example 3\n",
    "**For** `inventory = [3, 5, 5, 5]` and `k = 2`, the output should be `solution(inventory, k) = 0`.\n",
    "\n",
    "No sections contain at least k = 2 unique items.\n",
    "\n",
    "### Example 4\n",
    "**For** `inventory = [3, 3, 5, 5]` and `k = 1`, the output should be `solution(inventory, k) = 4` (or similar).\n",
    "\n",
    "There are 4 sections satisfying the condition with at least k = 1 unique items.\n",
    "\n",
    "---\n",
    "\n",
    "## Input/Output\n",
    "\n",
    "**Constraints:**\n",
    "- 1 ≤ inventory.length ≤ 3000\n",
    "- 1 ≤ inventory[i] ≤ 10⁴\n",
    "- 1 ≤ k ≤ 1000\n",
    "\n",
    "**Execution time limit:** 8 seconds  \n",
    "**Memory limit:** 1 GB\n",
    "\n",
    "**[output] integer**\n",
    "\n",
    "Return the number of contiguous sections each containing at least `k` unique items."
   ]
  },
  {
   "cell_type": "code",
   "execution_count": null,
   "id": "8840694d",
   "metadata": {
    "vscode": {
     "languageId": "plaintext"
    }
   },
   "outputs": [],
   "source": [
    "def solution(inventory, k):\n",
    "    n = len(inventory)\n",
    "    count = 0\n",
    "    \n",
    "    for i in range(n):\n",
    "        unique_items = set()\n",
    "        \n",
    "        for j in range(i, n):\n",
    "            unique_items.add(inventory[j])\n",
    "            \n",
    "            if len(unique_items) >= k:\n",
    "                count += 1\n",
    "    \n",
    "    return count"
   ]
  },
  {
   "cell_type": "code",
   "execution_count": null,
   "id": "f80cfc59",
   "metadata": {
    "vscode": {
     "languageId": "plaintext"
    }
   },
   "outputs": [],
   "source": [
    "def solution(inventory, k):\n",
    "    n = len(inventory)\n",
    "    \n",
    "    def count_with_at_most_k_unique(max_k):\n",
    "        from collections import defaultdict\n",
    "        freq = defaultdict(int)\n",
    "        left = 0\n",
    "        result = 0\n",
    "        \n",
    "        for right in range(n):\n",
    "            freq[inventory[right]] += 1\n",
    "            \n",
    "            while len(freq) > max_k:\n",
    "                freq[inventory[left]] -= 1\n",
    "                if freq[inventory[left]] == 0:\n",
    "                    del freq[inventory[left]]\n",
    "                left += 1\n",
    "            \n",
    "            result += right - left + 1\n",
    "        \n",
    "        return result\n",
    "    \n",
    "    total_subarrays = n * (n + 1) // 2\n",
    "    return total_subarrays - count_with_at_most_k_unique(k - 1)"
   ]
  }
 ],
 "metadata": {
  "language_info": {
   "name": "python"
  }
 },
 "nbformat": 4,
 "nbformat_minor": 5
}
