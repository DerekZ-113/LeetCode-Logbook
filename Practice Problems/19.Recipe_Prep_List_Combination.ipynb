{
 "cells": [
  {
   "cell_type": "markdown",
   "id": "3248c463",
   "metadata": {},
   "source": [
    "**Problem: Recipe Prep-List Combination**\n",
    "\n",
    "Date: 9/23/2025\n",
    "\n",
    "In cooking terms, **recipe** is a *prep-list combination* of **ingredients** if you can prepare it by mixing together the first several ingredients from your list, one after another, starting from the very beginning. More formally, string **recipe** is a *prep-list combination* of array of strings **ingredients** if there is some index `i ≥ 0` such that:\n",
    "\n",
    "```\n",
    "recipe = ingredients[0] + ingredients[1] + ... + ingredients[i]\n",
    "```\n",
    "\n",
    "**Examples:**\n",
    "\n",
    "For `ingredients = [\"flour\", \"sugar\", \"eggs\"]`:\n",
    "\n",
    "- `recipe = \"flour\"` is a *prep-list combination* of the **ingredients** array, as `ingredients[0] = recipe = \"flour\"`\n",
    "- `recipe = \"floursugar\"` is a *prep-list combination* of the **ingredients** array, as `ingredients[0] + ingredients[1] = recipe = \"floursugar\"`\n",
    "- `recipe = \"floursug\"` is **not** a *prep-list combination* of the **ingredients** array\n",
    "- `recipe = \"floureggs\"` is **not** a *prep-list combination* of the **ingredients** array\n",
    "\n",
    "**Task:** Given two arrays of ingredients **ingredients** and **recipes**, for each recipe in **recipes**, find out whether it is a *prep-list combination* of **ingredients**. As a result, return an array of length `recipes.length`, where the i^th element is `true` if `recipes[i]` is a *prep-list combination* of **ingredients**, and `false` otherwise.\n",
    "\n",
    "**Note:** You are not expected to provide the most optimal solution, but a solution with time complexity not worse than `O(ingredients.length² × recipes.length)` will fit within the execution time limit.\n",
    "\n",
    "---\n",
    "\n",
    "**Example:**\n",
    "\n",
    "For `ingredients = [\"flour\", \"sugar\", \"eggs\"]` and `recipes = [\"floursugar\", \"random\", \"flour\", \"sugarflour\", \"sugareggs\"]`, the output should be:\n",
    "\n",
    "`solution(ingredients, recipes) = [true, false, true, false, false]`\n",
    "\n",
    "**Explanation:**\n",
    "\n",
    "- `recipes[0] = \"floursugar\"` is a *prep-list combination*, as `ingredients[0] + ingredients[1] = recipes[0] = \"floursugar\"`, so `true` is appended to the result.\n",
    "- `recipes[1] = \"random\"` is not a *prep-list combination*, so `false` is appended to the result.\n",
    "- `recipes[2] = \"flour\"` is a *prep-list combination*, as `ingredients[0] = recipes[2] = \"flour\"`, so `true` is appended to the result.\n",
    "- `recipes[3] = \"sugarflour\"` is not a *prep-list combination*. It may be obtained by evaluating `ingredients[1] + ingredients[0]`, but it is not a consecutive combination. So `false` is appended to the result.\n",
    "- `recipes[4] = \"sugareggs\"` is not a *prep-list combination*. It may be obtained by evaluating `ingredients[1] + ingredients[2]`, but it is not a combination of the first ingredients of the **ingredients** array, as it doesn't start with `ingredients[0]`. So `false` is appended to the result.\n",
    "\n",
    "Thus, the resulting array is `[true, false, true, false, false]`.\n",
    "\n",
    "---\n",
    "\n",
    "**Input/Output:**\n",
    "\n",
    "- **[execution time limit]** 0.5 seconds (cpp)\n",
    "- **[memory limit]** 1 GB\n",
    "- **[input] array.string ingredients**\n",
    "  - An array of ingredients. It is guaranteed that each element only consists of English letters."
   ]
  },
  {
   "cell_type": "code",
   "execution_count": null,
   "id": "4edd54d9",
   "metadata": {
    "vscode": {
     "languageId": "plaintext"
    }
   },
   "outputs": [],
   "source": [
    "def solution(ingredients, recipes):\n",
    "    cur = \"\"\n",
    "    pref = set()\n",
    "    for s in ingredients:\n",
    "        cur += s          # Build cumulative concatenation\n",
    "        pref.add(cur)     # Store each valid prefix\n",
    "    return [r in pref for r in recipes]"
   ]
  }
 ],
 "metadata": {
  "language_info": {
   "name": "python"
  }
 },
 "nbformat": 4,
 "nbformat_minor": 5
}
