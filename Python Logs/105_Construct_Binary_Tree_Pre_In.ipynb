{
 "cells": [
  {
   "cell_type": "markdown",
   "id": "31753e8e",
   "metadata": {},
   "source": []
  },
  {
   "cell_type": "code",
   "execution_count": null,
   "id": "369560dc",
   "metadata": {},
   "outputs": [],
   "source": [
    "class Solution:\n",
    "    def buildTree(self, preorder: List[int], inorder: List[int]) -> Optional[TreeNode]:\n",
    "        # Step 1: Create a hashmap for quick index lookup in inorder\n",
    "        inorder_index_map = {val: idx for idx, val in enumerate(inorder)}\n",
    "        \n",
    "        # Step 2: Initialize pointer for preorder\n",
    "        self.pre_idx = 0\n",
    "\n",
    "        def helper(left, right):\n",
    "            if left > right:\n",
    "                return None  # Base case: no subtree\n",
    "\n",
    "            # Step 3: Pick the root from preorder\n",
    "            root_val = preorder[self.pre_idx]\n",
    "            self.pre_idx += 1\n",
    "            root = TreeNode(root_val)\n",
    "\n",
    "            # Step 4: Split inorder list to left and right subtree\n",
    "            idx = inorder_index_map[root_val]\n",
    "            \n",
    "            # Recursively build left and right\n",
    "            root.left = helper(left, idx - 1)\n",
    "            root.right = helper(idx + 1, right)\n",
    "\n",
    "            return root\n",
    "\n",
    "        return helper(0, len(inorder) - 1)\n"
   ]
  },
  {
   "cell_type": "code",
   "execution_count": null,
   "id": "62a8662a",
   "metadata": {},
   "outputs": [
    {
     "name": "stdout",
     "output_type": "stream",
     "text": [
      "1\n",
      "2\n",
      "3\n",
      "4\n"
     ]
    }
   ],
   "source": [
    "nums = [1,2,3,4,5]\n",
    "\n",
    "for i in range(len(nums)):\n",
    "    print(nums[i])\n",
    "    #print(i)"
   ]
  }
 ],
 "metadata": {
  "kernelspec": {
   "display_name": "Python 3",
   "language": "python",
   "name": "python3"
  },
  "language_info": {
   "codemirror_mode": {
    "name": "ipython",
    "version": 3
   },
   "file_extension": ".py",
   "mimetype": "text/x-python",
   "name": "python",
   "nbconvert_exporter": "python",
   "pygments_lexer": "ipython3",
   "version": "3.13.0"
  }
 },
 "nbformat": 4,
 "nbformat_minor": 5
}
