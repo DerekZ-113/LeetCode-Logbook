{
 "cells": [
  {
   "cell_type": "code",
   "execution_count": null,
   "id": "369560dc",
   "metadata": {},
   "outputs": [],
   "source": [
    "class Solution:\n",
    "    def buildTree(self, preorder: List[int], inorder: List[int]) -> Optional[TreeNode]:\n",
    "        # Step 1: Create a hashmap for quick index lookup in inorder\n",
    "        inorder_index_map = {val: idx for idx, val in enumerate(inorder)}\n",
    "        \n",
    "        # Step 2: Initialize pointer for preorder\n",
    "        self.pre_idx = 0\n",
    "\n",
    "        def helper(left, right):\n",
    "            if left > right:\n",
    "                return None  # Base case: no subtree\n",
    "\n",
    "            # Step 3: Pick the root from preorder\n",
    "            root_val = preorder[self.pre_idx]\n",
    "            self.pre_idx += 1\n",
    "            root = TreeNode(root_val)\n",
    "\n",
    "            # Step 4: Split inorder list to left and right subtree\n",
    "            idx = inorder_index_map[root_val]\n",
    "            \n",
    "            # Recursively build left and right\n",
    "            root.left = helper(left, idx - 1)\n",
    "            root.right = helper(idx + 1, right)\n",
    "\n",
    "            return root\n",
    "\n",
    "        return helper(0, len(inorder) - 1)\n"
   ]
  }
 ],
 "metadata": {
  "language_info": {
   "name": "python"
  }
 },
 "nbformat": 4,
 "nbformat_minor": 5
}
