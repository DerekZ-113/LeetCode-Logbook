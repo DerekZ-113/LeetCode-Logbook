{
 "cells": [
  {
   "cell_type": "markdown",
   "id": "edcdfbd2",
   "metadata": {},
   "source": [
    "### 198 House Robber\n",
    "Given a list of non-negative integers representing the amount of money in each house, \n",
    "return the maximum amount you can rob tonight **without alerting the police** (i.e., \n",
    "you can’t rob two adjacent houses).\n",
    "\n",
    "### Approach\n",
    "This uses **dynamic programming**. At each step, we choose:\n",
    "- `take`: rob this house + total from two steps back\n",
    "- `skip`: skip this house and take the total from the previous step  \n",
    "We store the max of those two and update for the next round.\n",
    "\n",
    "### Time & Space Complexity\n",
    "- **Time:** O(n)\n",
    "- **Space:** O(1)"
   ]
  },
  {
   "cell_type": "code",
   "execution_count": null,
   "id": "241a0427",
   "metadata": {},
   "outputs": [],
   "source": [
    "class Solution:\n",
    "    def rob(self, nums: list[int]) -> int:\n",
    "        # House right brefore the current house\n",
    "        prev1 = 0\n",
    "        # Second previous house before the current house\n",
    "        prev2 = 0\n",
    "\n",
    "        for cash in nums:\n",
    "            # Action 1: take the current house's cash\n",
    "            # Total: current cash + total up until second previous house's cash\n",
    "            take = cash + prev2\n",
    "\n",
    "            # Action 2: skip current house\n",
    "            # Total: total up until previous house's cash\n",
    "            skip = prev1\n",
    "\n",
    "            # Update prev2 to the original prev1 value\n",
    "            prev2 = prev1\n",
    "            # Update prev1 with larger result between take and skip\n",
    "            prev1 = max(take, skip)\n",
    "\n",
    "        return prev1"
   ]
  },
  {
   "cell_type": "code",
   "execution_count": 13,
   "id": "dbc69235",
   "metadata": {},
   "outputs": [
    {
     "name": "stdout",
     "output_type": "stream",
     "text": [
      "40\n"
     ]
    }
   ],
   "source": [
    "houses = [1, 4, 5, 8, 1, 4, 2, 5, 2, 10, 4, 9]\n",
    "sol = Solution()\n",
    "result = sol.rob(houses)\n",
    "print(result)"
   ]
  }
 ],
 "metadata": {
  "kernelspec": {
   "display_name": "Python 3",
   "language": "python",
   "name": "python3"
  },
  "language_info": {
   "codemirror_mode": {
    "name": "ipython",
    "version": 3
   },
   "file_extension": ".py",
   "mimetype": "text/x-python",
   "name": "python",
   "nbconvert_exporter": "python",
   "pygments_lexer": "ipython3",
   "version": "3.13.0"
  }
 },
 "nbformat": 4,
 "nbformat_minor": 5
}
